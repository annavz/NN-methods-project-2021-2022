{
 "cells": [
  {
   "cell_type": "markdown",
   "metadata": {},
   "source": [
    "Источник: https://www.kaggle.com/datafiniti/hotel-reviews?select=Datafiniti_Hotel_Reviews_Jun19.csv"
   ]
  },
  {
   "cell_type": "code",
   "execution_count": 1,
   "metadata": {},
   "outputs": [],
   "source": [
    "import pandas as pd\n",
    "from nltk import word_tokenize\n",
    "import matplotlib.pyplot as plt\n",
    "from langdetect import detect\n",
    "from tqdm import tqdm\n",
    "import numpy as np"
   ]
  },
  {
   "cell_type": "code",
   "execution_count": 15,
   "metadata": {},
   "outputs": [],
   "source": [
    "df1 = pd.read_csv('Datafiniti_Hotel_Reviews.csv')\n",
    "df2 = pd.read_csv('Datafiniti_Hotel_Reviews_Jun19.csv')"
   ]
  },
  {
   "cell_type": "markdown",
   "metadata": {},
   "source": [
    "Уникальные отзывы:"
   ]
  },
  {
   "cell_type": "code",
   "execution_count": 16,
   "metadata": {},
   "outputs": [
    {
     "data": {
      "text/plain": [
       "19660"
      ]
     },
     "execution_count": 16,
     "metadata": {},
     "output_type": "execute_result"
    }
   ],
   "source": [
    "len(set(df1['reviews.text'].tolist() + df2['reviews.text'].tolist()))"
   ]
  },
  {
   "cell_type": "code",
   "execution_count": 17,
   "metadata": {},
   "outputs": [],
   "source": [
    "df = pd.concat([df1, df2])"
   ]
  },
  {
   "cell_type": "markdown",
   "metadata": {},
   "source": [
    "Убираем дубли."
   ]
  },
  {
   "cell_type": "code",
   "execution_count": 18,
   "metadata": {},
   "outputs": [
    {
     "data": {
      "text/plain": [
       "False"
      ]
     },
     "execution_count": 18,
     "metadata": {},
     "output_type": "execute_result"
    }
   ],
   "source": [
    "df.shape == df.drop_duplicates(['id', 'reviews.text']).shape"
   ]
  },
  {
   "cell_type": "code",
   "execution_count": 19,
   "metadata": {},
   "outputs": [],
   "source": [
    "df = df.drop_duplicates(['id', 'reviews.text'])"
   ]
  },
  {
   "cell_type": "markdown",
   "metadata": {},
   "source": [
    "Убираем пустые значения вместо текста ревью."
   ]
  },
  {
   "cell_type": "code",
   "execution_count": 20,
   "metadata": {},
   "outputs": [
    {
     "data": {
      "text/html": [
       "<div>\n",
       "<style scoped>\n",
       "    .dataframe tbody tr th:only-of-type {\n",
       "        vertical-align: middle;\n",
       "    }\n",
       "\n",
       "    .dataframe tbody tr th {\n",
       "        vertical-align: top;\n",
       "    }\n",
       "\n",
       "    .dataframe thead th {\n",
       "        text-align: right;\n",
       "    }\n",
       "</style>\n",
       "<table border=\"1\" class=\"dataframe\">\n",
       "  <thead>\n",
       "    <tr style=\"text-align: right;\">\n",
       "      <th></th>\n",
       "      <th>id</th>\n",
       "      <th>dateAdded</th>\n",
       "      <th>dateUpdated</th>\n",
       "      <th>address</th>\n",
       "      <th>categories</th>\n",
       "      <th>primaryCategories</th>\n",
       "      <th>city</th>\n",
       "      <th>country</th>\n",
       "      <th>keys</th>\n",
       "      <th>latitude</th>\n",
       "      <th>...</th>\n",
       "      <th>reviews.rating</th>\n",
       "      <th>reviews.sourceURLs</th>\n",
       "      <th>reviews.text</th>\n",
       "      <th>reviews.title</th>\n",
       "      <th>reviews.userCity</th>\n",
       "      <th>reviews.userProvince</th>\n",
       "      <th>reviews.username</th>\n",
       "      <th>sourceURLs</th>\n",
       "      <th>websites</th>\n",
       "      <th>reviews.dateAdded</th>\n",
       "    </tr>\n",
       "  </thead>\n",
       "  <tbody>\n",
       "    <tr>\n",
       "      <th>6723</th>\n",
       "      <td>AVwcmcqPkufWRAb5w-y1</td>\n",
       "      <td>2015-10-23T22:32:31Z</td>\n",
       "      <td>2018-03-06T00:33:22Z</td>\n",
       "      <td>250 Spring St</td>\n",
       "      <td>Hotel,Hotels and motels</td>\n",
       "      <td>Accommodation &amp; Food Services</td>\n",
       "      <td>Charleston</td>\n",
       "      <td>US</td>\n",
       "      <td>us/sc/charleston/250springst/-518306969</td>\n",
       "      <td>32.786271</td>\n",
       "      <td>...</td>\n",
       "      <td>3.0</td>\n",
       "      <td>https://www.expedia.com/Charleston-Hotels-Holi...</td>\n",
       "      <td>NaN</td>\n",
       "      <td>Review</td>\n",
       "      <td>NaN</td>\n",
       "      <td>NaN</td>\n",
       "      <td>A verified traveler</td>\n",
       "      <td>https://foursquare.com/v/holiday-inn-express-c...</td>\n",
       "      <td>https://www.ihg.com/holidayinnexpress/hotels/u...</td>\n",
       "      <td>NaN</td>\n",
       "    </tr>\n",
       "  </tbody>\n",
       "</table>\n",
       "<p>1 rows × 26 columns</p>\n",
       "</div>"
      ],
      "text/plain": [
       "                        id             dateAdded           dateUpdated  \\\n",
       "6723  AVwcmcqPkufWRAb5w-y1  2015-10-23T22:32:31Z  2018-03-06T00:33:22Z   \n",
       "\n",
       "            address               categories              primaryCategories  \\\n",
       "6723  250 Spring St  Hotel,Hotels and motels  Accommodation & Food Services   \n",
       "\n",
       "            city country                                     keys   latitude  \\\n",
       "6723  Charleston      US  us/sc/charleston/250springst/-518306969  32.786271   \n",
       "\n",
       "      ...  reviews.rating                                 reviews.sourceURLs  \\\n",
       "6723  ...             3.0  https://www.expedia.com/Charleston-Hotels-Holi...   \n",
       "\n",
       "     reviews.text reviews.title reviews.userCity reviews.userProvince  \\\n",
       "6723          NaN        Review              NaN                  NaN   \n",
       "\n",
       "         reviews.username                                         sourceURLs  \\\n",
       "6723  A verified traveler  https://foursquare.com/v/holiday-inn-express-c...   \n",
       "\n",
       "                                               websites reviews.dateAdded  \n",
       "6723  https://www.ihg.com/holidayinnexpress/hotels/u...               NaN  \n",
       "\n",
       "[1 rows x 26 columns]"
      ]
     },
     "execution_count": 20,
     "metadata": {},
     "output_type": "execute_result"
    }
   ],
   "source": [
    "df[df['reviews.text'].isna()]"
   ]
  },
  {
   "cell_type": "code",
   "execution_count": 21,
   "metadata": {},
   "outputs": [],
   "source": [
    "df = df.dropna(subset=['reviews.text'], axis=0)"
   ]
  },
  {
   "cell_type": "markdown",
   "metadata": {},
   "source": [
    "Обработаем категории. Оставим только Accommodation & Food Services для более узкой тематики."
   ]
  },
  {
   "cell_type": "code",
   "execution_count": 22,
   "metadata": {},
   "outputs": [
    {
     "data": {
      "text/html": [
       "<div>\n",
       "<style scoped>\n",
       "    .dataframe tbody tr th:only-of-type {\n",
       "        vertical-align: middle;\n",
       "    }\n",
       "\n",
       "    .dataframe tbody tr th {\n",
       "        vertical-align: top;\n",
       "    }\n",
       "\n",
       "    .dataframe thead th {\n",
       "        text-align: right;\n",
       "    }\n",
       "</style>\n",
       "<table border=\"1\" class=\"dataframe\">\n",
       "  <thead>\n",
       "    <tr style=\"text-align: right;\">\n",
       "      <th></th>\n",
       "      <th>id</th>\n",
       "      <th>dateAdded</th>\n",
       "      <th>dateUpdated</th>\n",
       "      <th>address</th>\n",
       "      <th>categories</th>\n",
       "      <th>city</th>\n",
       "      <th>country</th>\n",
       "      <th>keys</th>\n",
       "      <th>latitude</th>\n",
       "      <th>longitude</th>\n",
       "      <th>...</th>\n",
       "      <th>reviews.rating</th>\n",
       "      <th>reviews.sourceURLs</th>\n",
       "      <th>reviews.text</th>\n",
       "      <th>reviews.title</th>\n",
       "      <th>reviews.userCity</th>\n",
       "      <th>reviews.userProvince</th>\n",
       "      <th>reviews.username</th>\n",
       "      <th>sourceURLs</th>\n",
       "      <th>websites</th>\n",
       "      <th>reviews.dateAdded</th>\n",
       "    </tr>\n",
       "    <tr>\n",
       "      <th>primaryCategories</th>\n",
       "      <th></th>\n",
       "      <th></th>\n",
       "      <th></th>\n",
       "      <th></th>\n",
       "      <th></th>\n",
       "      <th></th>\n",
       "      <th></th>\n",
       "      <th></th>\n",
       "      <th></th>\n",
       "      <th></th>\n",
       "      <th></th>\n",
       "      <th></th>\n",
       "      <th></th>\n",
       "      <th></th>\n",
       "      <th></th>\n",
       "      <th></th>\n",
       "      <th></th>\n",
       "      <th></th>\n",
       "      <th></th>\n",
       "      <th></th>\n",
       "      <th></th>\n",
       "    </tr>\n",
       "  </thead>\n",
       "  <tbody>\n",
       "    <tr>\n",
       "      <th>Accommodation &amp; Food Services</th>\n",
       "      <td>19603</td>\n",
       "      <td>19603</td>\n",
       "      <td>19603</td>\n",
       "      <td>19603</td>\n",
       "      <td>19603</td>\n",
       "      <td>19603</td>\n",
       "      <td>19603</td>\n",
       "      <td>19603</td>\n",
       "      <td>19603</td>\n",
       "      <td>19603</td>\n",
       "      <td>...</td>\n",
       "      <td>19603</td>\n",
       "      <td>19603</td>\n",
       "      <td>19603</td>\n",
       "      <td>19601</td>\n",
       "      <td>13805</td>\n",
       "      <td>12352</td>\n",
       "      <td>19603</td>\n",
       "      <td>19603</td>\n",
       "      <td>19603</td>\n",
       "      <td>0</td>\n",
       "    </tr>\n",
       "    <tr>\n",
       "      <th>Accommodation &amp; Food Services,Administrative &amp; Support &amp; Waste Management &amp; Remediation</th>\n",
       "      <td>1</td>\n",
       "      <td>1</td>\n",
       "      <td>1</td>\n",
       "      <td>1</td>\n",
       "      <td>1</td>\n",
       "      <td>1</td>\n",
       "      <td>1</td>\n",
       "      <td>1</td>\n",
       "      <td>1</td>\n",
       "      <td>1</td>\n",
       "      <td>...</td>\n",
       "      <td>1</td>\n",
       "      <td>1</td>\n",
       "      <td>1</td>\n",
       "      <td>1</td>\n",
       "      <td>1</td>\n",
       "      <td>1</td>\n",
       "      <td>1</td>\n",
       "      <td>1</td>\n",
       "      <td>1</td>\n",
       "      <td>0</td>\n",
       "    </tr>\n",
       "    <tr>\n",
       "      <th>Accommodation &amp; Food Services,Agriculture</th>\n",
       "      <td>1</td>\n",
       "      <td>1</td>\n",
       "      <td>1</td>\n",
       "      <td>1</td>\n",
       "      <td>1</td>\n",
       "      <td>1</td>\n",
       "      <td>1</td>\n",
       "      <td>1</td>\n",
       "      <td>1</td>\n",
       "      <td>1</td>\n",
       "      <td>...</td>\n",
       "      <td>1</td>\n",
       "      <td>1</td>\n",
       "      <td>1</td>\n",
       "      <td>1</td>\n",
       "      <td>1</td>\n",
       "      <td>1</td>\n",
       "      <td>1</td>\n",
       "      <td>1</td>\n",
       "      <td>1</td>\n",
       "      <td>0</td>\n",
       "    </tr>\n",
       "    <tr>\n",
       "      <th>Accommodation &amp; Food Services,Arts Entertainment &amp; Recreation</th>\n",
       "      <td>8</td>\n",
       "      <td>8</td>\n",
       "      <td>8</td>\n",
       "      <td>8</td>\n",
       "      <td>8</td>\n",
       "      <td>8</td>\n",
       "      <td>8</td>\n",
       "      <td>8</td>\n",
       "      <td>8</td>\n",
       "      <td>8</td>\n",
       "      <td>...</td>\n",
       "      <td>8</td>\n",
       "      <td>8</td>\n",
       "      <td>8</td>\n",
       "      <td>8</td>\n",
       "      <td>7</td>\n",
       "      <td>7</td>\n",
       "      <td>8</td>\n",
       "      <td>8</td>\n",
       "      <td>8</td>\n",
       "      <td>0</td>\n",
       "    </tr>\n",
       "    <tr>\n",
       "      <th>Arts Entertainment &amp; Recreation</th>\n",
       "      <td>45</td>\n",
       "      <td>45</td>\n",
       "      <td>45</td>\n",
       "      <td>45</td>\n",
       "      <td>45</td>\n",
       "      <td>45</td>\n",
       "      <td>45</td>\n",
       "      <td>45</td>\n",
       "      <td>45</td>\n",
       "      <td>45</td>\n",
       "      <td>...</td>\n",
       "      <td>45</td>\n",
       "      <td>45</td>\n",
       "      <td>45</td>\n",
       "      <td>45</td>\n",
       "      <td>18</td>\n",
       "      <td>15</td>\n",
       "      <td>45</td>\n",
       "      <td>45</td>\n",
       "      <td>45</td>\n",
       "      <td>0</td>\n",
       "    </tr>\n",
       "    <tr>\n",
       "      <th>Healthcare &amp; Social Assistance,Accommodation &amp; Food Services</th>\n",
       "      <td>18</td>\n",
       "      <td>18</td>\n",
       "      <td>18</td>\n",
       "      <td>18</td>\n",
       "      <td>18</td>\n",
       "      <td>18</td>\n",
       "      <td>18</td>\n",
       "      <td>18</td>\n",
       "      <td>18</td>\n",
       "      <td>18</td>\n",
       "      <td>...</td>\n",
       "      <td>18</td>\n",
       "      <td>18</td>\n",
       "      <td>18</td>\n",
       "      <td>18</td>\n",
       "      <td>15</td>\n",
       "      <td>10</td>\n",
       "      <td>18</td>\n",
       "      <td>18</td>\n",
       "      <td>18</td>\n",
       "      <td>0</td>\n",
       "    </tr>\n",
       "    <tr>\n",
       "      <th>Utilities</th>\n",
       "      <td>1</td>\n",
       "      <td>1</td>\n",
       "      <td>1</td>\n",
       "      <td>1</td>\n",
       "      <td>1</td>\n",
       "      <td>1</td>\n",
       "      <td>1</td>\n",
       "      <td>1</td>\n",
       "      <td>1</td>\n",
       "      <td>1</td>\n",
       "      <td>...</td>\n",
       "      <td>1</td>\n",
       "      <td>1</td>\n",
       "      <td>1</td>\n",
       "      <td>1</td>\n",
       "      <td>1</td>\n",
       "      <td>1</td>\n",
       "      <td>1</td>\n",
       "      <td>1</td>\n",
       "      <td>1</td>\n",
       "      <td>0</td>\n",
       "    </tr>\n",
       "    <tr>\n",
       "      <th>Wholesale Trade,Accommodation &amp; Food Services</th>\n",
       "      <td>7</td>\n",
       "      <td>7</td>\n",
       "      <td>7</td>\n",
       "      <td>7</td>\n",
       "      <td>7</td>\n",
       "      <td>7</td>\n",
       "      <td>7</td>\n",
       "      <td>7</td>\n",
       "      <td>7</td>\n",
       "      <td>7</td>\n",
       "      <td>...</td>\n",
       "      <td>7</td>\n",
       "      <td>7</td>\n",
       "      <td>7</td>\n",
       "      <td>7</td>\n",
       "      <td>5</td>\n",
       "      <td>4</td>\n",
       "      <td>7</td>\n",
       "      <td>7</td>\n",
       "      <td>7</td>\n",
       "      <td>0</td>\n",
       "    </tr>\n",
       "  </tbody>\n",
       "</table>\n",
       "<p>8 rows × 25 columns</p>\n",
       "</div>"
      ],
      "text/plain": [
       "                                                       id  dateAdded  \\\n",
       "primaryCategories                                                      \n",
       "Accommodation & Food Services                       19603      19603   \n",
       "Accommodation & Food Services,Administrative & ...      1          1   \n",
       "Accommodation & Food Services,Agriculture               1          1   \n",
       "Accommodation & Food Services,Arts Entertainmen...      8          8   \n",
       "Arts Entertainment & Recreation                        45         45   \n",
       "Healthcare & Social Assistance,Accommodation & ...     18         18   \n",
       "Utilities                                               1          1   \n",
       "Wholesale Trade,Accommodation & Food Services           7          7   \n",
       "\n",
       "                                                    dateUpdated  address  \\\n",
       "primaryCategories                                                          \n",
       "Accommodation & Food Services                             19603    19603   \n",
       "Accommodation & Food Services,Administrative & ...            1        1   \n",
       "Accommodation & Food Services,Agriculture                     1        1   \n",
       "Accommodation & Food Services,Arts Entertainmen...            8        8   \n",
       "Arts Entertainment & Recreation                              45       45   \n",
       "Healthcare & Social Assistance,Accommodation & ...           18       18   \n",
       "Utilities                                                     1        1   \n",
       "Wholesale Trade,Accommodation & Food Services                 7        7   \n",
       "\n",
       "                                                    categories   city  \\\n",
       "primaryCategories                                                       \n",
       "Accommodation & Food Services                            19603  19603   \n",
       "Accommodation & Food Services,Administrative & ...           1      1   \n",
       "Accommodation & Food Services,Agriculture                    1      1   \n",
       "Accommodation & Food Services,Arts Entertainmen...           8      8   \n",
       "Arts Entertainment & Recreation                             45     45   \n",
       "Healthcare & Social Assistance,Accommodation & ...          18     18   \n",
       "Utilities                                                    1      1   \n",
       "Wholesale Trade,Accommodation & Food Services                7      7   \n",
       "\n",
       "                                                    country   keys  latitude  \\\n",
       "primaryCategories                                                              \n",
       "Accommodation & Food Services                         19603  19603     19603   \n",
       "Accommodation & Food Services,Administrative & ...        1      1         1   \n",
       "Accommodation & Food Services,Agriculture                 1      1         1   \n",
       "Accommodation & Food Services,Arts Entertainmen...        8      8         8   \n",
       "Arts Entertainment & Recreation                          45     45        45   \n",
       "Healthcare & Social Assistance,Accommodation & ...       18     18        18   \n",
       "Utilities                                                 1      1         1   \n",
       "Wholesale Trade,Accommodation & Food Services             7      7         7   \n",
       "\n",
       "                                                    longitude  ...  \\\n",
       "primaryCategories                                              ...   \n",
       "Accommodation & Food Services                           19603  ...   \n",
       "Accommodation & Food Services,Administrative & ...          1  ...   \n",
       "Accommodation & Food Services,Agriculture                   1  ...   \n",
       "Accommodation & Food Services,Arts Entertainmen...          8  ...   \n",
       "Arts Entertainment & Recreation                            45  ...   \n",
       "Healthcare & Social Assistance,Accommodation & ...         18  ...   \n",
       "Utilities                                                   1  ...   \n",
       "Wholesale Trade,Accommodation & Food Services               7  ...   \n",
       "\n",
       "                                                    reviews.rating  \\\n",
       "primaryCategories                                                    \n",
       "Accommodation & Food Services                                19603   \n",
       "Accommodation & Food Services,Administrative & ...               1   \n",
       "Accommodation & Food Services,Agriculture                        1   \n",
       "Accommodation & Food Services,Arts Entertainmen...               8   \n",
       "Arts Entertainment & Recreation                                 45   \n",
       "Healthcare & Social Assistance,Accommodation & ...              18   \n",
       "Utilities                                                        1   \n",
       "Wholesale Trade,Accommodation & Food Services                    7   \n",
       "\n",
       "                                                    reviews.sourceURLs  \\\n",
       "primaryCategories                                                        \n",
       "Accommodation & Food Services                                    19603   \n",
       "Accommodation & Food Services,Administrative & ...                   1   \n",
       "Accommodation & Food Services,Agriculture                            1   \n",
       "Accommodation & Food Services,Arts Entertainmen...                   8   \n",
       "Arts Entertainment & Recreation                                     45   \n",
       "Healthcare & Social Assistance,Accommodation & ...                  18   \n",
       "Utilities                                                            1   \n",
       "Wholesale Trade,Accommodation & Food Services                        7   \n",
       "\n",
       "                                                    reviews.text  \\\n",
       "primaryCategories                                                  \n",
       "Accommodation & Food Services                              19603   \n",
       "Accommodation & Food Services,Administrative & ...             1   \n",
       "Accommodation & Food Services,Agriculture                      1   \n",
       "Accommodation & Food Services,Arts Entertainmen...             8   \n",
       "Arts Entertainment & Recreation                               45   \n",
       "Healthcare & Social Assistance,Accommodation & ...            18   \n",
       "Utilities                                                      1   \n",
       "Wholesale Trade,Accommodation & Food Services                  7   \n",
       "\n",
       "                                                    reviews.title  \\\n",
       "primaryCategories                                                   \n",
       "Accommodation & Food Services                               19601   \n",
       "Accommodation & Food Services,Administrative & ...              1   \n",
       "Accommodation & Food Services,Agriculture                       1   \n",
       "Accommodation & Food Services,Arts Entertainmen...              8   \n",
       "Arts Entertainment & Recreation                                45   \n",
       "Healthcare & Social Assistance,Accommodation & ...             18   \n",
       "Utilities                                                       1   \n",
       "Wholesale Trade,Accommodation & Food Services                   7   \n",
       "\n",
       "                                                    reviews.userCity  \\\n",
       "primaryCategories                                                      \n",
       "Accommodation & Food Services                                  13805   \n",
       "Accommodation & Food Services,Administrative & ...                 1   \n",
       "Accommodation & Food Services,Agriculture                          1   \n",
       "Accommodation & Food Services,Arts Entertainmen...                 7   \n",
       "Arts Entertainment & Recreation                                   18   \n",
       "Healthcare & Social Assistance,Accommodation & ...                15   \n",
       "Utilities                                                          1   \n",
       "Wholesale Trade,Accommodation & Food Services                      5   \n",
       "\n",
       "                                                    reviews.userProvince  \\\n",
       "primaryCategories                                                          \n",
       "Accommodation & Food Services                                      12352   \n",
       "Accommodation & Food Services,Administrative & ...                     1   \n",
       "Accommodation & Food Services,Agriculture                              1   \n",
       "Accommodation & Food Services,Arts Entertainmen...                     7   \n",
       "Arts Entertainment & Recreation                                       15   \n",
       "Healthcare & Social Assistance,Accommodation & ...                    10   \n",
       "Utilities                                                              1   \n",
       "Wholesale Trade,Accommodation & Food Services                          4   \n",
       "\n",
       "                                                    reviews.username  \\\n",
       "primaryCategories                                                      \n",
       "Accommodation & Food Services                                  19603   \n",
       "Accommodation & Food Services,Administrative & ...                 1   \n",
       "Accommodation & Food Services,Agriculture                          1   \n",
       "Accommodation & Food Services,Arts Entertainmen...                 8   \n",
       "Arts Entertainment & Recreation                                   45   \n",
       "Healthcare & Social Assistance,Accommodation & ...                18   \n",
       "Utilities                                                          1   \n",
       "Wholesale Trade,Accommodation & Food Services                      7   \n",
       "\n",
       "                                                    sourceURLs  websites  \\\n",
       "primaryCategories                                                          \n",
       "Accommodation & Food Services                            19603     19603   \n",
       "Accommodation & Food Services,Administrative & ...           1         1   \n",
       "Accommodation & Food Services,Agriculture                    1         1   \n",
       "Accommodation & Food Services,Arts Entertainmen...           8         8   \n",
       "Arts Entertainment & Recreation                             45        45   \n",
       "Healthcare & Social Assistance,Accommodation & ...          18        18   \n",
       "Utilities                                                    1         1   \n",
       "Wholesale Trade,Accommodation & Food Services                7         7   \n",
       "\n",
       "                                                    reviews.dateAdded  \n",
       "primaryCategories                                                      \n",
       "Accommodation & Food Services                                       0  \n",
       "Accommodation & Food Services,Administrative & ...                  0  \n",
       "Accommodation & Food Services,Agriculture                           0  \n",
       "Accommodation & Food Services,Arts Entertainmen...                  0  \n",
       "Arts Entertainment & Recreation                                     0  \n",
       "Healthcare & Social Assistance,Accommodation & ...                  0  \n",
       "Utilities                                                           0  \n",
       "Wholesale Trade,Accommodation & Food Services                       0  \n",
       "\n",
       "[8 rows x 25 columns]"
      ]
     },
     "execution_count": 22,
     "metadata": {},
     "output_type": "execute_result"
    }
   ],
   "source": [
    "df.groupby('primaryCategories').count()"
   ]
  },
  {
   "cell_type": "code",
   "execution_count": 23,
   "metadata": {},
   "outputs": [],
   "source": [
    "df = df[df['primaryCategories'] == 'Accommodation & Food Services']"
   ]
  },
  {
   "cell_type": "markdown",
   "metadata": {},
   "source": [
    "Некоторые отзывы свернуты и имеют \"... More\" в конце. Уберем такие отзывы."
   ]
  },
  {
   "cell_type": "code",
   "execution_count": 24,
   "metadata": {},
   "outputs": [],
   "source": [
    "def func(text):\n",
    "    if '... More' in text:\n",
    "        return False\n",
    "    else:\n",
    "        return True\n",
    "\n",
    "df['is_full'] = df['reviews.text'].transform(lambda x: func(x))"
   ]
  },
  {
   "cell_type": "code",
   "execution_count": 25,
   "metadata": {},
   "outputs": [
    {
     "data": {
      "text/plain": [
       "(15562, 27)"
      ]
     },
     "execution_count": 25,
     "metadata": {},
     "output_type": "execute_result"
    }
   ],
   "source": [
    "df[df['is_full'] == True].shape"
   ]
  },
  {
   "cell_type": "code",
   "execution_count": 26,
   "metadata": {},
   "outputs": [],
   "source": [
    "df = df[df['is_full'] == True]"
   ]
  },
  {
   "cell_type": "markdown",
   "metadata": {},
   "source": [
    "Проверим язык и оставим только английский."
   ]
  },
  {
   "cell_type": "code",
   "execution_count": 27,
   "metadata": {},
   "outputs": [
    {
     "name": "stderr",
     "output_type": "stream",
     "text": [
      "15562it [01:30, 171.58it/s]\n"
     ]
    }
   ],
   "source": [
    "def func(x):\n",
    "    try:\n",
    "        return detect(x)\n",
    "    except Exception:\n",
    "        return 'no lang'\n",
    "\n",
    "df['lang'] = np.nan\n",
    "for num, row in tqdm(df.iterrows()):\n",
    "    lang = func(row['reviews.text'])\n",
    "    df.loc[num, 'lang'] = lang"
   ]
  },
  {
   "cell_type": "code",
   "execution_count": 28,
   "metadata": {},
   "outputs": [
    {
     "data": {
      "text/plain": [
       "(15493, 28)"
      ]
     },
     "execution_count": 28,
     "metadata": {},
     "output_type": "execute_result"
    }
   ],
   "source": [
    "df[df['lang'] == 'en'].shape"
   ]
  },
  {
   "cell_type": "code",
   "execution_count": 30,
   "metadata": {},
   "outputs": [],
   "source": [
    "df = df[df['lang'] == 'en']"
   ]
  },
  {
   "cell_type": "markdown",
   "metadata": {},
   "source": [
    "Токенизируем."
   ]
  },
  {
   "cell_type": "code",
   "execution_count": 31,
   "metadata": {},
   "outputs": [],
   "source": [
    "df['reviews.text.tokens'] = df['reviews.text'].transform(lambda x: word_tokenize(x))"
   ]
  },
  {
   "cell_type": "markdown",
   "metadata": {},
   "source": [
    "Считаем длину текстов."
   ]
  },
  {
   "cell_type": "code",
   "execution_count": 32,
   "metadata": {},
   "outputs": [],
   "source": [
    "df['reviews.length'] = df['reviews.text.tokens'].transform(lambda x: len(x))"
   ]
  },
  {
   "cell_type": "code",
   "execution_count": 33,
   "metadata": {},
   "outputs": [
    {
     "data": {
      "image/png": "[encoded data removed]",
      "text/plain": [
       "<Figure size 640x480 with 1 Axes>"
      ]
     },
     "metadata": {},
     "output_type": "display_data"
    }
   ],
   "source": [
    "plt.hist(df['reviews.length'].tolist(), bins=100)\n",
    "plt.title('Распределение отзывов по длине')\n",
    "plt.show()"
   ]
  },
  {
   "cell_type": "markdown",
   "metadata": {},
   "source": [
    "### Подготовим данные для дообучения GPT."
   ]
  },
  {
   "cell_type": "markdown",
   "metadata": {},
   "source": [
    "Уберем слишком короткие отзывы."
   ]
  },
  {
   "cell_type": "code",
   "execution_count": 36,
   "metadata": {},
   "outputs": [
    {
     "data": {
      "text/plain": [
       "(14362, 30)"
      ]
     },
     "execution_count": 36,
     "metadata": {},
     "output_type": "execute_result"
    }
   ],
   "source": [
    "df_gpt = df[df['reviews.length'] >= 20]\n",
    "df_gpt.shape"
   ]
  },
  {
   "cell_type": "markdown",
   "metadata": {},
   "source": [
    "Распределение по рейтингу."
   ]
  },
  {
   "cell_type": "code",
   "execution_count": 38,
   "metadata": {},
   "outputs": [
    {
     "data": {
      "image/png": "[encoded data removed]",
      "text/plain": [
       "<Figure size 640x480 with 1 Axes>"
      ]
     },
     "metadata": {},
     "output_type": "display_data"
    }
   ],
   "source": [
    "barchart = df_gpt[['reviews.rating', 'reviews.text']].groupby(['reviews.rating']).count()\n",
    "plt.bar(height=barchart['reviews.text'], x=barchart.index)\n",
    "plt.title('Распределение отзывов по рейтингу (от 20 токенов)')\n",
    "plt.show()"
   ]
  },
  {
   "cell_type": "code",
   "execution_count": 55,
   "metadata": {},
   "outputs": [
    {
     "data": {
      "image/png": "[encoded data removed]",
      "text/plain": [
       "<Figure size 640x480 with 1 Axes>"
      ]
     },
     "metadata": {},
     "output_type": "display_data"
    }
   ],
   "source": [
    "barchart = df_gpt[['reviews.rating', 'reviews.length']].groupby(['reviews.rating']).sum()\n",
    "plt.bar(height=barchart['reviews.length'], x=barchart.index)\n",
    "plt.title('Распределение суммарной длины отзывов \\nпо рейтингу (от 20 токенов)')\n",
    "plt.show()"
   ]
  },
  {
   "cell_type": "markdown",
   "metadata": {},
   "source": [
    "Предлагаю взять следующие пороги:"
   ]
  },
  {
   "cell_type": "code",
   "execution_count": 85,
   "metadata": {},
   "outputs": [
    {
     "data": {
      "text/plain": [
       "(3241, 30)"
      ]
     },
     "execution_count": 85,
     "metadata": {},
     "output_type": "execute_result"
    }
   ],
   "source": [
    "df_gpt[df_gpt['reviews.rating'] <= 3].shape"
   ]
  },
  {
   "cell_type": "code",
   "execution_count": 86,
   "metadata": {},
   "outputs": [
    {
     "data": {
      "image/png": "[encoded data removed]",
      "text/plain": [
       "<Figure size 640x480 with 1 Axes>"
      ]
     },
     "metadata": {},
     "output_type": "display_data"
    }
   ],
   "source": [
    "plt.hist(df_gpt[df_gpt['reviews.rating'] <= 3]['reviews.length'].tolist(), bins=100)\n",
    "plt.title('Распределение негативных отзывов от 20 до 300 токенов по длине')\n",
    "plt.show()"
   ]
  },
  {
   "cell_type": "code",
   "execution_count": 87,
   "metadata": {},
   "outputs": [
    {
     "data": {
      "text/plain": [
       "(6708, 30)"
      ]
     },
     "execution_count": 87,
     "metadata": {},
     "output_type": "execute_result"
    }
   ],
   "source": [
    "df_gpt[df_gpt['reviews.rating'] == 5].shape"
   ]
  },
  {
   "cell_type": "code",
   "execution_count": 88,
   "metadata": {},
   "outputs": [
    {
     "data": {
      "image/png": "[encoded data removed]",
      "text/plain": [
       "<Figure size 640x480 with 1 Axes>"
      ]
     },
     "metadata": {},
     "output_type": "display_data"
    }
   ],
   "source": [
    "plt.hist(df_gpt[df_gpt['reviews.rating'] == 5]['reviews.length'].tolist(), bins=100)\n",
    "plt.title('Распределение положительных отзывов от 20 до 300 токенов по длине')\n",
    "plt.show()"
   ]
  },
  {
   "cell_type": "code",
   "execution_count": 89,
   "metadata": {},
   "outputs": [],
   "source": [
    "df_gpt.to_csv('reviews_gpt.csv', sep='\\t', index=False)"
   ]
  },
  {
   "cell_type": "markdown",
   "metadata": {},
   "source": [
    "Рассмотрим отзывы любой длины и их разбивку по отелям:"
   ]
  },
  {
   "cell_type": "code",
   "execution_count": 47,
   "metadata": {},
   "outputs": [],
   "source": [
    "hotels = df_gpt[['id', 'reviews.text']].groupby('id').count().sort_values('reviews.text', ascending=False)"
   ]
  },
  {
   "cell_type": "code",
   "execution_count": 53,
   "metadata": {},
   "outputs": [
    {
     "data": {
      "text/html": [
       "<div>\n",
       "<style scoped>\n",
       "    .dataframe tbody tr th:only-of-type {\n",
       "        vertical-align: middle;\n",
       "    }\n",
       "\n",
       "    .dataframe tbody tr th {\n",
       "        vertical-align: top;\n",
       "    }\n",
       "\n",
       "    .dataframe thead th {\n",
       "        text-align: right;\n",
       "    }\n",
       "</style>\n",
       "<table border=\"1\" class=\"dataframe\">\n",
       "  <thead>\n",
       "    <tr style=\"text-align: right;\">\n",
       "      <th></th>\n",
       "      <th>reviews.text</th>\n",
       "    </tr>\n",
       "    <tr>\n",
       "      <th>id</th>\n",
       "      <th></th>\n",
       "    </tr>\n",
       "  </thead>\n",
       "  <tbody>\n",
       "    <tr>\n",
       "      <th>AVwcgshl_7pvs4fzv3ge</th>\n",
       "      <td>195</td>\n",
       "    </tr>\n",
       "    <tr>\n",
       "      <th>AVweG6e1_7pvs4fzAG7n</th>\n",
       "      <td>157</td>\n",
       "    </tr>\n",
       "    <tr>\n",
       "      <th>AWE7bZc53-Khe5l_f3pJ</th>\n",
       "      <td>144</td>\n",
       "    </tr>\n",
       "    <tr>\n",
       "      <th>AVweB_oFByjofQCxuqx2</th>\n",
       "      <td>143</td>\n",
       "    </tr>\n",
       "    <tr>\n",
       "      <th>AVwdmGkmIN2L1WUfxXj-</th>\n",
       "      <td>136</td>\n",
       "    </tr>\n",
       "    <tr>\n",
       "      <th>...</th>\n",
       "      <td>...</td>\n",
       "    </tr>\n",
       "    <tr>\n",
       "      <th>AVwd87J3_7pvs4fz-ta8</th>\n",
       "      <td>2</td>\n",
       "    </tr>\n",
       "    <tr>\n",
       "      <th>AVwc9q-HByjofQCxkFoy</th>\n",
       "      <td>2</td>\n",
       "    </tr>\n",
       "    <tr>\n",
       "      <th>AVwc_YIF_7pvs4fz1Gha</th>\n",
       "      <td>2</td>\n",
       "    </tr>\n",
       "    <tr>\n",
       "      <th>AV1TpjGm-gnIPe8DWXqu</th>\n",
       "      <td>2</td>\n",
       "    </tr>\n",
       "    <tr>\n",
       "      <th>AV1b9aye-gnIPe8DXEvo</th>\n",
       "      <td>2</td>\n",
       "    </tr>\n",
       "  </tbody>\n",
       "</table>\n",
       "<p>1124 rows × 1 columns</p>\n",
       "</div>"
      ],
      "text/plain": [
       "                      reviews.text\n",
       "id                                \n",
       "AVwcgshl_7pvs4fzv3ge           195\n",
       "AVweG6e1_7pvs4fzAG7n           157\n",
       "AWE7bZc53-Khe5l_f3pJ           144\n",
       "AVweB_oFByjofQCxuqx2           143\n",
       "AVwdmGkmIN2L1WUfxXj-           136\n",
       "...                            ...\n",
       "AVwd87J3_7pvs4fz-ta8             2\n",
       "AVwc9q-HByjofQCxkFoy             2\n",
       "AVwc_YIF_7pvs4fz1Gha             2\n",
       "AV1TpjGm-gnIPe8DWXqu             2\n",
       "AV1b9aye-gnIPe8DXEvo             2\n",
       "\n",
       "[1124 rows x 1 columns]"
      ]
     },
     "execution_count": 53,
     "metadata": {},
     "output_type": "execute_result"
    }
   ],
   "source": [
    "hotels[hotels['reviews.text'] >= 2]"
   ]
  },
  {
   "cell_type": "code",
   "execution_count": 54,
   "metadata": {},
   "outputs": [
    {
     "data": {
      "image/png": "[encoded data removed]",
      "text/plain": [
       "<Figure size 640x480 with 1 Axes>"
      ]
     },
     "metadata": {},
     "output_type": "display_data"
    }
   ],
   "source": [
    "plt.bar(x=[i for i in range(0, hotels.shape[0])], height=hotels['reviews.text'])\n",
    "plt.title('Рапределение по количеству отзывов на отель')\n",
    "plt.show()"
   ]
  },
  {
   "cell_type": "code",
   "execution_count": 92,
   "metadata": {},
   "outputs": [],
   "source": [
    "df.to_csv('reviews.csv', sep='\\t', index=False)"
   ]
  }
 ],
 "metadata": {
  "kernelspec": {
   "display_name": "Python 3",
   "language": "python",
   "name": "python3"
  },
  "language_info": {
   "codemirror_mode": {
    "name": "ipython",
    "version": 3
   },
   "file_extension": ".py",
   "mimetype": "text/x-python",
   "name": "python",
   "nbconvert_exporter": "python",
   "pygments_lexer": "ipython3",
   "version": "3.8.3"
  }
 },
 "nbformat": 4,
 "nbformat_minor": 4
}
