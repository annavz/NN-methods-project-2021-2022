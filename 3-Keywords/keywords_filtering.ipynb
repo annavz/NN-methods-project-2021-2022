{
 "cells": [
  {
   "cell_type": "code",
   "execution_count": 4,
   "metadata": {},
   "outputs": [],
   "source": [
    "import spacy\n",
    "import json\n",
    "from spacy import displacy\n",
    "import pandas as pd\n",
    "from tqdm import tqdm\n",
    "from nltk import word_tokenize"
   ]
  },
  {
   "cell_type": "markdown",
   "metadata": {},
   "source": [
    "Spacy tutorial: https://spacy.io/usage/linguistic-features"
   ]
  },
  {
   "cell_type": "code",
   "execution_count": 5,
   "metadata": {},
   "outputs": [],
   "source": [
    "reviews = pd.read_csv('reviews.csv', sep='\\t')"
   ]
  },
  {
   "cell_type": "code",
   "execution_count": 6,
   "metadata": {},
   "outputs": [],
   "source": [
    "hotels = dict()\n",
    "for id_ in reviews['id'].unique().tolist():\n",
    "    texts = reviews[reviews['id'] == id_]['reviews.text'].tolist()\n",
    "    hotels[id_] = texts"
   ]
  },
  {
   "cell_type": "code",
   "execution_count": 7,
   "metadata": {},
   "outputs": [],
   "source": [
    "nlp = spacy.load(\"en_core_web_sm\")"
   ]
  },
  {
   "cell_type": "code",
   "execution_count": 8,
   "metadata": {},
   "outputs": [
    {
     "name": "stderr",
     "output_type": "stream",
     "text": [
      "100%|██████████████████████████████████████████████████████████████████████████████| 2197/2197 [02:58<00:00, 12.31it/s]\n"
     ]
    }
   ],
   "source": [
    "noun_groups = dict()\n",
    "for id_ in tqdm(hotels.keys()):\n",
    "    texts = hotels[id_]\n",
    "    texts = ' '.join(texts)\n",
    "    texts = nlp(texts)\n",
    "    texts = list(texts.noun_chunks)\n",
    "    texts = [str(text) for text in texts]\n",
    "    noun_groups[id_] = texts"
   ]
  },
  {
   "cell_type": "code",
   "execution_count": 12,
   "metadata": {},
   "outputs": [],
   "source": [
    "#with open('noun_groups_spacy.json', 'w', encoding='utf-8') as f:\n",
    "#    f.write(json.dumps(noun_groups))"
   ]
  },
  {
   "cell_type": "code",
   "execution_count": 9,
   "metadata": {},
   "outputs": [],
   "source": [
    "with open('keywords.json', 'r', encoding='utf-8') as f:\n",
    "    keywords = f.read()\n",
    "    keywords = json.loads(keywords)"
   ]
  },
  {
   "cell_type": "code",
   "execution_count": 22,
   "metadata": {},
   "outputs": [
    {
     "name": "stderr",
     "output_type": "stream",
     "text": [
      "100%|█████████████████████████████████████████████████████████████████████████████| 2197/2197 [00:14<00:00, 156.63it/s]\n"
     ]
    }
   ],
   "source": [
    "clean_keywords = dict()\n",
    "for key in tqdm(keywords.keys()):\n",
    "    kws_pos = keywords[key]['pos']\n",
    "    kws_neg = keywords[key]['neg']\n",
    "    ngs = noun_groups[key]\n",
    "    ckws = {'pos': [],\n",
    "            'neg': []}\n",
    "    for ng in ngs:\n",
    "        if ng in kws_pos:\n",
    "            ckws['pos'].append(ng)\n",
    "        if ng in kws_neg:\n",
    "            ckws['neg'].append(ng)\n",
    "    clean_keywords[key] = ckws"
   ]
  },
  {
   "cell_type": "code",
   "execution_count": 23,
   "metadata": {},
   "outputs": [
    {
     "name": "stderr",
     "output_type": "stream",
     "text": [
      "100%|█████████████████████████████████████████████████████████████████████████████| 2197/2197 [00:02<00:00, 811.63it/s]\n"
     ]
    }
   ],
   "source": [
    "stop_words = ['a', 'an', 'the', 'this', 'that', 'our', 'your', 'my']\n",
    "black_list = set(['review', 'feedback'])\n",
    "for key in tqdm(clean_keywords.keys()):\n",
    "    words_pos = clean_keywords[key]['pos']\n",
    "    words_neg = clean_keywords[key]['neg']\n",
    "    clean_words = {'pos': [],\n",
    "                   'neg': []}\n",
    "    for word in words_pos:\n",
    "        tokens = word_tokenize(word.lower())\n",
    "        for w in stop_words:\n",
    "            if w in tokens:\n",
    "                tokens.remove(w)\n",
    "        length = len(tokens)\n",
    "        if not set(tokens).isdisjoint(black_list):\n",
    "            length = 1\n",
    "        if length != 1:\n",
    "            clean_words['pos'].append(word)\n",
    "    for word in words_neg:\n",
    "        if length != 1:\n",
    "            clean_words['neg'].append(word)\n",
    "    clean_keywords[key] = clean_words"
   ]
  },
  {
   "cell_type": "code",
   "execution_count": 25,
   "metadata": {},
   "outputs": [],
   "source": [
    "#with open('filtered_keywords.json', 'w', encoding='utf-8') as f:\n",
    "#    f.write(json.dumps(clean_keywords))"
   ]
  },
  {
   "cell_type": "code",
   "execution_count": 26,
   "metadata": {},
   "outputs": [],
   "source": [
    "with open('filtered_keywords.json', 'r', encoding='utf-8') as f:\n",
    "    np_keywords = json.loads(f.read())\n",
    "with open('non-NP_extracted_keywords.json', 'r', encoding='utf-8') as f:\n",
    "    non_np_keywords = json.loads(f.read())"
   ]
  },
  {
   "cell_type": "code",
   "execution_count": 27,
   "metadata": {},
   "outputs": [
    {
     "name": "stderr",
     "output_type": "stream",
     "text": [
      "100%|██████████████████████████████████████████████████████████████████████████| 2197/2197 [00:00<00:00, 439410.90it/s]\n"
     ]
    }
   ],
   "source": [
    "all_keywords = {}\n",
    "for key in tqdm(np_keywords.keys()):\n",
    "    np_k_pos = np_keywords[key]['pos']\n",
    "    np_k_neg = np_keywords[key]['neg']\n",
    "    non_np_k_pos = non_np_keywords[key]['pos']\n",
    "    non_np_k_neg = non_np_keywords[key]['neg']\n",
    "    total = {\n",
    "        'pos': np_k_pos + non_np_k_pos,\n",
    "        'neg': np_k_neg + non_np_k_neg,\n",
    "    }\n",
    "    all_keywords[key] = total"
   ]
  },
  {
   "cell_type": "code",
   "execution_count": 29,
   "metadata": {},
   "outputs": [],
   "source": [
    "#with open('all_keywords.json', 'w', encoding='utf-8') as f:\n",
    "#    f.write(json.dumps(all_keywords))"
   ]
  }
 ],
 "metadata": {
  "kernelspec": {
   "display_name": "Python 3",
   "language": "python",
   "name": "python3"
  },
  "language_info": {
   "codemirror_mode": {
    "name": "ipython",
    "version": 3
   },
   "file_extension": ".py",
   "mimetype": "text/x-python",
   "name": "python",
   "nbconvert_exporter": "python",
   "pygments_lexer": "ipython3",
   "version": "3.8.3"
  }
 },
 "nbformat": 4,
 "nbformat_minor": 4
}
