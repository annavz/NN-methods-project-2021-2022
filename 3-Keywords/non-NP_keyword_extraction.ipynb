{
 "cells": [
  {
   "cell_type": "code",
   "execution_count": 1,
   "metadata": {},
   "outputs": [],
   "source": [
    "import spacy\n",
    "import json\n",
    "from spacy import displacy\n",
    "import pandas as pd\n",
    "from tqdm import tqdm\n",
    "from nltk import word_tokenize"
   ]
  },
  {
   "cell_type": "code",
   "execution_count": 2,
   "metadata": {},
   "outputs": [],
   "source": [
    "with open('hotel_sentiment_sentences.json', 'r', encoding='utf-8') as f:\n",
    "    hotel_sentiment_sentences = f.read()\n",
    "    hotel_sentiment_sentences = json.loads(hotel_sentiment_sentences)"
   ]
  },
  {
   "cell_type": "code",
   "execution_count": 3,
   "metadata": {},
   "outputs": [],
   "source": [
    "nlp = spacy.load(\"en_core_web_sm\")"
   ]
  },
  {
   "cell_type": "code",
   "execution_count": 65,
   "metadata": {},
   "outputs": [],
   "source": [
    "spacy_extracted_keywords = {}"
   ]
  },
  {
   "cell_type": "code",
   "execution_count": 66,
   "metadata": {},
   "outputs": [
    {
     "name": "stderr",
     "output_type": "stream",
     "text": [
      "100%|██████████████████████████████████████████████████████████████████████████████| 2197/2197 [07:25<00:00,  4.93it/s]\n"
     ]
    }
   ],
   "source": [
    "for key in tqdm(hotel_sentiment_sentences.keys()):\n",
    "    sents_pos = hotel_sentiment_sentences[key]['pos']\n",
    "    sents_neg = hotel_sentiment_sentences[key]['neg']\n",
    "    hotel_keywords = {'pos': [],\n",
    "                      'neg': []}\n",
    "    for sents, tag in [(sents_pos, 'pos'), (sents_neg, 'neg')]:\n",
    "        keywords = []\n",
    "        for sent in sents:\n",
    "            doc = nlp(sent)\n",
    "            be_tokens = []\n",
    "            for token in doc:\n",
    "                if str(token.lemma_) == 'be':\n",
    "                    be_tokens.append(token)\n",
    "            for token in be_tokens:\n",
    "                left = list(token.lefts)\n",
    "                right = list(token.rights)\n",
    "                if (len(left) != 0)&(len(right) != 0):\n",
    "                    left = left[0]\n",
    "                    right = right[0]\n",
    "                else:\n",
    "                    continue\n",
    "                if (left.pos_ == 'NOUN')&(right.pos_ == 'ADJ'):\n",
    "                    keyword = str(right) + ' ' + str(left).lower()\n",
    "                    keywords.append(keyword)\n",
    "        hotel_keywords[tag] = keywords\n",
    "    spacy_extracted_keywords[key] = hotel_keywords"
   ]
  },
  {
   "cell_type": "code",
   "execution_count": 67,
   "metadata": {},
   "outputs": [],
   "source": [
    "#with open('non-NP_extracted_keywords.json', 'w', encoding='utf-8') as f:\n",
    "#    f.write(json.dumps(spacy_extracted_keywords))"
   ]
  },
  {
   "cell_type": "code",
   "execution_count": null,
   "metadata": {},
   "outputs": [],
   "source": []
  }
 ],
 "metadata": {
  "kernelspec": {
   "display_name": "Python 3",
   "language": "python",
   "name": "python3"
  },
  "language_info": {
   "codemirror_mode": {
    "name": "ipython",
    "version": 3
   },
   "file_extension": ".py",
   "mimetype": "text/x-python",
   "name": "python",
   "nbconvert_exporter": "python",
   "pygments_lexer": "ipython3",
   "version": "3.8.3"
  }
 },
 "nbformat": 4,
 "nbformat_minor": 4
}
