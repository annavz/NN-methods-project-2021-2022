{
  "nbformat": 4,
  "nbformat_minor": 0,
  "metadata": {
    "colab": {
      "name": "2_project_kw.ipynb",
      "provenance": [],
      "collapsed_sections": []
    },
    "kernelspec": {
      "name": "python3",
      "display_name": "Python 3"
    },
    "language_info": {
      "name": "python"
    }
  },
  "cells": [
    {
      "cell_type": "markdown",
      "source": [
        "# anya's keywords"
      ],
      "metadata": {
        "id": "LWu9dwCvIz12"
      }
    },
    {
      "cell_type": "code",
      "source": [
        "from tqdm import tqdm\n",
        "import os\n",
        "import json"
      ],
      "metadata": {
        "id": "x3k7foDoH7Hg"
      },
      "execution_count": 1,
      "outputs": []
    },
    {
      "cell_type": "code",
      "execution_count": 2,
      "metadata": {
        "colab": {
          "base_uri": "https://localhost:8080/"
        },
        "id": "1h0AMQaZHyDq",
        "outputId": "efeb4c35-3c1f-419a-ed5c-9c4e3dff5405"
      },
      "outputs": [
        {
          "output_type": "stream",
          "name": "stdout",
          "text": [
            "Mounted at /gdrive\n"
          ]
        }
      ],
      "source": [
        "import pandas as pd\n",
        "import numpy as np\n",
        "\n",
        "from google.colab import drive\n",
        "drive.mount('/gdrive')\n"
      ]
    },
    {
      "cell_type": "code",
      "source": [
        "with open(\"/gdrive/My Drive/nnproj/all_keywords.json\") as f:\n",
        "    kws = json.loads(f.read())"
      ],
      "metadata": {
        "id": "6TejFky3H84F"
      },
      "execution_count": 3,
      "outputs": []
    },
    {
      "cell_type": "code",
      "source": [
        "kws.keys() # ids of the hotels"
      ],
      "metadata": {
        "colab": {
          "base_uri": "https://localhost:8080/"
        },
        "id": "JPeKG54oIU7v",
        "outputId": "82baba2e-9d17-4298-82c8-c4f02280832b"
      },
      "execution_count": 4,
      "outputs": [
        {
          "output_type": "execute_result",
          "data": {
            "text/plain": [
              "dict_keys(['AVwc252WIN2L1WUfpqLP', 'AVwdOclqIN2L1WUfti38', 'AVwePiAX_7pvs4fzBSAl', 'AVwdUKE3_7pvs4fz4lE-', 'AVweQyWNkufWRAb5BZeg', 'AVweQDZpIN2L1WUf3TA9', 'AVwdQ0dy_7pvs4fz4BqX', 'AWE7dKHFIxWefVJwyLgA', 'AVwcfFGw_7pvs4fzvk4S', 'AVwdbM6R_7pvs4fz5wdc', 'AVwemBCCkufWRAb5EZCs', 'AWE2CYSsIxWefVJwyDrn', 'AV-TGsFqRxPSIh2RmVF-', 'AVwct7BzIN2L1WUfoHaP', 'AWKpI38Q3-Khe5l_hxUR', 'AWKlQWNQa4HuVbedPUSi', 'AVzX1GbfFcQ3k02bB73-', 'AWEhoizBa4HuVbedNJo_', 'AV-TGwqGIxWefVJwr5Ji', 'AV3O9oECIxWefVJwjraT', 'AWNSHai33-Khe5l_ifzh', 'AWE7h8u53-Khe5l_f4mi', 'AV1eTXQF3-Khe5l_NF6Q', 'AWE7h7Cta4HuVbedNeQt', 'AWE2E2OG3-Khe5l_fwmT', 'AWKpYhaja4HuVbedPVes', 'AWKkrZYpa4HuVbedPT1I', 'AVzOLyE1FcQ3k02bBr9S', 'AWE2BgHcIxWefVJwyDYU', 'AVzX37zs-gnIPe8DTHi5', 'AVzYkxFXFcQ3k02bCKjD', 'AV-TGuWBa4HuVbedGcJK', 'AWKr8UBHa4HuVbedPWl2', 'AWKuEeWka4HuVbedPXff', 'AWE7he303-Khe5l_f4kC', 'AWEw3H-UIxWefVJwyAZ0', 'AV-TGwK3IxWefVJwr5IJ', 'AWUPNmq6IxWefVJw3c71', 'AWE1_Z8-RxPSIh2Rsaks', 'AWKoW_tYa4HuVbedPVUg', 'AVwdoQs4IN2L1WUfxtHH', 'AVwdLbuu_7pvs4fz3FIK', 'AWE2CvxXa4HuVbedNVUf', 'AVweMjEcIN2L1WUf208j', 'AVwdLMav_7pvs4fz3CHy', 'AVwdZiL7kufWRAb55fnk', 'AVzOLf4aFcQ3k02bBrRN', 'AVwdLdlp_7pvs4fz3Ffc', 'AVwdcQ_1ByjofQCxpKUm', 'AVwdlxF6ByjofQCxqnI2', 'AV4zBlFx3-Khe5l_SI6V', 'AVwc93g4_7pvs4fz02fD', 'AV43XxGTIxWefVJwkpQ0', 'AWIHh69e3-Khe5l_hRq9', 'AVzOLPqy-gnIPe8DSyDW', 'AWE70c43RxPSIh2Rslyx', 'AVwegEP1IN2L1WUf5hhB', 'AVwc-7e9ByjofQCxkSN3', 'AVwc800dByjofQCxj9NN', 'AVwdNRg6_7pvs4fz3aAJ', 'AVzYm8FDFcQ3k02bCM1F', 'AVwcy8jBByjofQCxiRyD', 'AVzA2-V13D1zeR_xBA7B', 'AVwcmSKR_7pvs4fzw4Vf', 'AV6ZfnuiRxPSIh2RlHtM', 'AV50HD7R3-Khe5l_WcdI', 'AVwcolBg_7pvs4fzxSnV', 'AWEw_jvdIxWefVJwyC31', 'AVweJx1yIN2L1WUf2dB6', 'AVz1iS0Q-gnIPe8DUYOb', 'AVwdEH8rByjofQCxlJBS', 'AVwcno-SIN2L1WUfnA6k', 'AVwdTHcuByjofQCxno_3', 'AVwdjn76ByjofQCxqRer', 'AVzOLv0p-gnIPe8DSzCs', 'AVzA2-Dg3D1zeR_xBA6y', 'AV1ha6JpIxWefVJwgDSa', 'AVwctAJvkufWRAb5yHGn', 'AVwdIPxpkufWRAb52lqx', 'AWE7MLXnIxWefVJwyHZO', 'AVweKbcg_7pvs4fzAl_6', 'AVweQNpgByjofQCxwmvV', 'AVwclAQx_7pvs4fzwp8i', 'AVwdY9eSByjofQCxonFk', 'AV1eTRlWa4HuVbed6vvx', 'AVwdzuct_7pvs4fz9czc', 'AV0J-cFz-gnIPe8DU7eF', 'AVwc4_E0IN2L1WUfqAt3', 'AVzX379oFcQ3k02bCABU', 'AVwdLFvZkufWRAb53DST', 'AVwcn396ByjofQCxgWuk', 'AVwd9aCj_7pvs4fz-x4v', 'AVwc4gteByjofQCxjOB5', 'AVwc5_ErByjofQCxjeZE', 'AVwcg3rXkufWRAb5v-bM', 'AVweJA6NByjofQCxvoCB', 'AVwchMRI_7pvs4fzv9ZQ', 'AVweT72ekufWRAb5B0YQ', 'AV1tg8DXIxWefVJwhAU2', 'AWE8LfTC3-Khe5l_gKeD', 'AWE7NkBkRxPSIh2Rse5g', 'AVwdDi4c_7pvs4fz1yly', 'AV1ebL3qRxPSIh2RZ9Z4', 'AVwckmGrByjofQCxfwut', 'AVwdBxN9_7pvs4fz1fhn', 'AVyx85zH8im-6PJyHFPh', 'AVwdTauckufWRAb54fIK', 'AVwel0Z4_7pvs4fzEcCk', 'AVwcnLrgIN2L1WUfm8Ag', 'AVwck5pr_7pvs4fzwoq8', 'AVzj5QuL-gnIPe8DTupv', 'AVwdDOFxByjofQCxk_JC', 'AWENkUK9IxWefVJwxc2q', 'AVwdouC6ByjofQCxrEh-', 'AVwcgshl_7pvs4fzv3ge', 'AV1eT4k_RxPSIh2RZ5gv', 'AVz6h463LD2H7whiYPOd', 'AWEw3i5yRxPSIh2RsYCd', 'AVwciZhBIN2L1WUfmDDB', 'AVwdqHqOIN2L1WUfx_tW', 'AVwd3-Mk_7pvs4fz-BmW', 'AVwelVZLIN2L1WUf6TpO', 'AVwdk4zOByjofQCxqeEN', 'AVwdSAbxByjofQCxndJK', 'AVwem5e6IN2L1WUf6hOs', 'AWE1_85Y3-Khe5l_fvSC', 'AVwcrjlMkufWRAb5x3pl', 'AVwc9-5r_7pvs4fz0300', 'AVwctAsF_7pvs4fzyDXO', 'AVwdvE4j_7pvs4fz8yXN', 'AWCIJHukRxPSIh2Rpn0m', 'AVweS2dLByjofQCxw9tK', 'AVwdRVEDByjofQCxnV5R', 'AVwck-4bkufWRAb5wuG9', 'AVwc1YAxByjofQCxisyY', 'AV0dLPzA3D1zeR_xEeNe', 'AVwcg3N2_7pvs4fzv5ft', 'AVwdKtV9ByjofQCxmMmU', 'AVwc9lJ6IN2L1WUfqyHr', 'AVwcn_UuIN2L1WUfnE9z', 'AVweguO9ByjofQCxy5sp', 'AVwc_xwyByjofQCxkbaP', 'AVwcmz3OByjofQCxgKyJ', 'AVweWYUoByjofQCxxbOW', 'AVwddvtLkufWRAb56LSt', 'AVwc8rOXByjofQCxj7p9', 'AVweKR2p_7pvs4fzAkn5', 'AVwdIiarByjofQCxl1TI', 'AVwdULI7IN2L1WUfug3B', 'AVzfTGgI3D1zeR_xCEfw', 'AVwcs964IN2L1WUfn8s9', 'AVwdeIAvByjofQCxpcdk', 'AVwchXuuByjofQCxfJcS', 'AVwc_g7-ByjofQCxkYTs', 'AVwdMsswkufWRAb53Vy0', 'AVwc-W5uIN2L1WUfq5sp', 'AVweWs_xByjofQCxxeIo', 'AVwcutHnkufWRAb5yY8Y', 'AVwdvtxJIN2L1WUfy0QV', 'AVwdITNOkufWRAb52mIc', 'AVwdQtJyIN2L1WUft8Z-', 'AVwdeg90_7pvs4fz6R13', 'AVwdygbvIN2L1WUfzOvF', 'AV1c89jw3-Khe5l_MVmh', 'AVwdSrJx_7pvs4fz4VT2', 'AVwcsGh9_7pvs4fzx5nw', 'AVweBE1ZByjofQCxuiP3', 'AVwc4YmTByjofQCxjMpi', 'AVwcet5XIN2L1WUflZh9', 'AVweAboOkufWRAb5_LD7', 'AVwdbdo_IN2L1WUfvuW5', 'AVwc-HjcByjofQCxkKD_', 'AVwczRoS_7pvs4fzzHAx', 'AVwd_QZo_7pvs4fz_DHD', 'AVweJiq4kufWRAb5AbFH', 'AVwck0XQkufWRAb5wsZD', 'AVwc0GB9IN2L1WUfpLnq', 'AVwcfpZdIN2L1WUflkHt', 'AV46zijca4HuVbedAGzh', 'AVwdSP7IIN2L1WUfuMyQ', 'AVweKVJX_7pvs4fzAlIE', 'AVwc5D0_kufWRAb50IDu', 'AVwdQ6jC_7pvs4fz4C1V', 'AVwdUCbxkufWRAb54len', 'AVwc9Ud7IN2L1WUfqvWG', 'AVwdNf0IkufWRAb53eYL', 'AVwdoZ4oByjofQCxrBgf', 'AVwcuX3D_7pvs4fzyRwc', 'AVwczr5ZIN2L1WUfpG-3', 'AV1tiXLJ3-Khe5l_OyVc', 'AVwc9__JkufWRAb507S0', 'AVwdrngDByjofQCxrhXl', 'AVwcuMl7kufWRAb5yTzU', 'AVwdkiahkufWRAb57MdV', 'AV0XzY0D3D1zeR_xDveH', 'AVwctdCtIN2L1WUfoCNo', 'AVwc3FBckufWRAb5zyMp', 'AVwcihNvkufWRAb5wSQO', 'AVwdfPyT_7pvs4fz6Ygv', 'AVwciAExIN2L1WUfl980', 'AVwcswk2kufWRAb5yEtI', 'AVwdvr5fIN2L1WUfyz7F', 'AVwc4UhRkufWRAb5z_hu', 'AVwd6N7lByjofQCxtkwj', 'AV1eTehKIxWefVJwfcQ-', 'AVwdECc3kufWRAb517A0', 'AVwcgAGx_7pvs4fzvvsE', 'AVwdeqacIN2L1WUfwOT5', 'AVwc79vuIN2L1WUfqhQG', 'AVwcv5kmIN2L1WUfodCi', 'AVwdARF1ByjofQCxkgDX', 'AVwclFGAkufWRAb5wvQ2', 'AVwdYrkeIN2L1WUfvQ5Y', 'AVwclqdmByjofQCxf9da', 'AVwcy-z7ByjofQCxiSGX', 'AVwc_auAkufWRAb51KG0', 'AVwdggVGIN2L1WUfwgeD', 'AVwc1d-ckufWRAb5zhtw', 'AVwck7qk_7pvs4fzwpBz', 'AVwcshif_7pvs4fzx-GW', 'AVwdYu3LByjofQCxokeB', 'AVwce0-QByjofQCxetpl', 'AVwdntpgByjofQCxq6jV', 'AVwcqjlFByjofQCxg0zY', 'AV1dN3FM3-Khe5l_Ml9i', 'AVweI3SGkufWRAb5AVNA', 'AVwc0O3SIN2L1WUfpNXr', 'AVwdQvX-IN2L1WUft81h', 'AVwc-NsU_7pvs4fz06Ky', 'AVwct43gkufWRAb5yQzo', 'AVwcgs6YByjofQCxfCA0', 'AVwc2hH0ByjofQCxi40F', 'AVweiemTByjofQCxzK1F', 'AVwcp2gFIN2L1WUfnZ_K', 'AVwc1J2HkufWRAb5zedV', 'AVwc1ZBeByjofQCxis-2', 'AVwdmsxgIN2L1WUfxd2g', 'AVwdksXZByjofQCxqcX2', 'AVwdvBEu_7pvs4fz8x1n', 'AVwcncpWIN2L1WUfm-nm', 'AVweelwAkufWRAb5DStt', 'AVwcvrtf_7pvs4fzygXo', 'AVwdqlz8kufWRAb58IKh', 'AVwclijmByjofQCxf72Q', 'AVwctnEWIN2L1WUfoD7T', 'AVwdTQ-eByjofQCxnqoR', 'AWE7_gFaIxWefVJwySRq', 'AVweA6RkkufWRAb5_PYs', 'AVwdiQCbIN2L1WUfwxIt', 'AVwdgJGY_7pvs4fz6hRC', 'AVwcknX-kufWRAb5wqI-', 'AVwdGx1kIN2L1WUfsREl', 'AVwdLbCR_7pvs4fz3E_E', 'AVwdAzOmByjofQCxklSy', 'AVwc-2C-ByjofQCxkRUw', 'AVwcrOz_ByjofQCxg8lq', 'AVwdIv-nkufWRAb52qab', 'AVwelvld_7pvs4fzEbbe', 'AVwdJiRHIN2L1WUfstG2', 'AVwd_lC3_7pvs4fz_Fqp', 'AVwd4mnWkufWRAb5-F-V', 'AVwc9dgR_7pvs4fz0yTg', 'AVweYZQn_7pvs4fzCef6', 'AV1eSqqi3-Khe5l_ND9X', 'AVwdM97P_7pvs4fz3Wl2', 'AVwcvSDN_7pvs4fzybs0', 'AVwdyqou_7pvs4fz9Tv6', 'AVwdirvhkufWRAb566YH', 'AVwcssx3_7pvs4fzyAIl', 'AVwc-bXxkufWRAb50_g9', 'AWCACyWIIxWefVJwvFeo', 'AVwc2Ih4ByjofQCxi0n1', 'AVwear0JkufWRAb5CuHZ', 'AVwdP0XqByjofQCxnFOD', 'AVwdh6K4ByjofQCxqA0x', 'AVwci6DKByjofQCxfcTl', 'AVwdIMU6IN2L1WUfsfYz', 'AVwde3QykufWRAb56Vf5', 'AVwdZCNkkufWRAb55aSK', 'AV430t4ua4HuVbed_8GY', 'AVwehuno_7pvs4fzD1VE', 'AVwc1kVk_7pvs4fzzfDE', 'AVwdSCQbIN2L1WUfuKk9', 'AVwdyADJIN2L1WUfzJ7X', 'AVwcp94xkufWRAb5xlVI', 'AVwdTcOPkufWRAb54faJ', 'AV1eSnM6RxPSIh2RZ2UW', 'AVwdhhvR_7pvs4fz6u8C', 'AVwdhNIDByjofQCxp6FY', 'AVwc56FSIN2L1WUfqKny', 'AVwd4YrGkufWRAb5-D9i', 'AVwdA4prByjofQCxkmQp', 'AVwcmYpakufWRAb5w-F7', 'AVweAopYIN2L1WUf1Lu4', 'AVwdoTo5IN2L1WUfxtjk', 'AVwekNMuByjofQCxzbhw', 'AVweSefL_7pvs4fzBrws', 'AVwciw7-_7pvs4fzwQfp', 'AVwdaEtSByjofQCxoyfu', 'AVwchmWlByjofQCxfMRl', 'AV1eTa3XRxPSIh2RZ4g9', 'AVwdu_VMIN2L1WUfytWX', 'AVwc5HVjByjofQCxjU5T', 'AVwd-m1zByjofQCxuMp5', 'AVwdWptGkufWRAb55Bmj', 'AVweIKhnIN2L1WUf2OZn', 'AVwchCBeIN2L1WUflyzh', 'AVwdQV8AByjofQCxnLGE', 'AVwdKpKWkufWRAb52-u5', 'AVwdHZRhIN2L1WUfsXYe', 'AWFAYk4e3-Khe5l_ggpw', 'AWE2AflvRxPSIh2RsapS', 'AVwdCHqpIN2L1WUfrgbL', 'AVwefva7ByjofQCxywip', 'AVwd7bXeIN2L1WUf0dSW', 'AVwc7OG9_7pvs4fz0boR', 'AVwcztuoByjofQCxiaDX', 'AVwcrf5OkufWRAb5x27v', 'AVwd-eVmByjofQCxuLdF', 'AVzBEbNmFcQ3k02bBd07', 'AVwc7uurIN2L1WUfqexC', 'AWEw9jFgIxWefVJwyBzX', 'AVwclZB0kufWRAb5wyv2', 'AVwcfuFeByjofQCxe31C', 'AWE778BPRxPSIh2RsmyR', 'AVwcnNKA_7pvs4fzxDks', 'AVweHcpWkufWRAb5AI8_', 'AWIYGr06IxWefVJwzU-7', 'AVweefHwkufWRAb5DRkO', 'AVwd37XCkufWRAb59_zE', 'AVzA0608-gnIPe8DScDt', 'AVwcjPyAByjofQCxfgZd', 'AWB2c3xp3-Khe5l_cVZC', 'AWE9cbgDa4HuVbedODVc', 'AVwczUHsByjofQCxiVw7', 'AVwdV1vUkufWRAb544qz', 'AVwchPmqIN2L1WUfl1Ba', 'AVwdPeLRIN2L1WUftuQB', 'AVwdPBaX_7pvs4fz3sqC', 'AVwc-UVS_7pvs4fz07J4', 'AWCqkS1Ea4HuVbedKjtc', 'AWE7iZZra4HuVbedNeSR', 'AWIajIQMa4HuVbedO4uB', 'AVwelQLiByjofQCxzlFr', 'AV12lRqCa4HuVbed9qLQ', 'AV1c84h8a4HuVbed5_Jy', 'AV1h3NPca4HuVbed7eU8', 'AV1TpZ3j3D1zeR_xEwq3', 'AV486Nm5RxPSIh2RfwCY', 'AWE1_wwU3-Khe5l_fvRW', 'AVzeBEOHLD2H7whiXH35', 'AV7aroJkIxWefVJwrHnU', 'AV0Y-KUd3D1zeR_xD0V3', 'AVzOLoZuLD2H7whiWa_L', 'AVwcjX8oByjofQCxfiAS', 'AVwcy5K2IN2L1WUfo-Q-', 'AVwcrC6__7pvs4fzxt0Z', 'AVwd5isBkufWRAb5-ORc', 'AV0UozSd3D1zeR_xDf4b', 'AVwculHaIN2L1WUfoOhw', 'AVwd-DEG_7pvs4fz-3xL', 'AVwc6syHIN2L1WUfqTpO', 'AVwdov0JIN2L1WUfxx7p', 'AVwdDpCFByjofQCxlDvC', 'AVwdeSuv_7pvs4fz6P-E', 'AVwcwKAGByjofQCxhy9u', 'AVweK_MLIN2L1WUf2nYd', 'AVwdpW3VIN2L1WUfx33i', 'AVweh7AnByjofQCxzFJQ', 'AVwc40h__7pvs4fz0Br-', 'AVwdF4LMkufWRAb52NoX', 'AWE7WbMH3-Khe5l_f2pS', 'AVwcrCEtkufWRAb5xxoS', 'AVwdhpyykufWRAb56wlT', 'AVwcvH0KkufWRAb5ydpT', 'AVwct0d4IN2L1WUfoGLp', 'AVweQ4N_IN2L1WUf3Z26', 'AVwc3m5J_7pvs4fzz0tE', 'AVwc1MzvkufWRAb5ze8e', 'AVwdis24IN2L1WUfw1tE', 'AVwdK_oDIN2L1WUfs82l', 'AWE7JcmoIxWefVJwyF90', 'AVwdKPC__7pvs4fz23_5', 'AVweS9-SByjofQCxw-eq', 'AVwdhGiz_7pvs4fz6qjS', 'AVwd2Y6akufWRAb59yiF', 'AVweWjsYkufWRAb5CLGd', 'AVwdrvBRIN2L1WUfyPyy', 'AVwdAG-3kufWRAb51R3E', 'AVwc4T84_7pvs4fzz77C', 'AVwclAvFIN2L1WUfmiiz', 'AVwdZqsIkufWRAb55hDe', 'AV0JWKBj3D1zeR_xDTqe', 'AVzxo_taLD2H7whiX61c', 'AV488Rmya4HuVbedAaeG', 'AVwc5tET_7pvs4fz0Lkc', 'AVwco2f8_7pvs4fzxV0W', 'AVwc2U28ByjofQCxi2vA', 'AVwdNnWSByjofQCxmsJL', 'AVweeKnkkufWRAb5DOf-', 'AVwdqySTkufWRAb58KM0', 'AVwce3U7IN2L1WUflbDh', 'AVwcz48TkufWRAb5zRFy', 'AVwcw8G4IN2L1WUfoo4m', 'AVwcxQ1KkufWRAb5y1V_', 'AVwdZfwJByjofQCxostG', 'AVweT9pD_7pvs4fzB4SW', 'AVwdzNR8_7pvs4fz9YR4', 'AVweR-emIN2L1WUf3jf_', 'AVwc68x7_7pvs4fz0YnD', 'AWCACeD5IxWefVJwvFCE', 'AVwemY7tIN2L1WUf6c-u', 'AWE8MZSMa4HuVbedNwMH', 'AVwd8pBeIN2L1WUf0oTs', 'AWE8MMXI3-Khe5l_gKeX', 'AVwdyc9j_7pvs4fz9RyA', 'AVwcw506IN2L1WUfooat', 'AVwdt0G9ByjofQCxr1sW', 'AVwcmt3Q_7pvs4fzw9it', 'AVweIrnBByjofQCxvlIl', 'AVwcrGUBByjofQCxg67W', 'AVwcgfJGIN2L1WUflsx-', 'AVwcrBswkufWRAb5xxjx', 'AWE8B_BEIxWefVJwyS0V', 'AVwdO-dDkufWRAb53uJG', 'AVwcgR2jIN2L1WUflqcV', 'AVwdkA2NByjofQCxqVnd', 'AVwcp0fTByjofQCxgszV', 'AVwdodCOkufWRAb57y5T', 'AVzRUCGiFcQ3k02bBtGD', 'AVyishNkKV4T4IkwNah7', 'AVwdbNSKByjofQCxo-w3', 'AVwdkR_b_7pvs4fz7KEE', 'AVwcu5l-_7pvs4fzyXbz', 'AVwdPZBCIN2L1WUfttNM', 'AVwcoyb0ByjofQCxghKz', 'AVwdFyZ0kufWRAb52Mxf', 'AVweUb3O_7pvs4fzB8oA', 'AVwdvbRAByjofQCxsD7W', 'AWFFotMF3-Khe5l_gl2_', 'AVwdatg0ByjofQCxo5S5', 'AWCVdo9B3-Khe5l_co-n', 'AVwcpARZkufWRAb5xbjH', 'AVwcsbl6IN2L1WUfn2-N', 'AVwdKp4ZkufWRAb52-2S', 'AV_JW7Jp3-Khe5l_ZkCd', 'AVwdcoHLByjofQCxpODR', 'AVweDZahByjofQCxu3Oh', 'AVwcpFZjIN2L1WUfnRa7', 'AWEKjfDC3-Khe5l_es6x', 'AVweR2I7ByjofQCxw0mU', 'AVweFB7p_7pvs4fz_18I', 'AVwdoQnd_7pvs4fz7xO4', 'AV1c4vmma4HuVbed5sdh', 'AV1dx8MuIxWefVJwfODu', 'AVweAqEb_7pvs4fz_PEY', 'AVwc6Hq2ByjofQCxjf93', 'AVwdLoTFkufWRAb53JrG', 'AVweergdIN2L1WUf5UH0', 'AVzA-V9_FcQ3k02bBaVI', 'AV1tgeDbRxPSIh2RbY6f', 'AVwcsnP8kufWRAb5yC-z', 'AVwcrK3t_7pvs4fzxvP_', 'AVwcy4cRIN2L1WUfo-Hg', 'AVwekMrEIN2L1WUf6JPE', 'AVwegUhB_7pvs4fzDnzL', 'AV1b9RLTLD2H7whiajc2', 'AVweYgHQByjofQCxxtmc', 'AVwdH0e_IN2L1WUfsbrA', 'AVweOHQ4IN2L1WUf3CXe', 'AVwdK68UByjofQCxmO2g', 'AVweggP5ByjofQCxy3w0', 'AVwd6Smx_7pvs4fz-WXn', 'AVweOoAPkufWRAb5BHJO', 'AVwcn1skkufWRAb5xPIF', 'AVwcj0Z7IN2L1WUfmUIt', 'AVweQYUHIN2L1WUf3V6B', 'AVweUjWf_7pvs4fzB9tn', 'AVweMWcNIN2L1WUf2zEC', 'AWBwmDwiIxWefVJwvAe-', 'AWE7LT6e3-Khe5l_fya-', 'AVwcfSa0_7pvs4fzvnWr', 'AVwdmCSR_7pvs4fz7bSd', 'AVwedPRFIN2L1WUf5F4r', 'AVwcqTFj_7pvs4fzxlKs', 'AVwdFC24ByjofQCxlSXA', 'AWEw3wKka4HuVbedNR_y', 'AVzX38Ya-gnIPe8DTHlj', 'AWIaksGha4HuVbedO4wB', 'AVwed2jdkufWRAb5DLdS', 'AV1js0xi3-Khe5l_OFPG', 'AWB2Z-WMa4HuVbedJ8XM', 'AVwdIJ5jkufWRAb52k1c', 'AVwdmVn6IN2L1WUfxaEp', 'AWE7adN_a4HuVbedNc_m', 'AVwduU_iByjofQCxr6Ak', 'AVwdgPJD_7pvs4fz6iSB', 'AVwcrY5MkufWRAb5x1nm', 'AVwd7-CikufWRAb5-jaK', 'AVwcu-6KIN2L1WUfoS23', 'AWE9HAL83-Khe5l_gX5M', 'AWE7OfxKIxWefVJwyIce', 'AVwd42VKByjofQCxtYTu', 'AWCAC41O3-Khe5l_cYON', 'AVwdBHdI_7pvs4fz1Y6B', 'AWB4WH1Ua4HuVbedJ9Q-', 'AWE7ZNpGRxPSIh2Rsg6o', 'AVweG6e1_7pvs4fzAG7n', 'AVwdIrXykufWRAb52pvI', 'AVwdA_S0IN2L1WUfrUsO', 'AVwc2_cd_7pvs4fzzttM', 'AV48ic48a4HuVbedAUNM', 'AWFXTHKpa4HuVbedORFN', 'AVwdeXtd_7pvs4fz6Qul', 'AVwc_YIF_7pvs4fz1Gha', 'AVwc6Mep_7pvs4fz0Qmz', 'AWEKmFPCIxWefVJwxIvY', 'AWEKqq8Ea4HuVbedMYjz', 'AVwdbPhX_7pvs4fz5w4U', 'AVwdG4UsIN2L1WUfsSIb', 'AV1eR9no3-Khe5l_NC5U', 'AVwd6XyFByjofQCxtmNu', 'AVwc64A1ByjofQCxjoY9', 'AVwc4QuEIN2L1WUfp4qV', 'AVwduLVFByjofQCxr4uw', 'AVweCk9q_7pvs4fz_gzl', 'AVwebENPIN2L1WUf4xbM', 'AVwdLgX4ByjofQCxmVs3', 'AVwc2L3JByjofQCxi1LD', 'AVwck_Q7kufWRAb5wuLy', 'AVwd2nIhByjofQCxtFF5', 'AVwcksZ9kufWRAb5wq5b', 'AVwdRN9o_7pvs4fz4GIn', 'AVweK9V3kufWRAb5AnT-', 'AVwckt0akufWRAb5wrON', 'AVweQytcIN2L1WUf3ZG_', 'AVwdCx0MkufWRAb51tYf', 'AVwd3olc_7pvs4fz9-t5', 'AVwc0xPhkufWRAb5zau2', 'AV1th24t3-Khe5l_OxHY', 'AVwc7MRAByjofQCxjrsp', 'AVwdCuq8ByjofQCxk5zA', 'AVwehtY0kufWRAb5Dwod', 'AVweUPttByjofQCxxJK6', 'AVwddKFFIN2L1WUfwAUo', 'AVwdxAJGByjofQCxsTCV', 'AVweVPVYIN2L1WUf3_ik', 'AVwdKlS8ByjofQCxmLPK', 'AVwdo3L8_7pvs4fz73Bd', 'AVwdPUoeIN2L1WUftsVT', 'AVwdGlZskufWRAb52U8J', 'AVwcnmXi_7pvs4fzxH33', 'AVwc0wA9ByjofQCximI_', 'AVwdYtHI_7pvs4fz5Vwf', 'AVweiu9v_7pvs4fzD_MD', 'AVwce3a1ByjofQCxeuE8', 'AVwemxGnByjofQCxzyPO', 'AVweLNkgIN2L1WUf2pN7', 'AVwdwNXh_7pvs4fz89G4', 'AVwd-G2B_7pvs4fz-4Q-', 'AVwdvL1OIN2L1WUfyvMB', 'AVwcvSBvByjofQCxho9D', 'AVweUmQeByjofQCxxMQi', 'AVwdmkH7IN2L1WUfxcbW', 'AVwdg97PkufWRAb56pfv', 'AVwd_MPi_7pvs4fz_Cb6', 'AVwclpVE_7pvs4fzwxJy', 'AWEKptZG3-Khe5l_eyJY', 'AVwc3NnkkufWRAb5zztJ', 'AVwdG0aT_7pvs4fz2Utt', 'AVwc35Mf_7pvs4fzz387', 'AVwd_dt-kufWRAb5_Cye', 'AVwdcED3ByjofQCxpIRU', 'AVweI3b0_7pvs4fzAX8W', 'AVweObPHByjofQCxwXFS', 'AVweDf9RByjofQCxu4G9', 'AVwdETc-_7pvs4fz16y9', 'AVwckxAEkufWRAb5wr0H', 'AVwehEtZByjofQCxy9Hr', 'AVwdUZ5-kufWRAb54pRh', 'AVwc3vbXByjofQCxjGPg', 'AVwd27QekufWRAb593Lq', 'AVwehklfByjofQCxzB4C', 'AVwd0HO5ByjofQCxsvv8', 'AVweDc0gkufWRAb5_mQM', 'AVwedQ9okufWRAb5DFsQ', 'AVwcwbCZkufWRAb5ysDL', 'AVwcuW-C_7pvs4fzyRmP', 'AVwcm2cTIN2L1WUfm4Rj', 'AVweLhm1kufWRAb5AsMl', 'AVweYQzZIN2L1WUf4Zfa', 'AVwd--7e_7pvs4fz_AdQ', 'AVwcssHZ_7pvs4fzyAC3', 'AVwdfd9zIN2L1WUfwV0M', 'AVwdPkxWIN2L1WUftviL', 'AV1eTUww3-Khe5l_NFwQ', 'AVwdTTE3ByjofQCxnrAh', 'AV1eThnNa4HuVbed6wos', 'AVwehmSGByjofQCxzCIN', 'AVwdiiNakufWRAb564_3', 'AVwefMM2kufWRAb5DYit', 'AVwdbNKPIN2L1WUfvrq6', 'AVwd7g1FkufWRAb5-fYl', 'AVwefLcrByjofQCxyrBd', 'AVweCYS4kufWRAb5_cle', 'AVwdJJWc_7pvs4fz2sLy', 'AVzsuPbiLD2H7whiXykw', 'AVwcvIC5_7pvs4fzyZ3q', 'AVwcp0Y1ByjofQCxgsyk', 'AVweT7BLByjofQCxxGNj', 'AVwcyfMkkufWRAb5zCVk', 'AVwcwguUByjofQCxh3CQ', 'AVweGche_7pvs4fzACko', 'AVwd18R9IN2L1WUfztHv', 'AWEKmvC73-Khe5l_exdd', 'AVwdjWln_7pvs4fz7As6', 'AVwcrg5zIN2L1WUfns34', 'AVwc9KMbByjofQCxkAXG', 'AVweUEQg_7pvs4fzB5Rz', 'AVwcoyGLkufWRAb5xZDn', 'AVwdyBCp_7pvs4fz9N1Z', 'AVweXnn6_7pvs4fzCYBw', 'AV1flj1e3-Khe5l_NQb1', 'AWEKmSZsa4HuVbedMW7A', 'AVwce-UYkufWRAb5voYL', 'AVwePzcTIN2L1WUf3Q2t', 'AWEKnvsxRxPSIh2Rriq8', 'AVweBbVfByjofQCxuldA', 'AVwdJKj3_7pvs4fz2sZ1', 'AVwd_MEhByjofQCxuRxR', 'AV1XW5K3-gnIPe8DWvlR', 'AVwdp_FrkufWRAb58CGu', 'AVwc2GJ4IN2L1WUfphVS', 'AVweRNdM_7pvs4fzBgi3', 'AVweDsvnByjofQCxu50y', 'AVwcwD-xIN2L1WUfoe8r', 'AVwc65WOByjofQCxjoln', 'AVwd4kYsIN2L1WUf0DcH', 'AVweO6qWByjofQCxwbLH', 'AVwegRKpkufWRAb5Di-N', 'AVwdfcZsByjofQCxpop-', 'AWCPOg2rRxPSIh2RpqQS', 'AVwdgDBZIN2L1WUfwbss', 'AVwcoE7vIN2L1WUfnF8Y', 'AV1tg8laIxWefVJwhAYd', 'AVwcqxKRkufWRAb5xukl', 'AV1c_eI-3-Khe5l_MeAr', 'AVwcnCNK_7pvs4fzxBVL', 'AVwd6l6qByjofQCxtoVE', 'AVwd80Xi_7pvs4fz-sc2', 'AVwdedYBByjofQCxpfhj', 'AVweJHMNkufWRAb5AXKd', 'AVwdAJcC_7pvs4fz1PG7', 'AVwcrIWVIN2L1WUfnoSf', 'AVwciaxnIN2L1WUfmDRr', 'AVwdIKHkIN2L1WUfsfCF', 'AVwd7mjmkufWRAb5-gJy', 'AV0IJ3wqLD2H7whiYXuf', 'AV1eUgT83-Khe5l_NIvH', 'AWEKmPuq3-Khe5l_ewfE', 'AVwco5ow_7pvs4fzxWUg', 'AVwcv9KIkufWRAb5ym-h', 'AVz6h4ZP3D1zeR_xDHs1', 'AVwdSok__7pvs4fz4U5b', 'AVweBlu1ByjofQCxum6C', 'AVwdNXvcByjofQCxmp6B', 'AVwdrHtckufWRAb58Ncf', 'AVweMpa5kufWRAb5A2O7', 'AV1eUB93RxPSIh2RZ522', 'AWFFx0t_3-Khe5l_gouq', 'AVwdvDXGByjofQCxsAiz', 'AVwdLgAB_7pvs4fz3F80', 'AVwd5W9XkufWRAb5-MxP', 'AVwdoWqX_7pvs4fz7yJs', 'AVwdDE1H_7pvs4fz1tWn', 'AV1flIFgIxWefVJwfjV0', 'AVwc56Le_7pvs4fz0Nb_', 'AVwc1BxfIN2L1WUfpWQh', 'AVzA-lh4FcQ3k02bBahx', 'AVweHXMFIN2L1WUf2HLA', 'AVwdpk-ckufWRAb579_P', 'AVzOLKKGLD2H7whiWaQA', 'AVwdRcddkufWRAb54KH3', 'AVweBvbiIN2L1WUf1WH9', 'AVwcrU0yIN2L1WUfnqmO', 'AVwcmcqPkufWRAb5w-y1', 'AVwdPtvAByjofQCxnEBD', 'AVwch8UZ_7pvs4fzwG7j', 'AVwcgpWv_7pvs4fzv2_k', 'AVwdxcGQByjofQCxsXWr', 'AVwcyqskIN2L1WUfo7u7', 'AVwcobY2kufWRAb5xVG7', 'AVwc1J5lByjofQCxiqZT', 'AVwcohF6IN2L1WUfnK7O', 'AVwdfUT2_7pvs4fz6ZGu', 'AVwd9pz7IN2L1WUf0xla', 'AVwdwFIEkufWRAb587Ef', 'AVwdms0k_7pvs4fz7iCg', 'AVwckL-d_7pvs4fzwg58', 'AVweK5-wByjofQCxv41g', 'AVwd1buK_7pvs4fz9r3n', 'AVwcwSXiIN2L1WUfohjW', 'AVwdjz2H_7pvs4fz7FZA', 'AVwc2Wn-ByjofQCxi3DK', 'AVwdw3lv_7pvs4fz9DOJ', 'AVwdBTWVIN2L1WUfrYF3', 'AVwctyZkIN2L1WUfoF2k', 'AVwd14lTIN2L1WUfzsgz', 'AVwc9057IN2L1WUfq0Vf', 'AVweNkj4kufWRAb5A-MA', 'AVweL5sn_7pvs4fzAyoj', 'AVwdYcSs_7pvs4fz5Sz5', 'AVwc8morkufWRAb50tS8', 'AVwcrALLByjofQCxg5vg', 'AVwc8kL0IN2L1WUfqno4', 'AV1duqYRRxPSIh2RZeyw', 'AVwdDWGe_7pvs4fz1waT', 'AVweLc3nIN2L1WUf2rSf', 'AVwciXwCkufWRAb5wQoY', 'AVwdfLgKIN2L1WUfwTDo', 'AVweDmY3ByjofQCxu45r', 'AWEw--2R3-Khe5l_fuXk', 'AVwdiv_oIN2L1WUfw2ST', 'AVwce-r0ByjofQCxevYU', 'AVwehabgkufWRAb5Dtwg', 'AVwc86f6IN2L1WUfqrX4', 'AVzBLH7C-gnIPe8DSkd5', 'AVwdME1m_7pvs4fz3Mdy', 'AVwdHZ8IByjofQCxlqQL', 'AVwdeDTyByjofQCxpbxW', 'AVwcp3RrkufWRAb5xkVr', 'AVwdp57LIN2L1WUfx9jx', 'AVwec3DuIN2L1WUf5Cif', 'AVwc0qs5_7pvs4fzzV6q', 'AVwcyB1VkufWRAb5y9qO', 'AVwd48qU_7pvs4fz-Kqw', 'AVwdC-utByjofQCxk8Zp', 'AVwddCFckufWRAb56Esb', 'AVwc0od1kufWRAb5zZEu', 'AVwdTiJ0_7pvs4fz4er6', 'AVwdLyGTByjofQCxmYtr', 'AVwdRH7-_7pvs4fz4FJ5', 'AV1eS2suRxPSIh2RZ3G4', 'AV1dAdj93-Khe5l_Mf_H', 'AVwdcE1CByjofQCxpIZm', 'AVwc4_NSIN2L1WUfqAvs', 'AVwd4FzV_7pvs4fz-CvU', 'AVwdN3xQIN2L1WUftcHN', 'AVwchQut_7pvs4fzv-NP', 'AV0aKldgLD2H7whiZV4z', 'AVwdKCWl_7pvs4fz2152', 'AVwd5J11IN2L1WUf0IwM', 'AVwc_AL3kufWRAb51Fs_', 'AV1c4fcP3-Khe5l_MBlT', 'AVwcfjQHByjofQCxe2Gz', 'AVweI1bPkufWRAb5AU9i', 'AVwcinryIN2L1WUfmFw3', 'AVwcn_gs_7pvs4fzxMRD', 'AVweM2Xl_7pvs4fzA7OA', 'AVwdJnhj_7pvs4fz2xTN', 'AWE7eU3BRxPSIh2RsjBu', 'AVwd5l5LkufWRAb5-Oz1', 'AVwckpvX_7pvs4fzwl_a', 'AVwcxm5S_7pvs4fzy1gQ', 'AVwcvDNLkufWRAb5yc4L', 'AVwdRpzaByjofQCxnZQ8', 'AVweVteHByjofQCxxV-T', 'AV1c7KRqRxPSIh2RY4wt', 'AV1eTHJWa4HuVbed6vFu', 'AVwc2FDh_7pvs4fzzkAr', 'AVwc_NK1kufWRAb51Hzf', 'AVwdq1C9ByjofQCxrZiT', 'AVwc_cfckufWRAb51KWR', 'AVwdkc9TIN2L1WUfxG-M', 'AVweK_94kufWRAb5Antu', 'AVwdfpBRByjofQCxpqoc', 'AVweE6M6IN2L1WUf1xr2', 'AVwed-yWIN2L1WUf5NSx', 'AVwdLuhokufWRAb53Kua', 'AVwc9DlEIN2L1WUfqsqL', 'AVwdtuoFByjofQCxr08w', 'AVwchf6wIN2L1WUfl4Ez', 'AVwdF7N0ByjofQCxlbBF', 'AVwedbstByjofQCxyZ5i', 'AVwdCEmLByjofQCxkylh', 'AVwc1FvUByjofQCxipvD', 'AVweU0vj_7pvs4fzCALn', 'AVwc_rwDByjofQCxkaXN', 'AVwckMrdkufWRAb5wllt', 'AVwcwUbT_7pvs4fzynMq', 'AVwd3OXr_7pvs4fz97MM', 'AVwcte5YByjofQCxhVYS', 'AVweVjEFkufWRAb5CCvi', 'AWE71D_hIxWefVJwyO98', 'AVwdzqms_7pvs4fz9cNO', 'AV1thbpR3-Khe5l_Ovyh', 'AWE703bh3-Khe5l_f-iy', 'AVweT-X4IN2L1WUf30aw', 'AV_2L3v1RxPSIh2RoCSt', 'AVweNqvL_7pvs4fzBCRY', 'AV1tg3ASRxPSIh2Rbbgq', 'AVwdXhEg_7pvs4fz5Jcn', 'AV1tgZ7ca4HuVbed8TZK', 'AVwd3D9JkufWRAb594Sj', 'AV1eTj86IxWefVJwfccW', 'AVwdkucOkufWRAb57OSJ', 'AVwdmbC0_7pvs4fz7fLt', 'AVwc2qWJIN2L1WUfpnng', 'AVwciAfv_7pvs4fzwHfE', 'AVweiiVQ_7pvs4fzD9f3', 'AVwc7Say_7pvs4fz0cTU', 'AVwcrf3WByjofQCxg_pl', 'AVwcjLxGkufWRAb5wZ24', 'AVwcv176_7pvs4fzyiBK', 'AVwdD7o4kufWRAb515wr', 'AVwd9xfEByjofQCxuFF8', 'AVwcpfFpkufWRAb5xgmr', 'AVwejMBmkufWRAb5D--V', 'AV1tiALd3-Khe5l_OxeJ', 'AVwcgoceIN2L1WUfluZ2', 'AVwdtqsX_7pvs4fz8l0Z', 'AVwctD7b_7pvs4fzyD7J', 'AVwcnnH9IN2L1WUfnAfW', 'AVwdrL71kufWRAb58ONY', 'AVwcxNfT_7pvs4fzyxCU', 'AVwdQNOhByjofQCxnJpN', 'AVweBt7ekufWRAb5_Ww6', 'AVwdXngiByjofQCxoZGE', 'AVwc4PdrByjofQCxjLOH', 'AVweMtDiByjofQCxwIf5', 'AVwddiIskufWRAb56JOp', 'AVwc1F3fIN2L1WUfpW5-', 'AVwdBMcp_7pvs4fz1Zv4', 'AVwd1ysZByjofQCxs-N5', 'AVwc99vI_7pvs4fz03nG', 'AVwdGS8-ByjofQCxlfGE', 'AVwdPOIWIN2L1WUftrRK', 'AVwc1t-FkufWRAb5zkAS', 'AVwcu--CkufWRAb5ycKI', 'AVwckZspkufWRAb5wns9', 'AVzj61sFLD2H7whiXWvv', 'AV1eT2MnRxPSIh2RZ5aK', 'AV1tgeI43-Khe5l_OqL5', 'AVwc-6nWIN2L1WUfq_Rx', 'AVwcq3c9ByjofQCxg4Iw', 'AVwdQeSUByjofQCxnMdM', 'AVweisiYIN2L1WUf56hQ', 'AVwdJnQukufWRAb52zqQ', 'AVwdjJDaIN2L1WUfw53Z', 'AVwcoZmUByjofQCxgcjd', 'AVwdmhR8IN2L1WUfxb7b', 'AVweJF-HkufWRAb5AW-s', 'AVwc4KZE_7pvs4fzz6k4', 'AVwd7XXKkufWRAb5-eHh', 'AVwecF7_IN2L1WUf47Ju', 'AVwdAGHiByjofQCxkete', 'AVwcyP45_7pvs4fzy8DN', 'AVwctKf2IN2L1WUfn-5E', 'AVweRVJPByjofQCxwwK8', 'AVwdj5J_kufWRAb57GTN', 'AVweG6dMIN2L1WUf2DYu', 'AVwdBMQSByjofQCxkppl', 'AVwdngfxkufWRAb57pgM', 'AVweZN42_7pvs4fzClpB', 'AVweADoNByjofQCxuZD0', 'AVwcp0f3ByjofQCxgszY', 'AVwc76DDIN2L1WUfqgpv', 'AV1flKIERxPSIh2RZ_qT', 'AVwc0A7KByjofQCxidZX', 'AVwdVxHt_7pvs4fz42YS', 'AVwd6MDjIN2L1WUf0SCn', 'AVwdrUH9IN2L1WUfyLtz', 'AVweRUhDIN2L1WUf3dwN', 'AVwcvG4kByjofQCxhm_k', 'AVwdVFGMByjofQCxn9fU', 'AVwczZzfByjofQCxiWrI', 'AVwdxLDrIN2L1WUfzCEi', 'AVwcw7D5IN2L1WUfoorC', 'AVwdTEyTByjofQCxnojP', 'AV1thRNIIxWefVJwhCPm', 'AVwdIoEIIN2L1WUfsjZa', 'AVwc2wu5ByjofQCxi7l9', 'AVweSJFykufWRAb5BlKg', 'AVzj7L9vFcQ3k02bComN', 'AVwc_sPfByjofQCxkadY', 'AVwdjdgQIN2L1WUfw8zO', 'AVwc6ahtkufWRAb50Wq7', 'AVwdps4gkufWRAb57_RI', 'AVwckPqFkufWRAb5wmD2', 'AVwcp6rJkufWRAb5xk6d', 'AVwcoI15kufWRAb5xSDb', 'AVweYgEQIN2L1WUf4bg9', 'AVweDjqmkufWRAb5_nSL', 'AVwdOfg2_7pvs4fz3nQv', 'AVweKwUFkufWRAb5Alqj', 'AVwcvbh6ByjofQCxhqkB', 'AVwcoBudkufWRAb5xQ4d', 'AVwdiqKWByjofQCxqIWs', 'AVwcjj8mkufWRAb5wePc', 'AVweNZ3sIN2L1WUf28Q5', 'AVwdAGsqkufWRAb51R0n', 'AVwc70fJ_7pvs4fz0hwm', 'AVweLlxcByjofQCxv-pm', 'AVwdDFx5IN2L1WUfrq4i', 'AVwdKn0VIN2L1WUfs422', 'AVwc-U9c_7pvs4fz07ST', 'AVwdiY_dkufWRAb563jq', 'AVwcj6G_kufWRAb5wiCP', 'AVwdDngaByjofQCxlDbv', 'AVweCO4p_7pvs4fz_dfn', 'AVwdLsQUkufWRAb53KXI', 'AVwcfTze_7pvs4fzvnrH', 'AVwdxVLG_7pvs4fz9Hv-', 'AVweAlEkkufWRAb5_MLJ', 'AVwd3bE8IN2L1WUfz5fz', 'AV1flwEc3-Khe5l_NQgC', 'AV1eSrxWa4HuVbed6uJA', 'AWE85RGda4HuVbedN5Mp', 'AVwdnkMSByjofQCxq5IK', 'AVwel2fpIN2L1WUf6YOc', 'AV1thPkIRxPSIh2Rbd0g', 'AVwdNsjLIN2L1WUftaK1', 'AVweSsy-kufWRAb5BqZh', 'AVwdLZsIkufWRAb53HEC', 'AVweHqHmIN2L1WUf2J57', 'AV1eToleIxWefVJwfcob', 'AVwdxgWbkufWRAb59IJa', 'AVwc9SLq_7pvs4fz0we5', 'AVwdH_hE_7pvs4fz2goy', 'AVwdHZjC_7pvs4fz2au_', 'AVwdb_kt_7pvs4fz55eY', 'AVwcsIglByjofQCxhGqI', 'AVwd3cM2ByjofQCxtMDU', 'AVwciRDBByjofQCxfUj4', 'AVweLQFEByjofQCxv70t', 'AVwdf2GAkufWRAb56ehu', 'AV1eSxIH3-Khe5l_NEKD', 'AVwdTNQcIN2L1WUfuXG6', 'AVwcoi3VkufWRAb5xWYR', 'AVwdHomB_7pvs4fz2dSO', 'AVweh-i3ByjofQCxzFv2', 'AVwcrNvj_7pvs4fzxvzo', 'AVwc26VbByjofQCxi9HV', 'AVwdNgqSIN2L1WUftYV0', 'AVwda3B-IN2L1WUfvoCd', 'AV23rYbbIxWefVJwjO4a', 'AVwec6Il_7pvs4fzDGys', 'AVwemomx_7pvs4fzEjTa', 'AV1eS_1iIxWefVJwfbSC', 'AVwcnnZvkufWRAb5xMaa', 'AVweRtPt_7pvs4fzBk5a', 'AVweTl96IN2L1WUf3xbq', 'AWE2I5Nv3-Khe5l_fxSI', 'AVwc7A4mkufWRAb50c7D', 'AVwdLpN1kufWRAb53J1z', 'AVwc15Vm_7pvs4fzziHL', 'AVwcpGlGIN2L1WUfnRmb', 'AVwdf_AlByjofQCxpuGj', 'AVweeObzIN2L1WUf5Pdb', 'AVwdjhx2IN2L1WUfw9fj', 'AWE8DmwzRxPSIh2RsqE3', 'AV1eTBB-RxPSIh2RZ3tP', 'AVwegJ9-ByjofQCxy0ab', 'AVwcmxTz_7pvs4fzw-Ld', 'AWE7_G_fRxPSIh2Rsot1', 'AVwelOCmIN2L1WUf6Spq', 'AVwcxZSWkufWRAb5y2wv', 'AVwctHQpIN2L1WUfn-Rp', 'AVwdPtI6IN2L1WUftxA0', 'AVwcos3ZkufWRAb5xYF0', 'AVwdBbw2IN2L1WUfrZjp', 'AVwdreRhkufWRAb58RD3', 'AVweYDZ1kufWRAb5CXzQ', 'AVweNSZkIN2L1WUf27Ye', 'AV1eUAKnIxWefVJwfdbu', 'AVzBA2PM3D1zeR_xBET7', 'AVwddzTXIN2L1WUfwGRK', 'AVweVnO2kufWRAb5CDXL', 'AVweGRPBkufWRAb5_-hv', 'AVwcgNXgByjofQCxe8mD', 'AV0Z9NhT-gnIPe8DVrWO', 'AVweCDuDkufWRAb5_Z1N', 'AVwczuhu_7pvs4fzzLiG', 'AVwdbokNkufWRAb552A2', 'AVwcxVRZkufWRAb5y2BN', 'AVwdA8uskufWRAb51aP5', 'AVwci_qUIN2L1WUfmKNQ', 'AVwd2AlZ_7pvs4fz9w0L', 'AVwdcoMXIN2L1WUfv6-B', 'AVwdvAQP_7pvs4fz8xub', 'AVwd7KfcByjofQCxttOJ', 'AVweKVYhkufWRAb5AiRW', 'AVwdYr0EIN2L1WUfvQ7x', 'AVwdHqk9kufWRAb52gKu', 'AVwckX0nIN2L1WUfma_S', 'AVwehrU8ByjofQCxzC3S', 'AV1th4WFRxPSIh2Rbf9f', 'AVwcrLZyByjofQCxg76W', 'AWE70Igw3-Khe5l_f-eW', 'AVwc7gsDkufWRAb50iL_', 'AVwcxBWSIN2L1WUfop66', 'AV1Ts51FLD2H7whiaPkN', 'AVwc67ME_7pvs4fz0YVR', 'AVwdbFoBIN2L1WUfvqbg', 'AVwdfXNekufWRAb56Z8V', 'AVweL5CdByjofQCxwBUY', 'AVweGHNYByjofQCxvOix', 'AVwcqZ3LIN2L1WUfnf7-', 'AVwc5ZR8IN2L1WUfqE_6', 'AWE7eL6LIxWefVJwyMFd', 'AVweNfSQIN2L1WUf29Gs', 'AV1tfpa83-Khe5l_Okjr', 'AVwc4XA3IN2L1WUfp5qS', 'AVwcgvkEkufWRAb5v9BO', 'AVwePAUB_7pvs4fzBNqz', 'AVwdgSq2IN2L1WUfweSG', 'AVwc03Tk_7pvs4fzzYKK', 'AVwdUA56ByjofQCxnyMd', 'AVwdEv8UkufWRAb52Cea', 'AV1thf33RxPSIh2Rbey9', 'AVwciZq-IN2L1WUfmDEw', 'AVwdQZikkufWRAb53-mA', 'AVwdyY1akufWRAb59QM1', 'AVwc2mYbIN2L1WUfpm8c', 'AVwdzZRj_7pvs4fz9ZsP', 'AVwdhhar_7pvs4fz6u49', 'AVweSHCoIN2L1WUf3kki', 'AVwdxxNYByjofQCxsad0', 'AVwdwXySByjofQCxsNWW', 'AVwc4V22_7pvs4fzz8PT', 'AVwdAqADkufWRAb51XJo', 'AVwePRwmIN2L1WUf3MEt', 'AVwdUl7HkufWRAb54rVG', 'AVweN60a_7pvs4fzBEks', 'AVwcgawiByjofQCxe_BJ', 'AVwcg_FA_7pvs4fzv699', 'AVwdNXu9IN2L1WUftXDZ', 'AWE7QGqd3-Khe5l_f1aN', 'AVweMx5m_7pvs4fzA6mZ', 'AVwdqAsJByjofQCxrRZ9', 'AVwejXAEkufWRAb5EAnf', 'AVwcuFWbIN2L1WUfoI9y', 'AVwdfQaMkufWRAb56ZBj', 'AVwc_h_W_7pvs4fz1IFB', 'AVwcgQ2mkufWRAb5v3Yr', 'AV1tg0O0IxWefVJwg_hX', 'AVzoCJ-SFcQ3k02bCu4t', 'AVwdmUJzByjofQCxqs0x', 'AVweJdyHIN2L1WUf2Z8p', 'AVwdzgUU_7pvs4fz9as9', 'AV1eT2tx3-Khe5l_NHdo', 'AV1eTjxva4HuVbed6wwd', 'AVwdeXZTByjofQCxpexg', 'AVz58fSi-gnIPe8DUnRl', 'AVwdmYcsIN2L1WUfxahW', 'AVwdiL2cIN2L1WUfwwW9', 'AVweh4-pkufWRAb5DyTv', 'AVwemLkAkufWRAb5EaiN', 'AVwduatUkufWRAb58rWL', 'AVwcngfikufWRAb5xLJA', 'AVwePN8GByjofQCxwdxr', 'AVwdJiqJByjofQCxmAAq', 'AVwdLbVWkufWRAb53HVw', 'AVwdqNIvIN2L1WUfyAk0', 'AVweJGA-_7pvs4fzAZvg', 'AVwdaBl_IN2L1WUfve6C', 'AVwcrM15kufWRAb5xzll', 'AV1fluZq3-Khe5l_NQfY', 'AVwde_7zByjofQCxpkZ_', 'AVwdco4EIN2L1WUfv7F0', 'AVwc199IkufWRAb5zmWw', 'AVwc8zcmkufWRAb50vRJ', 'AVwdO_hrkufWRAb53uR-', 'AVwcq39qByjofQCxg4PG', 'AVwd3GcuByjofQCxtJND', 'AVwdNh3b_7pvs4fz3ci8', 'AVwdtGOAByjofQCxrvBc', 'AVwcgD5KIN2L1WUfloPj', 'AVwcpN3KByjofQCxgl4H', 'AVwdXs1CIN2L1WUfvHA5', 'AVwd6nz4ByjofQCxtopW', 'AVwcj3bZIN2L1WUfmUrW', 'AVwcjsLnByjofQCxfl0D', 'AVwdUDQhIN2L1WUfufoz', 'AVwcm8BqByjofQCxgMNw', 'AVwcuIFlIN2L1WUfoJYt', 'AV0ZF_BK3D1zeR_xD615', 'AVwdYDlvIN2L1WUfvKsE', 'AVweTCvG_7pvs4fzBwvj', 'AVwc3IYSkufWRAb5zywY', 'AVwdcln_IN2L1WUfv6fs', 'AVwdR-VR_7pvs4fz4N6s', 'AVwdIqa4IN2L1WUfsjxr', 'AV1thiDE3-Khe5l_OwIo', 'AVweScCQ_7pvs4fzBrYa', 'AVwc4Kx9ByjofQCxjKhe', 'AVwdFDxLkufWRAb52Fqm', 'AVwdLK44ByjofQCxmRk9', 'AVwdBGY8IN2L1WUfrV71', 'AVwd6dBSByjofQCxtnAI', 'AVwdATBeIN2L1WUfrNqv', 'AVwdAylcIN2L1WUfrSdZ', 'AVwc6PA1kufWRAb50UpC', 'AVwdZ1ZHIN2L1WUfvdFu', 'AVwdl53PIN2L1WUfxVsK', 'AVwc9CkdIN2L1WUfqsfz', 'AVwc140q_7pvs4fzziCB', 'AV0aVd_HLD2H7whiZf0N', 'AVwc4Z7qIN2L1WUfp6Kv', 'AVwdX54iIN2L1WUfvJPW', 'AV1eTzDua4HuVbed6xdm', 'AVwejMbEkufWRAb5D_BS', 'AVwd9tomByjofQCxuElg', 'AVwehkkIkufWRAb5DvVT', 'AVwdi6wZ_7pvs4fz68lI', 'AVweRrTuIN2L1WUf3g0r', 'AVwd8zO8_7pvs4fz-sVz', 'AVwdC0JZkufWRAb51tvP', 'AVwdV3-D_7pvs4fz43p7', 'AVwc6o7hkufWRAb50Y9Z', 'AVwczMKx_7pvs4fzzGNS', 'AVwd0UlI_7pvs4fz9iNt', 'AVwdUgZoByjofQCxn3a3', 'AV1eTGPGa4HuVbed6vEI', 'AVwdlvhPIN2L1WUfxT4z', 'AVwcyzL2IN2L1WUfo9OK', 'AVwcjA-mByjofQCxfdji', 'AV1thYQqIxWefVJwhCq5', 'AVwd8u3IByjofQCxt7iv', 'AVwd8lkCkufWRAb5-ovy', 'AVwd6H96ByjofQCxtj6e', 'AVwc5kWBIN2L1WUfqHFe', 'AVweEIzaIN2L1WUf1rPT', 'AVwdptatkufWRAb57_Vx', 'AVweX4IhByjofQCxxoUD', 'AVwc1q6iIN2L1WUfpc6x', 'AVwd8LKkByjofQCxt2bv', 'AVwdH0qjIN2L1WUfsbtC', 'AVwdPxoPByjofQCxnEpc', 'AVwdEhRPkufWRAb51__P', 'AVwd9-b__7pvs4fz-3Lo', 'AVwchAIHIN2L1WUflybT', 'AVwd56QJkufWRAb5-Rlk', 'AVwd8O2IkufWRAb5-lof', 'AVwc6K4B_7pvs4fz0QVw', 'AVweCH9H_7pvs4fz_cp3', 'AVwc95mPByjofQCxkH5E', 'AVwczYHRkufWRAb5zLo3', 'AVwdrmkuByjofQCxrhQ_', 'AVwdFaMvByjofQCxlVxe', 'AVweC4uK_7pvs4fz_jw_', 'AV1th1nJIxWefVJwhEJj', 'AVwdNTvW_7pvs4fz3aW1', 'AVwdgZzEByjofQCxpydr', 'AVwcnatSByjofQCxgRWn', 'AVwc5DdcIN2L1WUfqBcg', 'AVwc6R4-ByjofQCxjhyS', 'AVwdnweuIN2L1WUfxn_p', 'AVwc5Jjt_7pvs4fz0Flg', 'AVwclMBaByjofQCxf3th', 'AVwdBWqF_7pvs4fz1bVz', 'AVwd5cg-_7pvs4fz-O7r', 'AWB2c3w1a4HuVbedJ8gL', 'AV1tg9hD3-Khe5l_OtaK', 'AVwcth-hIN2L1WUfoDDW', 'AVwdso0wByjofQCxrqzS', 'AVweCJCoByjofQCxusEc', 'AVwd-d94IN2L1WUf047o', 'AVwd-iRekufWRAb5-6uD', 'AVwcglyFByjofQCxfA1m', 'AVwd_M1-_7pvs4fz_Cib', 'AWB2m-qm3-Khe5l_cVmM', 'AVweU_-rkufWRAb5B93h', 'AV1tiFF63-Khe5l_OxpE', 'AVwd69mm_7pvs4fz-cEZ', 'AV6a8cTwIxWefVJwqvv4', 'AVwdkIHeIN2L1WUfxD0o', 'AVwd5MP2ByjofQCxtblL', 'AVzoElk_-gnIPe8DT7CH', 'AV1c2L3Aa4HuVbed5hnF', 'AVwdAo5w_7pvs4fz1T3w', 'AVwcpCpt_7pvs4fzxXw0', 'AV1eSw2K3-Khe5l_NEJM', 'AVweOQzokufWRAb5BEFj', 'AV1eTVLfa4HuVbed6v61', 'AVwc7mVnByjofQCxjwJZ', 'AWEKmguXRxPSIh2Rrh4r', 'AVwcioGEIN2L1WUfmF2z', 'AVweY-gk_7pvs4fzCjdi', 'AVwdfibV_7pvs4fz6bKn', 'AVwedwDLIN2L1WUf5K9-', 'AVwds2jfkufWRAb58dgU', 'AV0v_OlQLD2H7whiZv_5', 'AVwdLl_SByjofQCxmWo9', 'AV0aI23wFcQ3k02bEoYo', 'AV0Z9NhtFcQ3k02bEj2u', 'AVwcwt3ZIN2L1WUfomUi', 'AVwc3Cv_ByjofQCxi-sH', 'AVwcf14lByjofQCxe5Er', 'AVwdhhJP_7pvs4fz6u1m', 'AVwdAXQMByjofQCxkg93', 'AVwdjT8ckufWRAb57AZm', 'AVwejnobkufWRAb5EDV8', 'AVweP9-2IN2L1WUf3SRI', 'AVwdcK7I_7pvs4fz57Qv', 'AVwdaFddIN2L1WUfvfi6', 'AVwcuoay_7pvs4fzyUk4', 'AVwdDHwjByjofQCxk99T', 'AVwc3lf-kufWRAb5z3_N', 'AV1eUGWzRxPSIh2RZ6CZ', 'AVweBokS_7pvs4fz_YJ2', 'AVwdTz_0_7pvs4fz4hYe', 'AVwcnusNByjofQCxgVKG', 'AVwdAvuJIN2L1WUfrSA6', 'AVweOrbz_7pvs4fzBLCK', 'AVwcu-YOkufWRAb5ycEC', 'AV1tgk9i3-Khe5l_Oq36', 'AVwdEJ47IN2L1WUfr2te', 'AVwdKzRHkufWRAb53ATl', 'AVwc9_IUByjofQCxkI2N', 'AVweT38g_7pvs4fzB3oY', 'AVwciVr4kufWRAb5wQRk', 'AVweEflb_7pvs4fz_xiB', 'AV1eTNWV3-Khe5l_NFXP', 'AVwdUtmQByjofQCxn5nB', 'AVweBsLZIN2L1WUf1VmW', 'AVzj4ARrFcQ3k02bClGt', 'AVwdTAuO_7pvs4fz4ZRE', 'AVwdiJBp_7pvs4fz603a', 'AVweEGK3IN2L1WUf1q4c', 'AVwePM5c_7pvs4fzBPRS', 'AVwedqSb_7pvs4fzDNmB', 'AVwdb2TPByjofQCxpFwT', 'AV1flynma4HuVbed66sW', 'AVwd4encByjofQCxtVBh', 'AVwdo1c0ByjofQCxrFpl', 'AVwdxBZ4kufWRAb59Do2', 'AV5Z9iNcRxPSIh2RjJ-v', 'AVweGf8YkufWRAb5AAev', 'AVwdI8IG_7pvs4fz2p3a', 'AVwdmfCq_7pvs4fz7fzs', 'AVwdEeMTkufWRAb51_df', 'AVwdWJtQIN2L1WUfu2X7', 'AVwdfEPTByjofQCxpk_E', 'AVwdP-kE_7pvs4fz335P', 'AVwdNApbIN2L1WUftTMk', 'AVwcnosC_7pvs4fzxIW9', 'AVwdHWh8kufWRAb52czl', 'AVweODHuByjofQCxwUBx', 'AVwdLK4ikufWRAb53EKT', 'AVwejVzQ_7pvs4fzEE-j', 'AVwdM8EOByjofQCxmlWu', 'AVwdBQ7sByjofQCxkqax', 'AVwcw2tT_7pvs4fzys5x', 'AVwdGpIjkufWRAb52Vet', 'AVwdgx7y_7pvs4fz6nah', 'AVwdE09W_7pvs4fz2Ah9', 'AVweX4tvkufWRAb5CWZA', 'AVweLDv__7pvs4fzArHN', 'AVwc3iwLkufWRAb5z3a8', 'AVwd3ST_kufWRAb596Sp', 'AVwcfwU6IN2L1WUfllJS', 'AVwcydgrIN2L1WUfo5e4', 'AVwc8ZYIByjofQCxj4ti', 'AVwdvb98kufWRAb580xX', 'AVwdbrLrkufWRAb552du', 'AVwecGMaByjofQCxyNSO', 'AVwdZ3LO_7pvs4fz5iKN', 'AVwditu0_7pvs4fz66oo', 'AVwdXmLw_7pvs4fz5KVd', 'AVweDfpkkufWRAb5_mr_', 'AVweFm3I_7pvs4fz_7Hu', 'AVwcuaVJkufWRAb5yWBw', 'AVwc5iSZIN2L1WUfqGpg', 'AVwcpqjJ_7pvs4fzxeee', 'AVwdogRjByjofQCxrCe9', 'AVwc2UTzIN2L1WUfpjyU', 'AV1eS84ia4HuVbed6uqW', 'AVwefn0lIN2L1WUf5dOq', 'AVweE3AI_7pvs4fz_0iG', 'AVwcpYgy_7pvs4fzxbZZ', 'AVweWw5jIN2L1WUf4Mgx', 'AVwdpQVj_7pvs4fz77D7', 'AVwdmiPGByjofQCxqvFW', 'AVwcqTprkufWRAb5xpQD', 'AVwefFAJkufWRAb5DXfO', 'AVwcgJuLByjofQCxe8Af', 'AVwedE-AIN2L1WUf5Eji', 'AVwd6ZvD_7pvs4fz-XZ2', 'AVwd_sfHByjofQCxuVyK', 'AVwdjTj2_7pvs4fz7ATC', 'AVwdkDuP_7pvs4fz7H-Z', 'AVwdXjyV_7pvs4fz5J6n', 'AVwdQ23e_7pvs4fz4CI-', 'AVweZd_8ByjofQCxx1xO', 'AVwczQY9_7pvs4fzzG0M', 'AVweeQx7_7pvs4fzDTn7', 'AVwczYNXIN2L1WUfpDor', 'AVwclzm4IN2L1WUfmsNN', 'AVwciwtb_7pvs4fzwQbk', 'AV1tgSS_3-Khe5l_Oo_Q', 'AVweNWDy_7pvs4fzA_Zj', 'AVwdu0Vh_7pvs4fz8v7G', 'AVwdM1o1_7pvs4fz3VO8', 'AVwclgmkkufWRAb5w0B4', 'AVwc-sD2IN2L1WUfq9BD', 'AVwckhgvIN2L1WUfmcyZ', 'AVwecRCQkufWRAb5C8lN', 'AVwefkLpIN2L1WUf5csY', 'AVwcfx4KByjofQCxe4YR', 'AVwdFZz6_7pvs4fz2GR2', 'AVwd-tg4ByjofQCxuNg4', 'AVwdXrDyByjofQCxoZt5', 'AVwcu5r4_7pvs4fzyXc5', 'AVweH9mjIN2L1WUf2M8b', 'AVwcuo0eIN2L1WUfoPEk', 'AVwctB6FByjofQCxhQOK', 'AVz3ZO-6LD2H7whiYJt9', 'AVwcwjxb_7pvs4fzypzm', 'AVweZVHJkufWRAb5Cihr', 'AVweW1cfIN2L1WUf4NPl', 'AVwdLRGWByjofQCxmSwQ', 'AVweEv4N_7pvs4fz_znl', 'AVwdDBHkByjofQCxk81L', 'AVwdnzQxkufWRAb57sZn', 'AVwdp_SbIN2L1WUfx-UO', 'AVwcez7uIN2L1WUflaaT', 'AVwciNfNByjofQCxfT0U', 'AVwchkDGByjofQCxfL3V', 'AVwcx_kXByjofQCxiH4A', 'AVwchrgQ_7pvs4fzwDjw', 'AVwee2pBByjofQCxyn7J', 'AVweD0WxkufWRAb5_pfZ', 'AVwdO8_m_7pvs4fz3r-1', 'AVwdmE-MByjofQCxqqV1', 'AVwektT2kufWRAb5ENbs', 'AVweP3PH_7pvs4fzBVEk', 'AVweKSfvIN2L1WUf2hec', 'AV1fldKOIxWefVJwfjqX', 'AVwd0qGcIN2L1WUfzh2y', 'AV1b9aye-gnIPe8DXEvo', 'AWCACkxFa4HuVbedJ_Az', 'AVwdkcM1IN2L1WUfxG34', 'AVwdfegEkufWRAb56a_N', 'AVwedlM6_7pvs4fzDM1V', 'AVwddCJ5_7pvs4fz6EEg', 'AVwcl7j8kufWRAb5w5Fr', 'AVwdAgJo_7pvs4fz1SiX', 'AVweSTPxIN2L1WUf3mT4', 'AVwcipE1IN2L1WUfmGE1', 'AVwegsSIkufWRAb5Dm7z', 'AWCACesxIxWefVJwvFDm', 'AVwdDZWXkufWRAb510Ab', 'AVwc1O06_7pvs4fzzbzB', 'AVweL0q1kufWRAb5Au6K', 'AVwd4TMv_7pvs4fz-Ers', 'AVwd1TbkByjofQCxs6FH', 'AVwddMfdIN2L1WUfwAue', 'AWE2FvX5RxPSIh2RscTK', 'AVwcj_OhkufWRAb5wi9T', 'AV1thAoL3-Khe5l_Ott5', 'AWB2mcqARxPSIh2RpdHz', 'AVwdhvN2kufWRAb56xSm', 'AWV8VsCtRxPSIh2RyTvS', 'AWCACh4CIxWefVJwvFKH', 'AVwc5LuukufWRAb50Jbl', 'AVzA_6Z0-gnIPe8DSgb_', 'AWCACflQIxWefVJwvFF4', 'AWcS7fMIa4HuVbedX4TQ', 'AWB4WPWTRxPSIh2Rpdw1', 'AWV8WeZrIxWefVJw354s', 'AV5OW5x2RxPSIh2RhpcH', 'AWM8j93RRxPSIh2RuhzO', 'AWB2X-9e3-Khe5l_cVCf', 'AWB4F2Dha4HuVbedJ8_d', 'AVwdljqrkufWRAb57WJ0', 'AV1TrxK2-gnIPe8DWo6q', 'AWcDgZvk3-Khe5l_qPXC', 'AWKnkc6v3-Khe5l_hxFj', 'AV1tiB-MRxPSIh2RbgUd', 'AWKj9yBya4HuVbedPTd3', 'AWEKmgyt3-Khe5l_exCm', 'AVwdX8UfkufWRAb55PNG', 'AV1thTOca4HuVbed8Y8t', 'AVwd5UOOByjofQCxtchr', 'AVwd7U2x_7pvs4fz-fTk', 'AVwdbtx1ByjofQCxpESg', 'AWB4V6PkIxWefVJwvDgC', 'AVweDxn2_7pvs4fz_rej', 'AV63tVNW3-Khe5l_YA9_', 'AWM8kLxMRxPSIh2Ruhz4', 'AV0yKP88FcQ3k02bFIts', 'AWEKkuNpIxWefVJwxGyH', 'AVwd-Lx3_7pvs4fz-5Ah', 'AWEKmvArIxWefVJwxKHF', 'AWKjinxY3-Khe5l_huzI', 'AV1eUGG23-Khe5l_NILv', 'AVwc7fCJIN2L1WUfqcIT', 'AV1eTyYwIxWefVJwfc9M', 'AVwde3XBIN2L1WUfwQNB', 'AWEKmp3Ia4HuVbedMXjP', 'AV1thiSI3-Khe5l_OwJu', 'AVwemL1x_7pvs4fzEfZu', 'AWEKq1Eba4HuVbedMYk2', 'AVwdRn0kIN2L1WUfuGE7', 'AVwcxhO8kufWRAb5y4IF', 'AWEKpyrNRxPSIh2RrjAm', 'AWEKlPrZIxWefVJwxHXU', 'AWFVZoAwIxWefVJwy0Qv', 'AWE8eTNHa4HuVbedNyBO', 'AWFzs4xta4HuVbedObWO', 'AVwdst84kufWRAb58cND', 'AVzX37skFcQ3k02bCAAH', 'AVwdAFQjByjofQCxkemn', 'AVzj3tIj3D1zeR_xCKeY', 'AWEw3g92RxPSIh2RsYB9', 'AWKrzpoo3-Khe5l_hyca', 'AV46yg1Wa4HuVbedAE7v', 'AV1eRXa0a4HuVbed6sOu', 'AWB2ZE423-Khe5l_cVK5', 'AWEKj8OCIxWefVJwxGCj', 'AV1thjTvRxPSIh2Rbe_u', 'AV1tg1mT3-Khe5l_OsnD', 'AVwc9b1sByjofQCxkDUq', 'AVweZtcxByjofQCxx3yd', 'AVwclNcUIN2L1WUfmk6O', 'AVwdz4fkIN2L1WUfzbHu', 'AV2FZwfaIxWefVJwifTk', 'AVweW2eTByjofQCxxfi0', 'AVwdH0AeByjofQCxluW5', 'AVwdNCQfkufWRAb53ZZm', 'AVwdwuoikufWRAb59A-g', 'AVwekuo2kufWRAb5ENps', 'AV0XuC_g3D1zeR_xDsmA', 'AVwc0m-W_7pvs4fzzVOt', 'AWCACqHTIxWefVJwvFSv', 'AV1tifGw3-Khe5l_Oynt', 'AVweYfCeIN2L1WUf4bWo', 'AVwdi5RsByjofQCxqKmw', 'AVwdtxRWByjofQCxr1Sf', 'AWV8Wa4da4HuVbedUdXQ', 'AV0yKQ9UFcQ3k02bFIut', 'AVwdKpVIIN2L1WUfs5G9', 'AVwdCkrF_7pvs4fz1oJ3', 'AWCVdGbia4HuVbedKQ1M', 'AVwctE4Q_7pvs4fzyEIf', 'AWCIG-e9a4HuVbedKGuu', 'AWEKmB9Ca4HuVbedMWRY', 'AVwdp-5bIN2L1WUfx-QW', 'AVwdcfh7kufWRAb55_JP', 'AV1thrxaRxPSIh2Rbffi', 'AV1tgeOTa4HuVbed8T1U', 'AWfznEYmIxWefVJwAzb1', 'AV1thSNNRxPSIh2RbeAO', 'AVwd6kLRIN2L1WUf0VmK', 'AVwekE3K_7pvs4fzEMXd', 'AV6ClLana4HuVbedE7tH', 'AV1eTlpBa4HuVbed6w1C', 'AVwdX6iqkufWRAb55O6q', 'AVwc1VpMByjofQCxisZz', 'AWEKm4QnRxPSIh2Rrihu', 'AV495hbyIxWefVJwlW8L', 'AVwc-POC_7pvs4fz06bp', 'AV4h_rMCa4HuVbed_fQN', 'AVwczy3LkufWRAb5zQBk', 'AVwec56zByjofQCxyVGl', 'AVwdyObDByjofQCxseoN', 'AV5Scdp-IxWefVJwnbnY', 'AVwdOVWUByjofQCxm0W7', 'AV46yZHA3-Khe5l_Sbqj', 'AVwdl0hzByjofQCxqnsx', 'AV--lmxKIxWefVJwsReI', 'AVwdF4JpkufWRAb52NoD', 'AWCACySCRxPSIh2Rpfsx', 'AVwclXpTkufWRAb5wyir', 'AV46ygpUa4HuVbedAE68', 'AVwcvXOt_7pvs4fzycrb', 'AVwdNvT_ByjofQCxmtfl', 'AWE7XfUHa4HuVbedNccE', 'AV1eUGO7RxPSIh2RZ6B-', 'AVwdK5etIN2L1WUfs7w4', 'AVweZmtlByjofQCxx26h', 'AV1fla3hIxWefVJwfjn0', 'AVwdDq6A_7pvs4fz10H0', 'AWKpUOem3-Khe5l_hxVk', 'AWFAxP143-Khe5l_giD7', 'AWbu4FYJa4HuVbedXsyP', 'AVweW1oTByjofQCxxfak', 'AVwdKiXaByjofQCxmKvO', 'AVwds0L4ByjofQCxrsXn', 'AWE77oOsa4HuVbedNnzx', 'AWEKmmlWIxWefVJwxJzG', 'AWdgUTtXa4HuVbedaODu', 'AVweJFTO_7pvs4fzAZoe', 'AVzxmZIz-gnIPe8DUR1X', 'AVweRq_hkufWRAb5BhEZ', 'AWB2cxH1a4HuVbedJ8f4', 'AV5aIOzq3-Khe5l_Vh3X', 'AWB2bVqtRxPSIh2Rpc2g', 'AVwdmR-RkufWRAb57dqg', 'AVwdzYOzkufWRAb59Yg3', 'AWbLQICi3-Khe5l_p1Xb', 'AWbLQNR0a4HuVbedXXcO', 'AWCPJMeG3-Khe5l_cj50', 'AVweb1k5_7pvs4fzC8mZ', 'AWdlE0rK3-Khe5l_tDlq', 'AV1Tpgl3FcQ3k02bFPgm', 'AVwePtFVkufWRAb5BQPF', 'AVwdZAwNIN2L1WUfvUkL', 'AVwchkxs_7pvs4fzwCM5', 'AVweWHMbIN2L1WUf4G8H', 'AV1eS5Waa4HuVbed6ukB', 'AWE8FMg_3-Khe5l_gH2n', 'AVweYGTCIN2L1WUf4YJb', 'AVz6h3jJFcQ3k02bDhJX', 'AWCAChhoIxWefVJwvFJG', 'AV4hzxTb3-Khe5l_R1-8', 'AWE77YFMRxPSIh2RsmV0', 'AWEKruIkIxWefVJwxLHG', 'AVwcznZZ_7pvs4fzzKa_', 'AVweAZKSByjofQCxucLQ', 'AWfaJjQba4HuVbeddiSW', 'AV1eTUxCa4HuVbed6v49', 'AV1thibU3-Khe5l_OwKY', 'AV5NZ-Rk3-Khe5l_UNvi', 'AVwc7-2fkufWRAb50m6j', 'AVwdB66AkufWRAb51kY8', 'AVwcwB2JIN2L1WUfoelR', 'AVwcw9nCByjofQCxh8Du', 'AWEKlW5Y3-Khe5l_evco', 'AWd55X8nIxWefVJw-ukb', 'AWFghptTRxPSIh2RtN5c', 'AWV8WGM5RxPSIh2RyTvk', 'AWEw8uNaRxPSIh2RsZCt', 'AVwcxZ_t_7pvs4fzyzQP', 'AVwdK66HkufWRAb53Bho', 'AVwcsI0XIN2L1WUfnzz8', 'AV1tfdVJ3-Khe5l_OjST', 'AVwd67cxkufWRAb5-aPl', 'AWFld6_E3-Khe5l_gwN1', 'AVwdCbgb_7pvs4fz1mf_', 'AWd54D1Ga4HuVbedbgwW', 'AVwdwazA_7pvs4fz8_Oh', 'AVwdpjZiIN2L1WUfx56f', 'AVwcjuNpIN2L1WUfmTHV', 'AV1thKU9a4HuVbed8YSX', 'AVwdK0ggkufWRAb53Afk', 'AWCACmMEIxWefVJwvFN4', 'AV1eSvg9a4HuVbed6uPk', 'AVwdX71zkufWRAb55PIC', 'AV495lLFRxPSIh2Rfy17', 'AV1geQ1XRxPSIh2RaDaW', 'AV1eS7ubRxPSIh2RZ3Ye', 'AWFAYXoEa4HuVbedOGQ_', 'AWE9L5MIa4HuVbedN_MV', 'AV1eS4TXRxPSIh2RZ3MC', 'AVwd_qmYIN2L1WUf1DGS', 'AVwdkWY2IN2L1WUfxF3k', 'AWEKlJAlIxWefVJwxHE1', 'AVwc6tW9ByjofQCxjmlT', 'AWEKmY9aIxWefVJwxJcZ', 'AV1thjYt3-Khe5l_OwOP', 'AVwdwbHz_7pvs4fz8_SN', 'AVz-al33-gnIPe8DUqjy', 'AWE7rXpRa4HuVbedNf_o', 'AVwctHgY_7pvs4fzyEoc', 'AWFFmUUoRxPSIh2RtC7T', 'AVwc2lzqkufWRAb5ztAV', 'AVweWvOT_7pvs4fzCQkP', 'AVwdRKnh_7pvs4fz4FkJ', 'AWEKmlvI3-Khe5l_exGR', 'AV1eTjeIa4HuVbed6wv6', 'AVwddeIMIN2L1WUfwDKo', 'AVwdRaopByjofQCxnWwN', 'AWB2d6J5IxWefVJwvCvP', 'AVwd87J3_7pvs4fz-ta8', 'AV1dcvYH3-Khe5l_Msan', 'AWIZKYxLa4HuVbedO4QM', 'AV46yf0oa4HuVbedAE5M', 'AV46yfjQa4HuVbedAE4u', 'AVweZ_c__7pvs4fzCr-a', 'AV-EJjTE3-Khe5l_YonZ', 'AWCIHYfW3-Khe5l_cgL8', 'AVwc9mJbkufWRAb503ER', 'AV0X1Zp8FcQ3k02bEKT7', 'AWCIIWGz3-Khe5l_cgeY', 'AVwdKfPSkufWRAb529Gj', 'AVwdnn97_7pvs4fz7rIl', 'AWEKm1vzRxPSIh2Rricn', 'AWE7TZ7_IxWefVJwyJbk', 'AWV8XUddRxPSIh2RyTw8', 'AWFFqUL1IxWefVJwyt90', 'AVweegf8kufWRAb5DRxx', 'AVwekzbHByjofQCxzg6f', 'AVwdztBSIN2L1WUfzZZi', 'AVweaU9yByjofQCxx9NF', 'AV496YN3a4HuVbedAgdv', 'AWLTU3B93-Khe5l_h9VG', 'AWE2FQzJa4HuVbedNWYC', 'AVz-gEziFcQ3k02bDlGI', 'AVwegPplIN2L1WUf5jOC', 'AVweQ0jG_7pvs4fzBdOy', 'AV1flvbLRxPSIh2RaAN6', 'AVwdXPo8kufWRAb55H2X', 'AWE8q35Q3-Khe5l_gPJ3', 'AWEKmZMpa4HuVbedMXFn', 'AVwc47jAIN2L1WUfp__5', 'AVwcqifF_7pvs4fzxn90', 'AWLZLROeRxPSIh2RuL8b', 'AV1thsxtIxWefVJwhD2-', 'AWEKmQEARxPSIh2RrhXv', 'AVwc7ojtIN2L1WUfqdwI', 'AVwchMARkufWRAb5wCKd', 'AVwduvE2IN2L1WUfyrFI', 'AWKoVi3P3-Khe5l_hxMG', 'AV1eTRHea4HuVbed6vtZ', 'AV1flWHFRxPSIh2RZ_1J', 'AVwcsVVVkufWRAb5yAHN', 'AVwc3X6ukufWRAb5z1eu', 'AV1tgfZ53-Khe5l_OqTa', 'AVwcyDQHIN2L1WUfo1sX', 'AVwc35pNByjofQCxjH50', 'AVwehjMRkufWRAb5DvG6', 'AWB2aJraIxWefVJwvCjR', 'AVwdgEkvkufWRAb56g6J', 'AVwd1M88_7pvs4fz9pvY', 'AVwdiiqhIN2L1WUfw0Id', 'AVwchh4f_7pvs4fzwBnt', 'AWEKkCODIxWefVJwxGFu', 'AVwc_nSfIN2L1WUfrG0K', 'AWEKlIxxIxWefVJwxHD9', 'AVwdVbmVIN2L1WUfuuJo', 'AV1tgzPFIxWefVJwg_aJ', 'AVwdaclm_7pvs4fz5oMH', 'AVweYydcByjofQCxxwHb', 'AVwduimh_7pvs4fz8tSx', 'AVweRoaDkufWRAb5BgtA', 'AVweiGMOByjofQCxzG76', 'AV--luVA3-Khe5l_ZMEJ', 'AVwdeLWXByjofQCxpdCm', 'AWE71f4MRxPSIh2Rsl4O', 'AWEKmzP_3-Khe5l_exg7', 'AWENcSYNIxWefVJwxZm7', 'AVwdq-c7IN2L1WUfyIMK', 'AV1flj8H3-Khe5l_NQb7', 'AWEKlb7mRxPSIh2Rrgay', 'AV1flTqW3-Khe5l_NQXR', 'AV1flxnP3-Khe5l_NQg3', 'AV1c3L_zRxPSIh2RYnrE', 'AV4_JaHnRxPSIh2RgE-h', 'AVzBKUgPLD2H7whiWNGf', 'AVwc_eATIN2L1WUfrFLX', 'AWEKmOhy3-Khe5l_ewas', 'AWCVhis-a4HuVbedKQ7C', 'AV5NbrOF3-Khe5l_UOA5', 'AWEKjeJz3-Khe5l_es1k', 'AVweMl6NIN2L1WUf21TG', 'AV1thm4A3-Khe5l_Owbz', 'AVwdb8DuByjofQCxpGu0', 'AVweU_9K_7pvs4fzCBoH', 'AVwdUoMdkufWRAb54rxF', 'AV1tiHZj3-Khe5l_Oxu0', 'AVwc4Wmx_7pvs4fzz8V_', 'AWB4G7duIxWefVJwvDQJ', 'AVwdpQ8HIN2L1WUfx3Cs', 'AWEKmtad3-Khe5l_exZs', 'AV1flzR-IxWefVJwfj_F', 'AV1eTOBYa4HuVbed6vjj', 'AVweB_oFByjofQCxuqx2', 'AWEKmNhVRxPSIh2RrhPc', 'AWLVe2VD3-Khe5l_h9ri', 'AV1eTSG43-Khe5l_NFox', 'AVwd9glG_7pvs4fz-yzP', 'AVwd8zPZkufWRAb5-qrX', 'AVzoMUvgLD2H7whiXmq_', 'AVwdRn-XIN2L1WUfuGGK', 'AVwdUiRKByjofQCxn3uM', 'AWEKmqj7IxWefVJwxJ93', 'AVwdBBbZIN2L1WUfrVGG', 'AVwdXF6W_7pvs4fz5E7S', 'AWCIHtpR3-Khe5l_cgQI', 'AWEKmbcBa4HuVbedMXJt', 'AVwc9q-HByjofQCxkFoy', 'AVwcsZ2uByjofQCxhJsI', 'AV1flifcRxPSIh2RaABn', 'AWE7lsEMIxWefVJwyMxf', 'AVwdrOzG_7pvs4fz8PTn', 'AVwcvAjI_7pvs4fzyYoq', 'AVwdGWGEByjofQCxlfof', 'AVweDh7f_7pvs4fz_pV8', 'AWFVaimZ3-Khe5l_grE5', 'AWFp8DuMRxPSIh2RtP7A', 'AVweVZj7_7pvs4fzCFMK', 'AV46yc0fa4HuVbedAE0-', 'AVwdtAhn_7pvs4fz8feK', 'AV0aA9vR3D1zeR_xEMm5', 'AVwd1vSRIN2L1WUfzrVX', 'AWEKmmZHIxWefVJwxJyf', 'AVwdKSJlByjofQCxmH8m', 'AVwcyzqGIN2L1WUfo9UR', 'AWE9LP3DRxPSIh2Rs4VZ', 'AVwcvlZ7IN2L1WUfoZi_', 'AWVonUN7IxWefVJw313t', 'AWCIG8vu3-Khe5l_cfsA', 'AVwc8tSkIN2L1WUfqpPH', 'AVwejSC3IN2L1WUf6ADv', 'AVwdO9ow_7pvs4fz3sFg', 'AVwcys4D_7pvs4fzzAzr', 'AVweRNhmByjofQCxwvCl', 'AV1tiZ_na4HuVbed8cDL', 'AVwdVTjHIN2L1WUfusw3', 'AVwdS5J0ByjofQCxnmfk', 'AVweIQOTByjofQCxvhYP', 'AVwdAC6IByjofQCxkeN3', 'AVwdY0feIN2L1WUfvScq', 'AVwdUytKByjofQCxn6j2', 'AWFghqW0RxPSIh2RtN5g', 'AVwc5_kzkufWRAb50R9q', 'AVwdYpVv_7pvs4fz5VF-', 'AVwdT6nuIN2L1WUfueWU', 'AWAJJ4N2RxPSIh2RooA_', 'AVwcnirh_7pvs4fzxHPP', 'AVwd9tc1IN2L1WUf0yG9', 'AWE7OIcS3-Khe5l_fzq_', 'AV1ZVnHEFcQ3k02bF0oG', 'AVwdWHOjByjofQCxoI4d', 'AWE9Lk81RxPSIh2Rs4Zv', 'AVwdkvTe_7pvs4fz7ObJ', 'AVwd_P7HkufWRAb5_BIK', 'AWEKmdUVIxWefVJwxJlU', 'AVwc75uj_7pvs4fz0iou', 'AV1Tpgs8LD2H7whiZ5tP', 'AVwcxWva_7pvs4fzyysT', 'AVweld2SByjofQCxzm30', 'AVwdOY1iByjofQCxm1D6', 'AVwd6iBTIN2L1WUf0VQk', 'AV1tiLieRxPSIh2Rbgqi', 'AWEKla9_RxPSIh2RrgVW', 'AVweUAjkkufWRAb5B1E4', 'AVwdGqhs_7pvs4fz2TEH', 'AVwehCfX_7pvs4fzDup_', 'AWEKmJd-3-Khe5l_ewOL', 'AV1thlLGIxWefVJwhDap', 'AVwdMu2h_7pvs4fz3T81', 'AVwd1xIkByjofQCxs-CU', 'AVwdXBDzkufWRAb55FZV', 'AVweUq7DIN2L1WUf36tH', 'AVwcjWUlIN2L1WUfmOlp', 'AVwcu-m6IN2L1WUfoSz6', 'AV1thMcj3-Khe5l_OuzS', 'AVwdm9yoByjofQCxqzbY', 'AWEKlTeARxPSIh2Rrf9Z', 'AWE78HDXIxWefVJwyQNO', 'AVwdh7izByjofQCxqBEH', 'AVwdROieIN2L1WUfuCEn', 'AWF-MYiE3-Khe5l_g4Dq', 'AV1tiACMa4HuVbed8bFK', 'AVwehlAfkufWRAb5DvZg', 'AWCPRHeNRxPSIh2RpqTq', 'AWKoTnn_3-Khe5l_hxLt', 'AVwcr3KT_7pvs4fzx3D_', 'AVwdDjV7IN2L1WUfrv_4', 'AVwc9MQyByjofQCxkAtL', 'AVwdgmLZkufWRAb56l9Z', 'AVwcpBnlByjofQCxgj-B', 'AVwdKvjo_7pvs4fz29dh', 'AVwdInY6kufWRAb52pHG', 'AVwcsHsU_7pvs4fzx51l', 'AVweBIRTByjofQCxuiyk', 'AVwdgWVGIN2L1WUfwe08', 'AV1tg1LXa4HuVbed8WOE', 'AVwcsOEqIN2L1WUfn0uq', 'AVweiNw6kufWRAb5D1px', 'AVwc9izyIN2L1WUfqxqY', 'AVweUqEmByjofQCxxM1S', 'AVwdKcr3ByjofQCxmJr4', 'AV1gowUNIxWefVJwf2GJ', 'AWCPHe35a4HuVbedKK0j', 'AVwco-L6kufWRAb5xbQC', 'AVweGXB0_7pvs4fzAB6Y', 'AVwc8a97IN2L1WUfqmLI', 'AVwdv85LIN2L1WUfy2jz', 'AVweEl_IkufWRAb5_v-l', 'AWEKq1I8a4HuVbedMYlG', 'AVwcf0op_7pvs4fzvtqM', 'AVwdXmUhIN2L1WUfvF5r', 'AV1gkOzPRxPSIh2RaLCo', 'AVwciR9kIN2L1WUfmBq_', 'AVwdgeiWByjofQCxpzPJ', 'AVwdknsPByjofQCxqbmJ', 'AWFAj0n4a4HuVbedOG2U', 'AV1thu9SIxWefVJwhD8v', 'AVwebfVnkufWRAb5C1Pm', 'AVwc14xyIN2L1WUfpfB5', 'AVwdFsuwIN2L1WUfsF-c', 'AVwdiOC_ByjofQCxqD1s', 'AVwcvG2TByjofQCxhm_J', 'AVwdMpR__7pvs4fz3S_y', 'AVwcl6UkByjofQCxgAid', 'AV0Xx7K43D1zeR_xDuwc', 'AVweZntgkufWRAb5Ckya', 'AVwcvVCz_7pvs4fzycQK', 'AWCauw2kRxPSIh2Rpz4J', 'AV1eS_4AIxWefVJwfbSX', 'AV1eTHnlIxWefVJwfbro', 'AWV8V53x3-Khe5l_m61W', 'AWEKmT5z3-Khe5l_ewqX', 'AVweSl1nkufWRAb5BpSv', 'AVwc4MhxkufWRAb5z-eG', 'AVzOLeha3D1zeR_xBT9g', 'AVweXCYFByjofQCxxhGq', 'AVwdUoU1ByjofQCxn40H', 'AV5TO2KQIxWefVJwnq8U', 'AWB2gRinIxWefVJwvCys', 'AWEKlWrdIxWefVJwxIEE', 'AVwdZ6yNByjofQCxoxCr', 'AWBwl-CmIxWefVJwvAWo', 'AWFVZa2RIxWefVJwy0G4', 'AV1thMc6IxWefVJwhB3z', 'AVweMcBpkufWRAb5A0VU', 'AVz6h4u2FcQ3k02bDhKp', 'AVwckdbk_7pvs4fzwjxT', 'AV1c9uj9RxPSIh2RZELQ', 'AVwchwL9IN2L1WUfl7KR', 'AVwdoJECkufWRAb57vvC', 'AV1tgo-ia4HuVbed8U8p', 'AVwelCN-IN2L1WUf6Q9Y', 'AVwdC7P-_7pvs4fz1r3n', 'AWEKmai6RxPSIh2Rrhr_', 'AWE9LYUMa4HuVbedN_AT', 'AVwdG-mFkufWRAb52Y9h', 'AVwdtiBIIN2L1WUfygYo', 'AWCIJI0H3-Khe5l_cg5f', 'AWBwmBRCRxPSIh2RparU', 'AVwcpF7rByjofQCxgkkw', 'AVwelnvm_7pvs4fzEaVM', 'AWEKjbTia4HuVbedMSvF', 'AVzY0EHjFcQ3k02bCQyO', 'AVwdQmLNIN2L1WUft7EO', 'AVwcvBOqIN2L1WUfoTO5', 'AVwcjR1j_7pvs4fzwWRP', 'AVwdD4J__7pvs4fz12Ou', 'AV1tgpiAa4HuVbed8VAi', 'AVweexFQIN2L1WUf5U-x', 'AWE2EbkcIxWefVJwyEsr', 'AVwd5NMOkufWRAb5-Ldv', 'AVwd5jiP_7pvs4fz-P6U', 'AVwdcNxrkufWRAb558VM', 'AVwemq1DByjofQCxzxYu', 'AVweVcWDkufWRAb5CB0v', 'AV8KUzLQ3-Khe5l_YHcD', 'AV1tg8tHIxWefVJwhAZc', 'AWOnm7GpIxWefVJw0cpi', 'AV1thaYi3-Khe5l_Ovtq', 'AV1c-oCPIxWefVJweqoH', 'AVwcopCNByjofQCxgfSS', 'AVwePZOm_7pvs4fzBQ1u', 'AVwcsjININ2L1WUfn4X1', 'AVwef6iIByjofQCxyyMK', 'AVwdB-p5IN2L1WUfrfBE', 'AV2z6Szm3-Khe5l_Qzo4', 'AV1tgqpY3-Khe5l_OreY', 'AWV8WBQ93-Khe5l_m61g', 'AV-EJzYYIxWefVJwrugd', 'AVwcpen1_7pvs4fzxch7', 'AWE83hw3a4HuVbedN41e', 'AVweU6ldkufWRAb5B9Lq', 'AVwdq6XZkufWRAb58Lby', 'AV1eTMfO3-Khe5l_NFUg', 'AVwcwF98IN2L1WUfofTr', 'AVwdTtLzByjofQCxnu8i', 'AV1tgvLARxPSIh2RbasB', 'AVwdoIC4IN2L1WUfxrse', 'AVweLt2CByjofQCxv_z8', 'AVweb2I5IN2L1WUf44wk', 'AVweCVxEIN2L1WUf1bjS', 'AVwdcobCkufWRAb56Aph', 'AV5Nb-u7a4HuVbedB23u', 'AVzX38LmLD2H7whiWsXx', 'AV1tiXPm3-Khe5l_OyVn', 'AVweaUNZIN2L1WUf4rA1', 'AVz2xKSj-gnIPe8DUaij', 'AWCPCrUK3-Khe5l_cjv5', 'AVwcqGLzkufWRAb5xmlJ', 'AWCZYxnZRxPSIh2RpyLV', 'AVwdMznYByjofQCxmj-Y', 'AWB4GCC4IxWefVJwvDNe', 'AVweMC-N_7pvs4fzAz_J', 'AWEw7pPga4HuVbedNStK', 'AVwcrZPIByjofQCxg-Xq', 'AWV8Vt2TIxWefVJw3533', 'AVwdIk7rIN2L1WUfsi5e', 'AV1c7jceIxWefVJweeGK', 'AVzBDDcUFcQ3k02bBdJ_', 'AVwckq5JIN2L1WUfmeaV', 'AWE78qsta4HuVbedNpyZ', 'AVwcua0RkufWRAb5yWIm', 'AWE7LPqVIxWefVJwyG5d', 'AWCAC2_qIxWefVJwvFhz', 'AVwcffyTIN2L1WUflihz', 'AV1eUKl1RxPSIh2RZ6Og', 'AV0aPNCr3D1zeR_xESvg', 'AVwdbAUYIN2L1WUfvpoH', 'AWEKlhqca4HuVbedMV7_', 'AWIHwm5Q3-Khe5l_hR5C', 'AVweLfkNIN2L1WUf2rn0', 'AVwePm4EByjofQCxwhLr', 'AV1eTzA-IxWefVJwfc9f', 'AWEKqFlXRxPSIh2RrjDD', 'AVwc637l_7pvs4fz0X4e', 'AVwdp-qoIN2L1WUfx-OV', 'AVwdUOvgByjofQCxn0bB', 'AV1thGMp3-Khe5l_OuQb', 'AWEKlNxLRxPSIh2RrfWe', 'AVwcvkMH_7pvs4fzyfF-', 'AVwdnu2zkufWRAb57rvV', 'AV1flUsD3-Khe5l_NQYF', 'AVwcjhd5ByjofQCxfj0b', 'AVwc3qqNkufWRAb5z426', 'AVwdgo1Z_7pvs4fz6mHX', 'AVwdJ8LR_7pvs4fz200B', 'AVwc2Zy8ByjofQCxi3pM', 'AWCACkqs3-Khe5l_cX22', 'AWEKmlvy3-Khe5l_exGT', 'AV4_H_UZ3-Khe5l_TDFN', 'AWOnmoTV3-Khe5l_iumZ', 'AWCACeZPRxPSIh2RpfSq', 'AVwdeAF5ByjofQCxpbXE', 'AVweMDx7_7pvs4fzA0EI', 'AWCPBTWNRxPSIh2Rpp4I', 'AWEKmvmVa4HuVbedMXvr', 'AVwcvLgfByjofQCxhn0o', 'AVwdbg5fkufWRAb550ow', 'AVwczKAgByjofQCxiUIL', 'AVwdN5uH_7pvs4fz3gWn', 'AV0Vkqa7LD2H7whiYpcC', 'AV1eTmr6IxWefVJwfciu', 'AVwd7I81_7pvs4fz-dj9', 'AVwci4PEkufWRAb5wWZx', 'AWKkSsJma4HuVbedPTf_', 'AVzeFFiGLD2H7whiXIAe', 'AVwekE7XkufWRAb5EHvx', 'AWEKmpuSIxWefVJwxJ7q', 'AWEKmfsTRxPSIh2Rrh2U', 'AVweCzefByjofQCxuyO9', 'AVwelLPzByjofQCxzkXy', 'AVwdan3bkufWRAb55qza', 'AV1b9WNYFcQ3k02bF8xu', 'AVwef99aIN2L1WUf5gke', 'AVwciwqEkufWRAb5wVFd', 'AV1tiT6wIxWefVJwhFQl', 'AVwcl7AR_7pvs4fzw0hS', 'AVwc9B7WkufWRAb50xVg', 'AVwd7jjp_7pvs4fz-hWr', 'AWE73jiFIxWefVJwyPFU', 'AVwecsvT_7pvs4fzDE9F', 'AV1tiQ2QIxWefVJwhFJc', 'AVwdpkRHkufWRAb5794E', 'AVwdD-gnIN2L1WUfr0sv', 'AV-AN728a4HuVbedGQnJ', 'AV1eTz0qIxWefVJwfdAB', 'AVwcps_sByjofQCxgriK', 'AVwc8JIcByjofQCxj2AR', 'AV1TpbqhFcQ3k02bFOoh', 'AWEKskkRRxPSIh2RrjWq', 'AV_YoK_aIxWefVJwtBEq', 'AWEKmoOtIxWefVJwxJ4L', 'AV1Ts63z3D1zeR_xFH6n', 'AV1tgeM63-Khe5l_OqMR', 'AVwczj6BByjofQCxiYeH', 'AV--lQdFRxPSIh2RmtbT', 'AWV8XUk4RxPSIh2RyTw-', 'AWV8VllRa4HuVbedUdV1', 'AWCIHAD23-Khe5l_cfxb', 'AVwc0X42kufWRAb5zWPS', 'AWV8f9wjRxPSIh2RyT2Q', 'AWV8Vocca4HuVbedUdV3', 'AV0ZGbylLD2H7whiZCuR', 'AVwdhHkfkufWRAb56rA0', 'AV1eTed4a4HuVbed6wfg', 'AV46yhVA3-Khe5l_Sb7T', 'AVwcsqzL_7pvs4fzx_xz', 'AV1suU2j3-Khe5l_OVYP', 'AVwcq_FjByjofQCxg5hH', 'AWV8Xr-SIxWefVJw356m', 'AVwcu5TlIN2L1WUfoR8G', 'AVwdyoArIN2L1WUfzPyp', 'AWEKmfu0IxWefVJwxJqW', 'AVwcpaQ0kufWRAb5xfuR', 'AVweOjICByjofQCxwYKD', 'AVwdSelekufWRAb54U59', 'AVwePPg7_7pvs4fzBPmW', 'AWCACZ-ka4HuVbedJ-0v', 'AVwctTao_7pvs4fzyG63', 'AWfPeemaa4HuVbeddb2K', 'AV1Tpbi5-gnIPe8DWWUp', 'AVwcj1x3ByjofQCxfnde', 'AVweiSs2_7pvs4fzD7Ag', 'AVweHwqKkufWRAb5AL0P', 'AVz-btoDLD2H7whiYSvJ', 'AVwd1FxeIN2L1WUfzlc_', 'AVweInlbIN2L1WUf2Sei', 'AWdW0Vow3-Khe5l_sTDB', 'AWCZaMAdIxWefVJwvW5T', 'AVwcm8SrkufWRAb5xEv_', 'AWB2pDC_IxWefVJwvDCR', 'AWE7_9j2a4HuVbedNreA', 'AWEKkH3ca4HuVbedMTx8', 'AVz6h4g83D1zeR_xDHs-', 'AVwce2Mi_7pvs4fzvh1U', 'AVwc-1XgByjofQCxkROh', 'AV1tgus6a4HuVbed8VhR', 'AVwdkoMR_7pvs4fz7NUN', 'AV1TpkL0FcQ3k02bFQJQ', 'AVwd-0wekufWRAb5-9SC', 'AWCPMJnyRxPSIh2RpqKA', 'AV1tgQqQ3-Khe5l_Oo3J', 'AV1thnbA3-Khe5l_OweH', 'AWB2X9i7RxPSIh2Rpciy', 'AV1th19YIxWefVJwhEKX', 'AWB2a4yca4HuVbedJ8Zk', 'AV1eS8uvRxPSIh2RZ3cZ', 'AVwcpknJkufWRAb5xhZv', 'AV1flZVK3-Khe5l_NQZ7', 'AV1flg_0RxPSIh2RZ__p', 'AVwc5QHh_7pvs4fz0Gkh', 'AV1thZAR3-Khe5l_Ovn8', 'AVweJwa_ByjofQCxvvAV', 'AVwdAVK5ByjofQCxkguJ', 'AVwcrRy5ByjofQCxg8_s', 'AVwcyxqVByjofQCxiPx3', 'AVwcfwJgByjofQCxe4Ie', 'AV1thsuTIxWefVJwhD2v', 'AWFA2p8B3-Khe5l_gigY', 'AV1TphlP-gnIPe8DWXaJ', 'AVwc4YW_IN2L1WUfp55b', 'AVwcfs8YByjofQCxe3pw', 'AVweZOJ7IN2L1WUf4h41', 'AV1tg_aYa4HuVbed8XPz', 'AWE9XqBja4HuVbedOCiE', 'AVwdI4BrkufWRAb52rrb', 'AV1glLfKRxPSIh2RaM4K', 'AVwcqHIxkufWRAb5xmxv', 'AWEKlb9va4HuVbedMV2X', 'AWEKmtal3-Khe5l_exZu', 'AV4c4rERIxWefVJwkK49', 'AVz6h4w73D1zeR_xDHtL', 'AV1thChX3-Khe5l_Ot5J', 'AVweHBo5IN2L1WUf2EZA', 'AVzX37ln-gnIPe8DTHiA', 'AVwdnV--kufWRAb57oGf', 'AVzxqr3QFcQ3k02bDOaK', 'AVwdDHa5_7pvs4fz1tz0', 'AV455mZV3-Khe5l_SXp7', 'AV1thhMoIxWefVJwhDLP', 'AVweEBloIN2L1WUf1qPT', 'AVwdDVVzByjofQCxlAYX', 'AVwdTc6rkufWRAb54fgb', 'AWB2dMcU3-Khe5l_cVZl', 'AV1eTomLRxPSIh2RZ4-c', 'AV1eS9K63-Khe5l_NEiK', 'AVwec8UnkufWRAb5DC9t', 'AWCIG7Y2a4HuVbedKGqP', 'AVweDIyu_7pvs4fz_l_v', 'AV1eUARMIxWefVJwfdcR', 'AVwcwb4XByjofQCxh2Hv', 'AVwdaE05IN2L1WUfvfb4', 'AVwc41dWIN2L1WUfp-8l', 'AWbLPoSv3-Khe5l_p1XY', 'AVwc8flYIN2L1WUfqm68', 'AWEKmPtdIxWefVJwxJJs', 'AV486nJPIxWefVJwlUNc', 'AVweGuKP_7pvs4fzAFG1', 'AV0Z8ufJFcQ3k02bEjUJ', 'AWCACz8H3-Khe5l_cYF4', 'AVweeKqlByjofQCxyhIt', 'AVwc_pMmkufWRAb51Mpq', 'AVwehjWh_7pvs4fzDzod', 'AWFFe5IOIxWefVJwyqsS', 'AWE9LZfWa4HuVbedN_Ag', 'AWEKprTaa4HuVbedMYZd', 'AVwcrAX8IN2L1WUfnmx0', 'AV0ZK-4P3D1zeR_xEAHu', 'AVwdm0yYIN2L1WUfxfGa', 'AVweSssqByjofQCxw8Zt', 'AV1thXn43-Khe5l_Ovjq', 'AWEKpQK7IxWefVJwxKvN', 'AVwd_AbKByjofQCxuQHe', 'AWFXSrPVRxPSIh2RtLY9', 'AVwc9XfPIN2L1WUfqvzz', 'AV1db6fKIxWefVJwe7Pq', 'AVzA26qJLD2H7whiWGTF', 'AVzX1GlB3D1zeR_xBgfh', 'AVwc2GM6kufWRAb5znyK', 'AV1TpjGm-gnIPe8DWXqu', 'AVweZ4ws_7pvs4fzCrJ0', 'AVweEIBR_7pvs4fz_ueZ', 'AWE7bZc53-Khe5l_f3pJ', 'AV2gfAfPRxPSIh2RdXIp', 'AVwc3WBEIN2L1WUfpvHW', 'AV1flrbl3-Khe5l_NQdo', 'AWEKlofeIxWefVJwxIcg', 'AVwcl5x-kufWRAb5w4x2', 'AVwd4bdFkufWRAb5-EXA', 'AV-Cilg2a4HuVbedGQqK', 'AWEKlJAfIxWefVJwxHEz', 'AVwdahWKIN2L1WUfvkQW', 'AVwddNBx_7pvs4fz6FpU', 'AVwd82zc_7pvs4fz-syN', 'AVweE5BP_7pvs4fz_0zh', 'AWd542R6a4HuVbedbgwd', 'AVweNWHFkufWRAb5A8G4', 'AV1eTRdRRxPSIh2RZ4SR', 'AWEw2IoJRxPSIh2RsX9B', 'AWE83imza4HuVbedN41j', 'AVwdPuVHByjofQCxnEGZ', 'AVwcvkS0ByjofQCxhsTv', 'AVwdfmzgkufWRAb56cOE', 'AVwdqoUz_7pvs4fz8JJy', 'AVwdvs4aIN2L1WUfy0Fu', 'AVwdosKzkufWRAb571Cd', 'AWEKsx5RRxPSIh2RrjYE', 'AVwdVuRoByjofQCxoETr', 'AVwcnURaIN2L1WUfm9M5', 'AVzX41fQ-gnIPe8DTJt3', 'AVwcfxRIIN2L1WUfllQe', 'AWB4cG3ga4HuVbedJ9Xe', 'AVwdA_-WByjofQCxkniK', 'AWCIHC9m3-Khe5l_cf2j', 'AWB4UnF4a4HuVbedJ9Mg', 'AWCIHQ_aRxPSIh2RpnFs', 'AVwef_0m_7pvs4fzDkue', 'AVwdUsxsByjofQCxn5es', 'AVweN8-yByjofQCxwTTU', 'AVwdNLpIIN2L1WUftVK-', 'AVwdx_tKByjofQCxscjE', 'AVweZ1C6_7pvs4fzCqoY', 'AVwcvZ_SkufWRAb5yg56', 'AVwcuk2FByjofQCxhhWe', 'AVwdLevY_7pvs4fz3Fua', 'AVwdB4m1kufWRAb51j_a', 'AVwcgQbAIN2L1WUflqKh', 'AVwddxakByjofQCxpZKW', 'AWCPCCXuRxPSIh2Rpp5P', 'AVwdbRL9IN2L1WUfvsZD', 'AVwdmGkmIN2L1WUfxXj-', 'AVz6h4xZ3D1zeR_xDHtM', 'AVwdT9_UkufWRAb54ktq', 'AVwebW3tIN2L1WUf40LS', 'AVweHgGAIN2L1WUf2IcI', 'AV3HoVhXa4HuVbed-zd_', 'AVwcqsAw_7pvs4fzxpyM', 'AVwdUfkJkufWRAb54qNR', 'AVwdsGxx_7pvs4fz8XkF', 'AVwd_szKkufWRAb5_Et4', 'AWA5NpGRIxWefVJwuoP1', 'AWEKjXkORxPSIh2Rrc6O', 'AVwcukA_IN2L1WUfoOYw', 'AVwdLBqzIN2L1WUfs9JT', 'AVwdjPXFByjofQCxqNzy', 'AVwdWX_1IN2L1WUfu5D4', 'AVwcfQbtIN2L1WUflfpg', 'AVwek7jT_7pvs4fzEUMV', 'AV1thTuEa4HuVbed8Y96', 'AVwddrzNByjofQCxpYTZ', 'AVwcltjfIN2L1WUfmq9q', 'AVwcjr8zkufWRAb5wfpm', 'AWCPRNo5IxWefVJwvP_R', 'AVwei-n_IN2L1WUf59VJ', 'AV1eS19z3-Khe5l_NEUo', 'AVwdAFTX_7pvs4fz1Of1', 'AWB4cEAwa4HuVbedJ9XM', 'AWEKmakW3-Khe5l_ew1f', 'AV1flTv43-Khe5l_NQXa', 'AVwcx2e0kufWRAb5y7gw', 'AVweNAF8ByjofQCxwLOF', 'AVzX1dGLFcQ3k02bB78j', 'AVwcrX-wIN2L1WUfnrIY', 'AVweNseC_7pvs4fzBCjZ', 'AVwdt26_IN2L1WUfyjUN', 'AVwc6aZFIN2L1WUfqQjD', 'AVweNENx_7pvs4fzA9KG', 'AVwd1EKLByjofQCxs3y_', 'AVweOLLD_7pvs4fzBGui', 'AVwcxTzH_7pvs4fzyyH5', 'AV6atrNyIxWefVJwqtKq', 'AWIXxI1jRxPSIh2RtrhP', 'AVwcgqTQIN2L1WUflupp', 'AV9J4E8ZRxPSIh2Rlz1-', 'AWE9L9yDa4HuVbedN_Og', 'AVwdeI_gByjofQCxpcpz', 'AV1Ts5IFLD2H7whiaPiu', 'AWE8MwFl3-Khe5l_gKez', 'AVwc_RMeIN2L1WUfrDBh', 'AWCPRUBCRxPSIh2RpqUY', 'AV1thTgM3-Khe5l_OvT5', 'AV1tg9C7a4HuVbed8XA5'])"
            ]
          },
          "metadata": {},
          "execution_count": 4
        }
      ]
    },
    {
      "cell_type": "code",
      "source": [
        "len(kws)"
      ],
      "metadata": {
        "colab": {
          "base_uri": "https://localhost:8080/"
        },
        "id": "lF0PPiZGIXPP",
        "outputId": "9d4af1e4-7ebc-4668-80b2-a832eb5abb40"
      },
      "execution_count": 5,
      "outputs": [
        {
          "output_type": "execute_result",
          "data": {
            "text/plain": [
              "2197"
            ]
          },
          "metadata": {},
          "execution_count": 5
        }
      ]
    },
    {
      "cell_type": "code",
      "source": [
        "kws['AVwc252WIN2L1WUfpqLP'] "
      ],
      "metadata": {
        "colab": {
          "base_uri": "https://localhost:8080/"
        },
        "id": "bWElUDc_IZNi",
        "outputId": "8adcc315-5cba-4801-a4b4-9ccb2fe3650a"
      },
      "execution_count": 6,
      "outputs": [
        {
          "output_type": "execute_result",
          "data": {
            "text/plain": [
              "{'neg': [],\n",
              " 'pos': ['Amazing place',\n",
              "  'some top notch places',\n",
              "  'the highest rated tennis resorts',\n",
              "  'an amazing experience',\n",
              "  'my new favorite places',\n",
              "  'perfect experience',\n",
              "  'perfect villas',\n",
              "  'impressive program',\n",
              "  'amazing experience']}"
            ]
          },
          "metadata": {},
          "execution_count": 6
        }
      ]
    },
    {
      "cell_type": "code",
      "source": [
        "kws[\"AVwdOclqIN2L1WUfti38\"]"
      ],
      "metadata": {
        "colab": {
          "base_uri": "https://localhost:8080/"
        },
        "id": "XP2S7DqTIkyK",
        "outputId": "fe73d41d-7ddd-4e93-a6e8-f01f6f1aeaab"
      },
      "execution_count": 9,
      "outputs": [
        {
          "output_type": "execute_result",
          "data": {
            "text/plain": [
              "{'neg': ['nothing'], 'pos': ['a great location', 'super nice staff']}"
            ]
          },
          "metadata": {},
          "execution_count": 9
        }
      ]
    },
    {
      "cell_type": "code",
      "source": [
        "# list(kws.keys())[2]"
      ],
      "metadata": {
        "id": "s-ShP35BIbPk"
      },
      "execution_count": null,
      "outputs": []
    },
    {
      "cell_type": "code",
      "source": [
        "kws[\"AVwePiAX_7pvs4fzBSAl\"]"
      ],
      "metadata": {
        "colab": {
          "base_uri": "https://localhost:8080/"
        },
        "id": "pEzE3nrbIpgi",
        "outputId": "dbb9af46-f461-45bd-8674-4ed3a4b329c8"
      },
      "execution_count": 11,
      "outputs": [
        {
          "output_type": "execute_result",
          "data": {
            "text/plain": [
              "{'neg': [],\n",
              " 'pos': ['Very friendly staff',\n",
              "  'great free breakfast items',\n",
              "  'a nice hotel',\n",
              "  'great staff',\n",
              "  'young children',\n",
              "  'Beautiful property',\n",
              "  'excellent customer service']}"
            ]
          },
          "metadata": {},
          "execution_count": 11
        }
      ]
    },
    {
      "cell_type": "markdown",
      "source": [
        "# кластеризация не нужна"
      ],
      "metadata": {
        "id": "GbTA84_NI4YW"
      }
    },
    {
      "cell_type": "markdown",
      "source": [
        "clustering is not an optimal choice, as we need to cluster inside positive and negative sets inside 1 hotel, and this is not enough data for the clustering algorithms."
      ],
      "metadata": {
        "id": "t66pIH-RX7PV"
      }
    },
    {
      "cell_type": "markdown",
      "source": [
        "## tfidf sorting for keywords ONLY WHERE THERE ARE A LOT OF THEM. selecting top 20.\n",
        "\n",
        "много это больше 20 (цифра из головы)\n",
        "\n"
      ],
      "metadata": {
        "id": "jaAvk4AAMvVt"
      }
    },
    {
      "cell_type": "markdown",
      "source": [
        "----------"
      ],
      "metadata": {
        "id": "sCoRXuTYYR44"
      }
    },
    {
      "cell_type": "code",
      "source": [
        "cpos = set()\n",
        "cneg = set()\n",
        "\n",
        "for key in kws.keys():\n",
        "  if len(kws[key]['neg']) > 20:\n",
        "      cneg.add(key)\n",
        "\n",
        "  if len(kws[key]['pos']) > 20:\n",
        "      cpos.add(key)\n"
      ],
      "metadata": {
        "id": "KGgsGq3wItcf"
      },
      "execution_count": null,
      "outputs": []
    },
    {
      "cell_type": "markdown",
      "source": [
        "## те отели у которых количество негативных отзывов > 20, это те же отели у которых количество позитивных отзывов > 20\n"
      ],
      "metadata": {
        "id": "a99k-0XwMOMX"
      }
    },
    {
      "cell_type": "code",
      "source": [
        "len(cneg), len(cpos)"
      ],
      "metadata": {
        "colab": {
          "base_uri": "https://localhost:8080/"
        },
        "id": "yP61bxHjKa7c",
        "outputId": "a0afb181-5f84-4907-b83a-5d79d1fd6ac5"
      },
      "execution_count": 21,
      "outputs": [
        {
          "output_type": "execute_result",
          "data": {
            "text/plain": [
              "(74, 245)"
            ]
          },
          "metadata": {},
          "execution_count": 21
        }
      ]
    },
    {
      "cell_type": "code",
      "source": [
        "len(cneg & cpos), len(cneg | cpos)"
      ],
      "metadata": {
        "colab": {
          "base_uri": "https://localhost:8080/"
        },
        "id": "GO8EqwjXKze0",
        "outputId": "ffe1268f-334d-4567-9bec-abcb55e7b5fa"
      },
      "execution_count": 30,
      "outputs": [
        {
          "output_type": "execute_result",
          "data": {
            "text/plain": [
              "(74, 245)"
            ]
          },
          "metadata": {},
          "execution_count": 30
        }
      ]
    },
    {
      "cell_type": "markdown",
      "source": [
        "# for those 245 hotels with a lot of keywords"
      ],
      "metadata": {
        "id": "j8-ZG8ubNXuR"
      }
    },
    {
      "cell_type": "markdown",
      "source": [
        "example"
      ],
      "metadata": {
        "id": "97ozNIeoZZk7"
      }
    },
    {
      "cell_type": "code",
      "source": [
        "len(kws[\"AV48ic48a4HuVbedAUNM\"]['neg']), len(kws[\"AV48ic48a4HuVbedAUNM\"]['pos'])\n"
      ],
      "metadata": {
        "colab": {
          "base_uri": "https://localhost:8080/"
        },
        "id": "xvDhMzQFZEJR",
        "outputId": "a8a1a54b-1aee-4ce9-bdfb-250873cad1f3"
      },
      "execution_count": 40,
      "outputs": [
        {
          "output_type": "execute_result",
          "data": {
            "text/plain": [
              "(47, 119)"
            ]
          },
          "metadata": {},
          "execution_count": 40
        }
      ]
    },
    {
      "cell_type": "code",
      "source": [
        "import nltk\n",
        "nltk.download('stopwords')\n",
        "from nltk.corpus import stopwords\n",
        "stop = stopwords.words('english')"
      ],
      "metadata": {
        "colab": {
          "base_uri": "https://localhost:8080/"
        },
        "id": "Ca0BdshlaL08",
        "outputId": "e3eac3d1-f71a-477c-b80a-f12c54c10291"
      },
      "execution_count": 44,
      "outputs": [
        {
          "output_type": "stream",
          "name": "stdout",
          "text": [
            "[nltk_data] Downloading package stopwords to /root/nltk_data...\n",
            "[nltk_data]   Unzipping corpora/stopwords.zip.\n"
          ]
        }
      ]
    },
    {
      "cell_type": "code",
      "source": [
        "from sklearn.feature_extraction.text import TfidfVectorizer"
      ],
      "metadata": {
        "id": "TSPOXUg4Z4Xl"
      },
      "execution_count": 42,
      "outputs": []
    },
    {
      "cell_type": "code",
      "source": [
        "biglist = []"
      ],
      "metadata": {
        "id": "w9trAAt8dIuF"
      },
      "execution_count": 116,
      "outputs": []
    },
    {
      "cell_type": "markdown",
      "source": [
        "чтобы не испортить tfidf'ом имеющиеся N-grammы склеиваю их нижним подчеркиванием"
      ],
      "metadata": {
        "id": "wAOrzmWy1zRO"
      }
    },
    {
      "cell_type": "code",
      "source": [
        "for key in kws:\n",
        "  ptemp = []\n",
        "  for el in kws[key][\"pos\"]:\n",
        "    ptemp.append(el.replace(\" \", \"_\"))\n",
        "\n",
        "  ntemp = []\n",
        "  for el in kws[key][\"neg\"]:\n",
        "    ntemp.append(el.replace(\" \", \"_\"))\n",
        "\n",
        "  temp = {\n",
        "      \"hotel_id\": key,\n",
        "      \"pos\": \" \".join(ptemp),\n",
        "      \"neg\": \" \".join(ntemp),\n",
        "  }\n",
        "  biglist.append(temp)"
      ],
      "metadata": {
        "id": "LgoUhbGPdLAl"
      },
      "execution_count": 117,
      "outputs": []
    },
    {
      "cell_type": "code",
      "source": [
        "dfall = pd.DataFrame(biglist)"
      ],
      "metadata": {
        "id": "3Cc4Bqtjc3ta"
      },
      "execution_count": 118,
      "outputs": []
    },
    {
      "cell_type": "code",
      "source": [
        "mask = dfall['hotel_id'].isin(cpos)"
      ],
      "metadata": {
        "id": "jvC1burYemCh"
      },
      "execution_count": 120,
      "outputs": []
    },
    {
      "cell_type": "markdown",
      "source": [
        "датафрейм отелей у которых позитивных ключевых слов больше 20"
      ],
      "metadata": {
        "id": "mMIMlHeh2ARt"
      }
    },
    {
      "cell_type": "code",
      "source": [
        "df_popular = dfall.loc[mask]"
      ],
      "metadata": {
        "id": "hOofflO7ewCs"
      },
      "execution_count": 121,
      "outputs": []
    },
    {
      "cell_type": "code",
      "source": [
        "df_popular.head()"
      ],
      "metadata": {
        "colab": {
          "base_uri": "https://localhost:8080/",
          "height": 204
        },
        "id": "GvYPH_hqe3fZ",
        "outputId": "2c7abebd-0fd2-4f06-90cc-168f38e39f31"
      },
      "execution_count": 122,
      "outputs": [
        {
          "output_type": "execute_result",
          "data": {
            "text/plain": [
              "                hotel_id                                                pos  \\\n",
              "7   AWE7dKHFIxWefVJwyLgA  the_perfect_price Well_sir Gaylord_Hotel Good_...   \n",
              "11  AWE2CYSsIxWefVJwyDrn  Awesome_hotel the_really_cool_room the_other_a...   \n",
              "12  AV-TGsFqRxPSIh2RmVF-  great_location Good_location Very_pleasant_exp...   \n",
              "14  AWKpI38Q3-Khe5l_hxUR  a_very_good_price Best_gambling best_comps exc...   \n",
              "15  AWKlQWNQa4HuVbedPUSi  good_food its_fun What_an_awesome_experience 1...   \n",
              "\n",
              "                                                  neg  \n",
              "7                                          small_room  \n",
              "11  The_room_rate a_Booking.com_rate no_explanatio...  \n",
              "12  a_disappointment disgrace air_con nice_too_sma...  \n",
              "14           resort_fees nothing nothing good_buffett  \n",
              "15  the_counter sleep old_room no_roulette the_bat...  "
            ],
            "text/html": [
              "\n",
              "  <div id=\"df-b9548e2e-5d58-4d97-8d4f-5d6484b430e9\">\n",
              "    <div class=\"colab-df-container\">\n",
              "      <div>\n",
              "<style scoped>\n",
              "    .dataframe tbody tr th:only-of-type {\n",
              "        vertical-align: middle;\n",
              "    }\n",
              "\n",
              "    .dataframe tbody tr th {\n",
              "        vertical-align: top;\n",
              "    }\n",
              "\n",
              "    .dataframe thead th {\n",
              "        text-align: right;\n",
              "    }\n",
              "</style>\n",
              "<table border=\"1\" class=\"dataframe\">\n",
              "  <thead>\n",
              "    <tr style=\"text-align: right;\">\n",
              "      <th></th>\n",
              "      <th>hotel_id</th>\n",
              "      <th>pos</th>\n",
              "      <th>neg</th>\n",
              "    </tr>\n",
              "  </thead>\n",
              "  <tbody>\n",
              "    <tr>\n",
              "      <th>7</th>\n",
              "      <td>AWE7dKHFIxWefVJwyLgA</td>\n",
              "      <td>the_perfect_price Well_sir Gaylord_Hotel Good_...</td>\n",
              "      <td>small_room</td>\n",
              "    </tr>\n",
              "    <tr>\n",
              "      <th>11</th>\n",
              "      <td>AWE2CYSsIxWefVJwyDrn</td>\n",
              "      <td>Awesome_hotel the_really_cool_room the_other_a...</td>\n",
              "      <td>The_room_rate a_Booking.com_rate no_explanatio...</td>\n",
              "    </tr>\n",
              "    <tr>\n",
              "      <th>12</th>\n",
              "      <td>AV-TGsFqRxPSIh2RmVF-</td>\n",
              "      <td>great_location Good_location Very_pleasant_exp...</td>\n",
              "      <td>a_disappointment disgrace air_con nice_too_sma...</td>\n",
              "    </tr>\n",
              "    <tr>\n",
              "      <th>14</th>\n",
              "      <td>AWKpI38Q3-Khe5l_hxUR</td>\n",
              "      <td>a_very_good_price Best_gambling best_comps exc...</td>\n",
              "      <td>resort_fees nothing nothing good_buffett</td>\n",
              "    </tr>\n",
              "    <tr>\n",
              "      <th>15</th>\n",
              "      <td>AWKlQWNQa4HuVbedPUSi</td>\n",
              "      <td>good_food its_fun What_an_awesome_experience 1...</td>\n",
              "      <td>the_counter sleep old_room no_roulette the_bat...</td>\n",
              "    </tr>\n",
              "  </tbody>\n",
              "</table>\n",
              "</div>\n",
              "      <button class=\"colab-df-convert\" onclick=\"convertToInteractive('df-b9548e2e-5d58-4d97-8d4f-5d6484b430e9')\"\n",
              "              title=\"Convert this dataframe to an interactive table.\"\n",
              "              style=\"display:none;\">\n",
              "        \n",
              "  <svg xmlns=\"http://www.w3.org/2000/svg\" height=\"24px\"viewBox=\"0 0 24 24\"\n",
              "       width=\"24px\">\n",
              "    <path d=\"M0 0h24v24H0V0z\" fill=\"none\"/>\n",
              "    <path d=\"M18.56 5.44l.94 2.06.94-2.06 2.06-.94-2.06-.94-.94-2.06-.94 2.06-2.06.94zm-11 1L8.5 8.5l.94-2.06 2.06-.94-2.06-.94L8.5 2.5l-.94 2.06-2.06.94zm10 10l.94 2.06.94-2.06 2.06-.94-2.06-.94-.94-2.06-.94 2.06-2.06.94z\"/><path d=\"M17.41 7.96l-1.37-1.37c-.4-.4-.92-.59-1.43-.59-.52 0-1.04.2-1.43.59L10.3 9.45l-7.72 7.72c-.78.78-.78 2.05 0 2.83L4 21.41c.39.39.9.59 1.41.59.51 0 1.02-.2 1.41-.59l7.78-7.78 2.81-2.81c.8-.78.8-2.07 0-2.86zM5.41 20L4 18.59l7.72-7.72 1.47 1.35L5.41 20z\"/>\n",
              "  </svg>\n",
              "      </button>\n",
              "      \n",
              "  <style>\n",
              "    .colab-df-container {\n",
              "      display:flex;\n",
              "      flex-wrap:wrap;\n",
              "      gap: 12px;\n",
              "    }\n",
              "\n",
              "    .colab-df-convert {\n",
              "      background-color: #E8F0FE;\n",
              "      border: none;\n",
              "      border-radius: 50%;\n",
              "      cursor: pointer;\n",
              "      display: none;\n",
              "      fill: #1967D2;\n",
              "      height: 32px;\n",
              "      padding: 0 0 0 0;\n",
              "      width: 32px;\n",
              "    }\n",
              "\n",
              "    .colab-df-convert:hover {\n",
              "      background-color: #E2EBFA;\n",
              "      box-shadow: 0px 1px 2px rgba(60, 64, 67, 0.3), 0px 1px 3px 1px rgba(60, 64, 67, 0.15);\n",
              "      fill: #174EA6;\n",
              "    }\n",
              "\n",
              "    [theme=dark] .colab-df-convert {\n",
              "      background-color: #3B4455;\n",
              "      fill: #D2E3FC;\n",
              "    }\n",
              "\n",
              "    [theme=dark] .colab-df-convert:hover {\n",
              "      background-color: #434B5C;\n",
              "      box-shadow: 0px 1px 3px 1px rgba(0, 0, 0, 0.15);\n",
              "      filter: drop-shadow(0px 1px 2px rgba(0, 0, 0, 0.3));\n",
              "      fill: #FFFFFF;\n",
              "    }\n",
              "  </style>\n",
              "\n",
              "      <script>\n",
              "        const buttonEl =\n",
              "          document.querySelector('#df-b9548e2e-5d58-4d97-8d4f-5d6484b430e9 button.colab-df-convert');\n",
              "        buttonEl.style.display =\n",
              "          google.colab.kernel.accessAllowed ? 'block' : 'none';\n",
              "\n",
              "        async function convertToInteractive(key) {\n",
              "          const element = document.querySelector('#df-b9548e2e-5d58-4d97-8d4f-5d6484b430e9');\n",
              "          const dataTable =\n",
              "            await google.colab.kernel.invokeFunction('convertToInteractive',\n",
              "                                                     [key], {});\n",
              "          if (!dataTable) return;\n",
              "\n",
              "          const docLinkHtml = 'Like what you see? Visit the ' +\n",
              "            '<a target=\"_blank\" href=https://colab.research.google.com/notebooks/data_table.ipynb>data table notebook</a>'\n",
              "            + ' to learn more about interactive tables.';\n",
              "          element.innerHTML = '';\n",
              "          dataTable['output_type'] = 'display_data';\n",
              "          await google.colab.output.renderOutput(dataTable, element);\n",
              "          const docLink = document.createElement('div');\n",
              "          docLink.innerHTML = docLinkHtml;\n",
              "          element.appendChild(docLink);\n",
              "        }\n",
              "      </script>\n",
              "    </div>\n",
              "  </div>\n",
              "  "
            ]
          },
          "metadata": {},
          "execution_count": 122
        }
      ]
    },
    {
      "cell_type": "markdown",
      "source": [
        "### tfidf on all pos keywords of popular hotels"
      ],
      "metadata": {
        "id": "CnNe7sdje7_o"
      }
    },
    {
      "cell_type": "code",
      "source": [
        "vectorizer=TfidfVectorizer(max_features=1000,stop_words=stop)\n",
        "X = vectorizer.fit_transform(df_popular[\"pos\"])"
      ],
      "metadata": {
        "id": "zp4sswEFZ2FJ"
      },
      "execution_count": 130,
      "outputs": []
    },
    {
      "cell_type": "code",
      "source": [
        "X.shape"
      ],
      "metadata": {
        "colab": {
          "base_uri": "https://localhost:8080/"
        },
        "id": "luwk0kJyZ17h",
        "outputId": "6ecca5b9-75e6-4219-9db7-775d8df7b447"
      },
      "execution_count": 131,
      "outputs": [
        {
          "output_type": "execute_result",
          "data": {
            "text/plain": [
              "(245, 1000)"
            ]
          },
          "metadata": {},
          "execution_count": 131
        }
      ]
    },
    {
      "cell_type": "code",
      "source": [
        "X = X.toarray()\n",
        "\n",
        "feats = vectorizer.get_feature_names_out()"
      ],
      "metadata": {
        "id": "yba5a6LLaWcW"
      },
      "execution_count": 132,
      "outputs": []
    },
    {
      "cell_type": "code",
      "source": [
        "n = 20\n",
        "kws_ind = (-X).argsort()[:,:n] # top n key word for every hotel"
      ],
      "metadata": {
        "id": "dW0-WJXiZ11x"
      },
      "execution_count": 133,
      "outputs": []
    },
    {
      "cell_type": "code",
      "source": [
        "kws_ind, kws_ind.shape"
      ],
      "metadata": {
        "colab": {
          "base_uri": "https://localhost:8080/"
        },
        "id": "GBR4G2mlfuww",
        "outputId": "8a0a7d5d-93a6-45e6-e243-e49094c36311"
      },
      "execution_count": 134,
      "outputs": [
        {
          "output_type": "execute_result",
          "data": {
            "text/plain": [
              "(array([[612, 132, 951, ..., 679, 678, 660],\n",
              "        [587,  68, 307, ..., 682, 666, 667],\n",
              "        [949, 528, 370, ..., 662, 663, 664],\n",
              "        ...,\n",
              "        [124, 858, 634, ..., 776, 304, 735],\n",
              "        [661, 823, 219, ..., 608,  82,  83],\n",
              "        [502, 514, 150, ..., 172, 417,  80]]), (245, 20))"
            ]
          },
          "metadata": {},
          "execution_count": 134
        }
      ]
    },
    {
      "cell_type": "code",
      "source": [
        "forcolumn = []\n",
        "for el in feats[kws_ind]:\n",
        "  forcolumn.append(\" \".join(el))\n",
        "\n",
        "df_popular[\"pos_top20\"] = forcolumn"
      ],
      "metadata": {
        "id": "gbYBaDffmo7U"
      },
      "execution_count": null,
      "outputs": []
    },
    {
      "cell_type": "code",
      "source": [
        "df_popular.head()"
      ],
      "metadata": {
        "colab": {
          "base_uri": "https://localhost:8080/",
          "height": 204
        },
        "id": "7EKGNNSZm5RP",
        "outputId": "c5b2fb9d-3efa-408d-a1e2-c3b7088f05ce"
      },
      "execution_count": 187,
      "outputs": [
        {
          "output_type": "execute_result",
          "data": {
            "text/plain": [
              "                hotel_id                                                pos  \\\n",
              "7   AWE7dKHFIxWefVJwyLgA  the_perfect_price Well_sir Gaylord_Hotel Good_...   \n",
              "11  AWE2CYSsIxWefVJwyDrn  Awesome_hotel the_really_cool_room the_other_a...   \n",
              "12  AV-TGsFqRxPSIh2RmVF-  great_location Good_location Very_pleasant_exp...   \n",
              "14  AWKpI38Q3-Khe5l_hxUR  a_very_good_price Best_gambling best_comps exc...   \n",
              "15  AWKlQWNQa4HuVbedPUSi  good_food its_fun What_an_awesome_experience 1...   \n",
              "\n",
              "                                                  neg  \\\n",
              "7                                          small_room   \n",
              "11  The_room_rate a_Booking.com_rate no_explanatio...   \n",
              "12  a_disappointment disgrace air_con nice_too_sma...   \n",
              "14           resort_fees nothing nothing good_buffett   \n",
              "15  the_counter sleep old_room no_roulette the_bat...   \n",
              "\n",
              "                                            pos_top20  \n",
              "7   great_staff a_nice_area very_good_experience e...  \n",
              "11  great_happy_hour a_great_bonus beautiful_bar v...  \n",
              "12  very_friendly_staff good_location clean_linens...  \n",
              "14  its_price a_very_good_price a_good_shower grea...  \n",
              "15  good_buffet a_great_view good_gym good_locatio...  "
            ],
            "text/html": [
              "\n",
              "  <div id=\"df-5a12b965-7776-49da-86f3-8ea7023441c0\">\n",
              "    <div class=\"colab-df-container\">\n",
              "      <div>\n",
              "<style scoped>\n",
              "    .dataframe tbody tr th:only-of-type {\n",
              "        vertical-align: middle;\n",
              "    }\n",
              "\n",
              "    .dataframe tbody tr th {\n",
              "        vertical-align: top;\n",
              "    }\n",
              "\n",
              "    .dataframe thead th {\n",
              "        text-align: right;\n",
              "    }\n",
              "</style>\n",
              "<table border=\"1\" class=\"dataframe\">\n",
              "  <thead>\n",
              "    <tr style=\"text-align: right;\">\n",
              "      <th></th>\n",
              "      <th>hotel_id</th>\n",
              "      <th>pos</th>\n",
              "      <th>neg</th>\n",
              "      <th>pos_top20</th>\n",
              "    </tr>\n",
              "  </thead>\n",
              "  <tbody>\n",
              "    <tr>\n",
              "      <th>7</th>\n",
              "      <td>AWE7dKHFIxWefVJwyLgA</td>\n",
              "      <td>the_perfect_price Well_sir Gaylord_Hotel Good_...</td>\n",
              "      <td>small_room</td>\n",
              "      <td>great_staff a_nice_area very_good_experience e...</td>\n",
              "    </tr>\n",
              "    <tr>\n",
              "      <th>11</th>\n",
              "      <td>AWE2CYSsIxWefVJwyDrn</td>\n",
              "      <td>Awesome_hotel the_really_cool_room the_other_a...</td>\n",
              "      <td>The_room_rate a_Booking.com_rate no_explanatio...</td>\n",
              "      <td>great_happy_hour a_great_bonus beautiful_bar v...</td>\n",
              "    </tr>\n",
              "    <tr>\n",
              "      <th>12</th>\n",
              "      <td>AV-TGsFqRxPSIh2RmVF-</td>\n",
              "      <td>great_location Good_location Very_pleasant_exp...</td>\n",
              "      <td>a_disappointment disgrace air_con nice_too_sma...</td>\n",
              "      <td>very_friendly_staff good_location clean_linens...</td>\n",
              "    </tr>\n",
              "    <tr>\n",
              "      <th>14</th>\n",
              "      <td>AWKpI38Q3-Khe5l_hxUR</td>\n",
              "      <td>a_very_good_price Best_gambling best_comps exc...</td>\n",
              "      <td>resort_fees nothing nothing good_buffett</td>\n",
              "      <td>its_price a_very_good_price a_good_shower grea...</td>\n",
              "    </tr>\n",
              "    <tr>\n",
              "      <th>15</th>\n",
              "      <td>AWKlQWNQa4HuVbedPUSi</td>\n",
              "      <td>good_food its_fun What_an_awesome_experience 1...</td>\n",
              "      <td>the_counter sleep old_room no_roulette the_bat...</td>\n",
              "      <td>good_buffet a_great_view good_gym good_locatio...</td>\n",
              "    </tr>\n",
              "  </tbody>\n",
              "</table>\n",
              "</div>\n",
              "      <button class=\"colab-df-convert\" onclick=\"convertToInteractive('df-5a12b965-7776-49da-86f3-8ea7023441c0')\"\n",
              "              title=\"Convert this dataframe to an interactive table.\"\n",
              "              style=\"display:none;\">\n",
              "        \n",
              "  <svg xmlns=\"http://www.w3.org/2000/svg\" height=\"24px\"viewBox=\"0 0 24 24\"\n",
              "       width=\"24px\">\n",
              "    <path d=\"M0 0h24v24H0V0z\" fill=\"none\"/>\n",
              "    <path d=\"M18.56 5.44l.94 2.06.94-2.06 2.06-.94-2.06-.94-.94-2.06-.94 2.06-2.06.94zm-11 1L8.5 8.5l.94-2.06 2.06-.94-2.06-.94L8.5 2.5l-.94 2.06-2.06.94zm10 10l.94 2.06.94-2.06 2.06-.94-2.06-.94-.94-2.06-.94 2.06-2.06.94z\"/><path d=\"M17.41 7.96l-1.37-1.37c-.4-.4-.92-.59-1.43-.59-.52 0-1.04.2-1.43.59L10.3 9.45l-7.72 7.72c-.78.78-.78 2.05 0 2.83L4 21.41c.39.39.9.59 1.41.59.51 0 1.02-.2 1.41-.59l7.78-7.78 2.81-2.81c.8-.78.8-2.07 0-2.86zM5.41 20L4 18.59l7.72-7.72 1.47 1.35L5.41 20z\"/>\n",
              "  </svg>\n",
              "      </button>\n",
              "      \n",
              "  <style>\n",
              "    .colab-df-container {\n",
              "      display:flex;\n",
              "      flex-wrap:wrap;\n",
              "      gap: 12px;\n",
              "    }\n",
              "\n",
              "    .colab-df-convert {\n",
              "      background-color: #E8F0FE;\n",
              "      border: none;\n",
              "      border-radius: 50%;\n",
              "      cursor: pointer;\n",
              "      display: none;\n",
              "      fill: #1967D2;\n",
              "      height: 32px;\n",
              "      padding: 0 0 0 0;\n",
              "      width: 32px;\n",
              "    }\n",
              "\n",
              "    .colab-df-convert:hover {\n",
              "      background-color: #E2EBFA;\n",
              "      box-shadow: 0px 1px 2px rgba(60, 64, 67, 0.3), 0px 1px 3px 1px rgba(60, 64, 67, 0.15);\n",
              "      fill: #174EA6;\n",
              "    }\n",
              "\n",
              "    [theme=dark] .colab-df-convert {\n",
              "      background-color: #3B4455;\n",
              "      fill: #D2E3FC;\n",
              "    }\n",
              "\n",
              "    [theme=dark] .colab-df-convert:hover {\n",
              "      background-color: #434B5C;\n",
              "      box-shadow: 0px 1px 3px 1px rgba(0, 0, 0, 0.15);\n",
              "      filter: drop-shadow(0px 1px 2px rgba(0, 0, 0, 0.3));\n",
              "      fill: #FFFFFF;\n",
              "    }\n",
              "  </style>\n",
              "\n",
              "      <script>\n",
              "        const buttonEl =\n",
              "          document.querySelector('#df-5a12b965-7776-49da-86f3-8ea7023441c0 button.colab-df-convert');\n",
              "        buttonEl.style.display =\n",
              "          google.colab.kernel.accessAllowed ? 'block' : 'none';\n",
              "\n",
              "        async function convertToInteractive(key) {\n",
              "          const element = document.querySelector('#df-5a12b965-7776-49da-86f3-8ea7023441c0');\n",
              "          const dataTable =\n",
              "            await google.colab.kernel.invokeFunction('convertToInteractive',\n",
              "                                                     [key], {});\n",
              "          if (!dataTable) return;\n",
              "\n",
              "          const docLinkHtml = 'Like what you see? Visit the ' +\n",
              "            '<a target=\"_blank\" href=https://colab.research.google.com/notebooks/data_table.ipynb>data table notebook</a>'\n",
              "            + ' to learn more about interactive tables.';\n",
              "          element.innerHTML = '';\n",
              "          dataTable['output_type'] = 'display_data';\n",
              "          await google.colab.output.renderOutput(dataTable, element);\n",
              "          const docLink = document.createElement('div');\n",
              "          docLink.innerHTML = docLinkHtml;\n",
              "          element.appendChild(docLink);\n",
              "        }\n",
              "      </script>\n",
              "    </div>\n",
              "  </div>\n",
              "  "
            ]
          },
          "metadata": {},
          "execution_count": 187
        }
      ]
    },
    {
      "cell_type": "markdown",
      "source": [
        "### tfidf on all NEGATIVE keywords of popular hotels"
      ],
      "metadata": {
        "id": "oS-CeXiTlrbq"
      }
    },
    {
      "cell_type": "markdown",
      "source": [
        "taking from the previous df only those hotels that have a lot of negative kws"
      ],
      "metadata": {
        "id": "vFZM6RedsFiM"
      }
    },
    {
      "cell_type": "code",
      "source": [
        "mask = dfall['hotel_id'].isin(cneg)\n",
        "neg_popular_df = df_popular.loc[mask] # so that pos_top20 was there"
      ],
      "metadata": {
        "id": "542sUKPKpzYk"
      },
      "execution_count": 188,
      "outputs": []
    },
    {
      "cell_type": "code",
      "source": [
        "vectorizer=TfidfVectorizer(max_features=1000,stop_words=stop)\n",
        "X = vectorizer.fit_transform(neg_popular_df[\"neg\"])"
      ],
      "metadata": {
        "id": "on-urNb2nW35"
      },
      "execution_count": 189,
      "outputs": []
    },
    {
      "cell_type": "code",
      "source": [
        "X.shape"
      ],
      "metadata": {
        "colab": {
          "base_uri": "https://localhost:8080/"
        },
        "outputId": "8070167c-4b7a-4543-f8e2-811962d82811",
        "id": "ZbNbBA8KnW37"
      },
      "execution_count": 190,
      "outputs": [
        {
          "output_type": "execute_result",
          "data": {
            "text/plain": [
              "(74, 1000)"
            ]
          },
          "metadata": {},
          "execution_count": 190
        }
      ]
    },
    {
      "cell_type": "code",
      "source": [
        "X = X.toarray()\n",
        "\n",
        "feats = vectorizer.get_feature_names_out()"
      ],
      "metadata": {
        "id": "_om26CBvnW38"
      },
      "execution_count": 191,
      "outputs": []
    },
    {
      "cell_type": "code",
      "source": [
        "n = 20\n",
        "kws_ind = (-X).argsort()[:,:n] # top n key word for every hotel"
      ],
      "metadata": {
        "id": "tCxyeigvnW39"
      },
      "execution_count": 192,
      "outputs": []
    },
    {
      "cell_type": "code",
      "source": [
        "kws_ind, kws_ind.shape"
      ],
      "metadata": {
        "colab": {
          "base_uri": "https://localhost:8080/"
        },
        "outputId": "f5dc290b-6632-4ecd-8690-307f354c6ef8",
        "id": "JGruGnUKnW39"
      },
      "execution_count": 193,
      "outputs": [
        {
          "output_type": "execute_result",
          "data": {
            "text/plain": [
              "(array([[695, 506, 897, ..., 156, 901, 253],\n",
              "        [142, 938, 916, ...,  22, 104, 497],\n",
              "        [279, 689,  20, ..., 882, 649, 389],\n",
              "        ...,\n",
              "        [839,  48, 332, ..., 338,  36, 571],\n",
              "        [581, 670, 390, ..., 980,  93, 279],\n",
              "        [279,   6, 136, ..., 402, 797, 186]]), (74, 20))"
            ]
          },
          "metadata": {},
          "execution_count": 193
        }
      ]
    },
    {
      "cell_type": "code",
      "source": [
        "forcolumn = []\n",
        "for el in feats[kws_ind]:\n",
        "  forcolumn.append(\" \".join(el))\n",
        "\n",
        "neg_popular_df[\"neg_top20\"] = forcolumn"
      ],
      "metadata": {
        "colab": {
          "base_uri": "https://localhost:8080/"
        },
        "id": "gUl_tyGuskR3",
        "outputId": "454dd3ce-3f80-458a-9e12-587ac1ac0664"
      },
      "execution_count": 194,
      "outputs": [
        {
          "output_type": "stream",
          "name": "stderr",
          "text": [
            "/usr/local/lib/python3.7/dist-packages/ipykernel_launcher.py:5: SettingWithCopyWarning: \n",
            "A value is trying to be set on a copy of a slice from a DataFrame.\n",
            "Try using .loc[row_indexer,col_indexer] = value instead\n",
            "\n",
            "See the caveats in the documentation: https://pandas.pydata.org/pandas-docs/stable/user_guide/indexing.html#returning-a-view-versus-a-copy\n",
            "  \"\"\"\n"
          ]
        }
      ]
    },
    {
      "cell_type": "code",
      "source": [
        "neg_popular_df.head()"
      ],
      "metadata": {
        "colab": {
          "base_uri": "https://localhost:8080/",
          "height": 321
        },
        "outputId": "f9acce2d-8c3d-4ddd-a775-f6d182260dfd",
        "id": "rwyJG-J3nW3-"
      },
      "execution_count": 195,
      "outputs": [
        {
          "output_type": "execute_result",
          "data": {
            "text/plain": [
              "                hotel_id                                                pos  \\\n",
              "15  AWKlQWNQa4HuVbedPUSi  good_food its_fun What_an_awesome_experience 1...   \n",
              "26  AWKkrZYpa4HuVbedPT1I  the_best_spot All_amenities car_park Great_loc...   \n",
              "29  AVzX37zs-gnIPe8DTHi5  Wonderful_hotel the_higher_rate higher_rates w...   \n",
              "36  AV-TGwK3IxWefVJwr5IJ  Fantastic_location Fun_location very_nice_hote...   \n",
              "46  AVzOLf4aFcQ3k02bBrRN  the_Best_Western_Brand Clean_and_comfortable_r...   \n",
              "\n",
              "                                                  neg  \\\n",
              "15  the_counter sleep old_room no_roulette the_bat...   \n",
              "26  no_extra_cost my_booking_ticket joke a_bad_exp...   \n",
              "29  an_anniversary_stay no_free_lunch too_much_tro...   \n",
              "36  no_non-dairy_options no_windows no_restaurant ...   \n",
              "46  nothing The_only_trace hash an_overpowering_st...   \n",
              "\n",
              "                                            pos_top20  \\\n",
              "15  good_buffet a_great_view good_gym good_locatio...   \n",
              "26  great_location no_hot_water friendly_staff com...   \n",
              "29  important_comments great_views south_beach bea...   \n",
              "36  great_location happy_hour outstanding_staff ex...   \n",
              "46  the_best_western best_western friendly_staff b...   \n",
              "\n",
              "                                            neg_top20  \n",
              "15  the_drain satisfactory_buffet ugly_people toug...  \n",
              "26  no_casino vet_bad_service unhappy_guest a_bad_...  \n",
              "29  nothing the_disappointing_experience a_report ...  \n",
              "36  poor_breakfast no_windows no_non slow_valet no...  \n",
              "46  this_minor_problem very_poor_insulation total_...  "
            ],
            "text/html": [
              "\n",
              "  <div id=\"df-92130bef-2dad-431a-9f5c-98621bf6b978\">\n",
              "    <div class=\"colab-df-container\">\n",
              "      <div>\n",
              "<style scoped>\n",
              "    .dataframe tbody tr th:only-of-type {\n",
              "        vertical-align: middle;\n",
              "    }\n",
              "\n",
              "    .dataframe tbody tr th {\n",
              "        vertical-align: top;\n",
              "    }\n",
              "\n",
              "    .dataframe thead th {\n",
              "        text-align: right;\n",
              "    }\n",
              "</style>\n",
              "<table border=\"1\" class=\"dataframe\">\n",
              "  <thead>\n",
              "    <tr style=\"text-align: right;\">\n",
              "      <th></th>\n",
              "      <th>hotel_id</th>\n",
              "      <th>pos</th>\n",
              "      <th>neg</th>\n",
              "      <th>pos_top20</th>\n",
              "      <th>neg_top20</th>\n",
              "    </tr>\n",
              "  </thead>\n",
              "  <tbody>\n",
              "    <tr>\n",
              "      <th>15</th>\n",
              "      <td>AWKlQWNQa4HuVbedPUSi</td>\n",
              "      <td>good_food its_fun What_an_awesome_experience 1...</td>\n",
              "      <td>the_counter sleep old_room no_roulette the_bat...</td>\n",
              "      <td>good_buffet a_great_view good_gym good_locatio...</td>\n",
              "      <td>the_drain satisfactory_buffet ugly_people toug...</td>\n",
              "    </tr>\n",
              "    <tr>\n",
              "      <th>26</th>\n",
              "      <td>AWKkrZYpa4HuVbedPT1I</td>\n",
              "      <td>the_best_spot All_amenities car_park Great_loc...</td>\n",
              "      <td>no_extra_cost my_booking_ticket joke a_bad_exp...</td>\n",
              "      <td>great_location no_hot_water friendly_staff com...</td>\n",
              "      <td>no_casino vet_bad_service unhappy_guest a_bad_...</td>\n",
              "    </tr>\n",
              "    <tr>\n",
              "      <th>29</th>\n",
              "      <td>AVzX37zs-gnIPe8DTHi5</td>\n",
              "      <td>Wonderful_hotel the_higher_rate higher_rates w...</td>\n",
              "      <td>an_anniversary_stay no_free_lunch too_much_tro...</td>\n",
              "      <td>important_comments great_views south_beach bea...</td>\n",
              "      <td>nothing the_disappointing_experience a_report ...</td>\n",
              "    </tr>\n",
              "    <tr>\n",
              "      <th>36</th>\n",
              "      <td>AV-TGwK3IxWefVJwr5IJ</td>\n",
              "      <td>Fantastic_location Fun_location very_nice_hote...</td>\n",
              "      <td>no_non-dairy_options no_windows no_restaurant ...</td>\n",
              "      <td>great_location happy_hour outstanding_staff ex...</td>\n",
              "      <td>poor_breakfast no_windows no_non slow_valet no...</td>\n",
              "    </tr>\n",
              "    <tr>\n",
              "      <th>46</th>\n",
              "      <td>AVzOLf4aFcQ3k02bBrRN</td>\n",
              "      <td>the_Best_Western_Brand Clean_and_comfortable_r...</td>\n",
              "      <td>nothing The_only_trace hash an_overpowering_st...</td>\n",
              "      <td>the_best_western best_western friendly_staff b...</td>\n",
              "      <td>this_minor_problem very_poor_insulation total_...</td>\n",
              "    </tr>\n",
              "  </tbody>\n",
              "</table>\n",
              "</div>\n",
              "      <button class=\"colab-df-convert\" onclick=\"convertToInteractive('df-92130bef-2dad-431a-9f5c-98621bf6b978')\"\n",
              "              title=\"Convert this dataframe to an interactive table.\"\n",
              "              style=\"display:none;\">\n",
              "        \n",
              "  <svg xmlns=\"http://www.w3.org/2000/svg\" height=\"24px\"viewBox=\"0 0 24 24\"\n",
              "       width=\"24px\">\n",
              "    <path d=\"M0 0h24v24H0V0z\" fill=\"none\"/>\n",
              "    <path d=\"M18.56 5.44l.94 2.06.94-2.06 2.06-.94-2.06-.94-.94-2.06-.94 2.06-2.06.94zm-11 1L8.5 8.5l.94-2.06 2.06-.94-2.06-.94L8.5 2.5l-.94 2.06-2.06.94zm10 10l.94 2.06.94-2.06 2.06-.94-2.06-.94-.94-2.06-.94 2.06-2.06.94z\"/><path d=\"M17.41 7.96l-1.37-1.37c-.4-.4-.92-.59-1.43-.59-.52 0-1.04.2-1.43.59L10.3 9.45l-7.72 7.72c-.78.78-.78 2.05 0 2.83L4 21.41c.39.39.9.59 1.41.59.51 0 1.02-.2 1.41-.59l7.78-7.78 2.81-2.81c.8-.78.8-2.07 0-2.86zM5.41 20L4 18.59l7.72-7.72 1.47 1.35L5.41 20z\"/>\n",
              "  </svg>\n",
              "      </button>\n",
              "      \n",
              "  <style>\n",
              "    .colab-df-container {\n",
              "      display:flex;\n",
              "      flex-wrap:wrap;\n",
              "      gap: 12px;\n",
              "    }\n",
              "\n",
              "    .colab-df-convert {\n",
              "      background-color: #E8F0FE;\n",
              "      border: none;\n",
              "      border-radius: 50%;\n",
              "      cursor: pointer;\n",
              "      display: none;\n",
              "      fill: #1967D2;\n",
              "      height: 32px;\n",
              "      padding: 0 0 0 0;\n",
              "      width: 32px;\n",
              "    }\n",
              "\n",
              "    .colab-df-convert:hover {\n",
              "      background-color: #E2EBFA;\n",
              "      box-shadow: 0px 1px 2px rgba(60, 64, 67, 0.3), 0px 1px 3px 1px rgba(60, 64, 67, 0.15);\n",
              "      fill: #174EA6;\n",
              "    }\n",
              "\n",
              "    [theme=dark] .colab-df-convert {\n",
              "      background-color: #3B4455;\n",
              "      fill: #D2E3FC;\n",
              "    }\n",
              "\n",
              "    [theme=dark] .colab-df-convert:hover {\n",
              "      background-color: #434B5C;\n",
              "      box-shadow: 0px 1px 3px 1px rgba(0, 0, 0, 0.15);\n",
              "      filter: drop-shadow(0px 1px 2px rgba(0, 0, 0, 0.3));\n",
              "      fill: #FFFFFF;\n",
              "    }\n",
              "  </style>\n",
              "\n",
              "      <script>\n",
              "        const buttonEl =\n",
              "          document.querySelector('#df-92130bef-2dad-431a-9f5c-98621bf6b978 button.colab-df-convert');\n",
              "        buttonEl.style.display =\n",
              "          google.colab.kernel.accessAllowed ? 'block' : 'none';\n",
              "\n",
              "        async function convertToInteractive(key) {\n",
              "          const element = document.querySelector('#df-92130bef-2dad-431a-9f5c-98621bf6b978');\n",
              "          const dataTable =\n",
              "            await google.colab.kernel.invokeFunction('convertToInteractive',\n",
              "                                                     [key], {});\n",
              "          if (!dataTable) return;\n",
              "\n",
              "          const docLinkHtml = 'Like what you see? Visit the ' +\n",
              "            '<a target=\"_blank\" href=https://colab.research.google.com/notebooks/data_table.ipynb>data table notebook</a>'\n",
              "            + ' to learn more about interactive tables.';\n",
              "          element.innerHTML = '';\n",
              "          dataTable['output_type'] = 'display_data';\n",
              "          await google.colab.output.renderOutput(dataTable, element);\n",
              "          const docLink = document.createElement('div');\n",
              "          docLink.innerHTML = docLinkHtml;\n",
              "          element.appendChild(docLink);\n",
              "        }\n",
              "      </script>\n",
              "    </div>\n",
              "  </div>\n",
              "  "
            ]
          },
          "metadata": {},
          "execution_count": 195
        }
      ]
    },
    {
      "cell_type": "markdown",
      "source": [
        "# final json for anya"
      ],
      "metadata": {
        "id": "p5fZyjmYsujS"
      }
    },
    {
      "cell_type": "code",
      "source": [
        "final = {}"
      ],
      "metadata": {
        "id": "Q38ZEl1GtYe6"
      },
      "execution_count": 222,
      "outputs": []
    },
    {
      "cell_type": "code",
      "source": [
        "neghotels = list(neg_popular_df[\"hotel_id\"])\n"
      ],
      "metadata": {
        "id": "vZAE2qOHssrN"
      },
      "execution_count": 223,
      "outputs": []
    },
    {
      "cell_type": "markdown",
      "source": [
        "delete _ from n gramms"
      ],
      "metadata": {
        "id": "-0Z6_WoA2gbp"
      }
    },
    {
      "cell_type": "code",
      "source": [
        "for hotel_id in neghotels:\n",
        "    neg_top = list(neg_popular_df.loc[neg_popular_df['hotel_id'] == hotel_id].neg_top20)[0]\n",
        "    pos_top = list(neg_popular_df.loc[neg_popular_df['hotel_id'] == hotel_id].pos_top20)[0]\n",
        "\n",
        "    neg_to_normal = []\n",
        "    for el in neg_top.split():\n",
        "        neg_to_normal.append(el.replace(\"_\", \" \"))\n",
        "    \n",
        "    pos_to_normal = []\n",
        "    for el in pos_top.split():\n",
        "        pos_to_normal.append(el.replace(\"_\", \" \"))\n",
        "    \n",
        "    if hotel_id in final:\n",
        "      raise Exception(\"shouldnt be\")\n",
        "\n",
        "    final[hotel_id] = {\"neg\": neg_to_normal,\n",
        "                       \"pos\": pos_to_normal\n",
        "                       }\n"
      ],
      "metadata": {
        "id": "n1m-22Ppvap4"
      },
      "execution_count": 224,
      "outputs": []
    },
    {
      "cell_type": "markdown",
      "source": [
        "now add popular hotels with a lot of positive kws and small num of negative"
      ],
      "metadata": {
        "id": "o1WLCLSKxuBS"
      }
    },
    {
      "cell_type": "code",
      "source": [
        "mask = dfall['hotel_id'].isin(cneg)\n",
        "without_neg_popular = df_popular.loc[~mask]"
      ],
      "metadata": {
        "id": "cgO05brAx-_o"
      },
      "execution_count": 225,
      "outputs": []
    },
    {
      "cell_type": "code",
      "source": [
        "without_neg_popular.shape"
      ],
      "metadata": {
        "colab": {
          "base_uri": "https://localhost:8080/"
        },
        "id": "sKGGTJgax-8o",
        "outputId": "c988aeb2-3ad2-4170-e763-8ffa70e28b96"
      },
      "execution_count": 226,
      "outputs": [
        {
          "output_type": "execute_result",
          "data": {
            "text/plain": [
              "(171, 4)"
            ]
          },
          "metadata": {},
          "execution_count": 226
        }
      ]
    },
    {
      "cell_type": "code",
      "source": [
        "hotels = list(without_neg_popular[\"hotel_id\"])\n",
        "len(hotels)"
      ],
      "metadata": {
        "colab": {
          "base_uri": "https://localhost:8080/"
        },
        "id": "R2DJf_TOye2i",
        "outputId": "c9e48a83-147b-4227-e1eb-c5da12eec78e"
      },
      "execution_count": 229,
      "outputs": [
        {
          "output_type": "execute_result",
          "data": {
            "text/plain": [
              "171"
            ]
          },
          "metadata": {},
          "execution_count": 229
        }
      ]
    },
    {
      "cell_type": "code",
      "source": [
        "without_neg_popular.head(3)"
      ],
      "metadata": {
        "colab": {
          "base_uri": "https://localhost:8080/",
          "height": 142
        },
        "id": "XRF68vKxyuKJ",
        "outputId": "274cab34-ea30-4206-a2fd-6a9c408b44ff"
      },
      "execution_count": 230,
      "outputs": [
        {
          "output_type": "execute_result",
          "data": {
            "text/plain": [
              "                hotel_id                                                pos  \\\n",
              "7   AWE7dKHFIxWefVJwyLgA  the_perfect_price Well_sir Gaylord_Hotel Good_...   \n",
              "11  AWE2CYSsIxWefVJwyDrn  Awesome_hotel the_really_cool_room the_other_a...   \n",
              "12  AV-TGsFqRxPSIh2RmVF-  great_location Good_location Very_pleasant_exp...   \n",
              "\n",
              "                                                  neg  \\\n",
              "7                                          small_room   \n",
              "11  The_room_rate a_Booking.com_rate no_explanatio...   \n",
              "12  a_disappointment disgrace air_con nice_too_sma...   \n",
              "\n",
              "                                            pos_top20  \n",
              "7   great_staff a_nice_area very_good_experience e...  \n",
              "11  great_happy_hour a_great_bonus beautiful_bar v...  \n",
              "12  very_friendly_staff good_location clean_linens...  "
            ],
            "text/html": [
              "\n",
              "  <div id=\"df-4f42197b-b0f0-467b-b6fa-4a2c9bfe257e\">\n",
              "    <div class=\"colab-df-container\">\n",
              "      <div>\n",
              "<style scoped>\n",
              "    .dataframe tbody tr th:only-of-type {\n",
              "        vertical-align: middle;\n",
              "    }\n",
              "\n",
              "    .dataframe tbody tr th {\n",
              "        vertical-align: top;\n",
              "    }\n",
              "\n",
              "    .dataframe thead th {\n",
              "        text-align: right;\n",
              "    }\n",
              "</style>\n",
              "<table border=\"1\" class=\"dataframe\">\n",
              "  <thead>\n",
              "    <tr style=\"text-align: right;\">\n",
              "      <th></th>\n",
              "      <th>hotel_id</th>\n",
              "      <th>pos</th>\n",
              "      <th>neg</th>\n",
              "      <th>pos_top20</th>\n",
              "    </tr>\n",
              "  </thead>\n",
              "  <tbody>\n",
              "    <tr>\n",
              "      <th>7</th>\n",
              "      <td>AWE7dKHFIxWefVJwyLgA</td>\n",
              "      <td>the_perfect_price Well_sir Gaylord_Hotel Good_...</td>\n",
              "      <td>small_room</td>\n",
              "      <td>great_staff a_nice_area very_good_experience e...</td>\n",
              "    </tr>\n",
              "    <tr>\n",
              "      <th>11</th>\n",
              "      <td>AWE2CYSsIxWefVJwyDrn</td>\n",
              "      <td>Awesome_hotel the_really_cool_room the_other_a...</td>\n",
              "      <td>The_room_rate a_Booking.com_rate no_explanatio...</td>\n",
              "      <td>great_happy_hour a_great_bonus beautiful_bar v...</td>\n",
              "    </tr>\n",
              "    <tr>\n",
              "      <th>12</th>\n",
              "      <td>AV-TGsFqRxPSIh2RmVF-</td>\n",
              "      <td>great_location Good_location Very_pleasant_exp...</td>\n",
              "      <td>a_disappointment disgrace air_con nice_too_sma...</td>\n",
              "      <td>very_friendly_staff good_location clean_linens...</td>\n",
              "    </tr>\n",
              "  </tbody>\n",
              "</table>\n",
              "</div>\n",
              "      <button class=\"colab-df-convert\" onclick=\"convertToInteractive('df-4f42197b-b0f0-467b-b6fa-4a2c9bfe257e')\"\n",
              "              title=\"Convert this dataframe to an interactive table.\"\n",
              "              style=\"display:none;\">\n",
              "        \n",
              "  <svg xmlns=\"http://www.w3.org/2000/svg\" height=\"24px\"viewBox=\"0 0 24 24\"\n",
              "       width=\"24px\">\n",
              "    <path d=\"M0 0h24v24H0V0z\" fill=\"none\"/>\n",
              "    <path d=\"M18.56 5.44l.94 2.06.94-2.06 2.06-.94-2.06-.94-.94-2.06-.94 2.06-2.06.94zm-11 1L8.5 8.5l.94-2.06 2.06-.94-2.06-.94L8.5 2.5l-.94 2.06-2.06.94zm10 10l.94 2.06.94-2.06 2.06-.94-2.06-.94-.94-2.06-.94 2.06-2.06.94z\"/><path d=\"M17.41 7.96l-1.37-1.37c-.4-.4-.92-.59-1.43-.59-.52 0-1.04.2-1.43.59L10.3 9.45l-7.72 7.72c-.78.78-.78 2.05 0 2.83L4 21.41c.39.39.9.59 1.41.59.51 0 1.02-.2 1.41-.59l7.78-7.78 2.81-2.81c.8-.78.8-2.07 0-2.86zM5.41 20L4 18.59l7.72-7.72 1.47 1.35L5.41 20z\"/>\n",
              "  </svg>\n",
              "      </button>\n",
              "      \n",
              "  <style>\n",
              "    .colab-df-container {\n",
              "      display:flex;\n",
              "      flex-wrap:wrap;\n",
              "      gap: 12px;\n",
              "    }\n",
              "\n",
              "    .colab-df-convert {\n",
              "      background-color: #E8F0FE;\n",
              "      border: none;\n",
              "      border-radius: 50%;\n",
              "      cursor: pointer;\n",
              "      display: none;\n",
              "      fill: #1967D2;\n",
              "      height: 32px;\n",
              "      padding: 0 0 0 0;\n",
              "      width: 32px;\n",
              "    }\n",
              "\n",
              "    .colab-df-convert:hover {\n",
              "      background-color: #E2EBFA;\n",
              "      box-shadow: 0px 1px 2px rgba(60, 64, 67, 0.3), 0px 1px 3px 1px rgba(60, 64, 67, 0.15);\n",
              "      fill: #174EA6;\n",
              "    }\n",
              "\n",
              "    [theme=dark] .colab-df-convert {\n",
              "      background-color: #3B4455;\n",
              "      fill: #D2E3FC;\n",
              "    }\n",
              "\n",
              "    [theme=dark] .colab-df-convert:hover {\n",
              "      background-color: #434B5C;\n",
              "      box-shadow: 0px 1px 3px 1px rgba(0, 0, 0, 0.15);\n",
              "      filter: drop-shadow(0px 1px 2px rgba(0, 0, 0, 0.3));\n",
              "      fill: #FFFFFF;\n",
              "    }\n",
              "  </style>\n",
              "\n",
              "      <script>\n",
              "        const buttonEl =\n",
              "          document.querySelector('#df-4f42197b-b0f0-467b-b6fa-4a2c9bfe257e button.colab-df-convert');\n",
              "        buttonEl.style.display =\n",
              "          google.colab.kernel.accessAllowed ? 'block' : 'none';\n",
              "\n",
              "        async function convertToInteractive(key) {\n",
              "          const element = document.querySelector('#df-4f42197b-b0f0-467b-b6fa-4a2c9bfe257e');\n",
              "          const dataTable =\n",
              "            await google.colab.kernel.invokeFunction('convertToInteractive',\n",
              "                                                     [key], {});\n",
              "          if (!dataTable) return;\n",
              "\n",
              "          const docLinkHtml = 'Like what you see? Visit the ' +\n",
              "            '<a target=\"_blank\" href=https://colab.research.google.com/notebooks/data_table.ipynb>data table notebook</a>'\n",
              "            + ' to learn more about interactive tables.';\n",
              "          element.innerHTML = '';\n",
              "          dataTable['output_type'] = 'display_data';\n",
              "          await google.colab.output.renderOutput(dataTable, element);\n",
              "          const docLink = document.createElement('div');\n",
              "          docLink.innerHTML = docLinkHtml;\n",
              "          element.appendChild(docLink);\n",
              "        }\n",
              "      </script>\n",
              "    </div>\n",
              "  </div>\n",
              "  "
            ]
          },
          "metadata": {},
          "execution_count": 230
        }
      ]
    },
    {
      "cell_type": "code",
      "source": [
        "for hotel_id in hotels:\n",
        "    neg_top = list(without_neg_popular.loc[without_neg_popular['hotel_id'] == hotel_id].neg)[0]\n",
        "    pos_top = list(without_neg_popular.loc[without_neg_popular['hotel_id'] == hotel_id].pos_top20)[0]\n",
        "\n",
        "    neg_to_normal = []\n",
        "    for el in neg_top.split():\n",
        "        neg_to_normal.append(el.replace(\"_\", \" \"))\n",
        "    \n",
        "    pos_to_normal = []\n",
        "    for el in pos_top.split():\n",
        "        pos_to_normal.append(el.replace(\"_\", \" \"))\n",
        "    \n",
        "    if hotel_id in final:\n",
        "      raise Exception(\"shouldnt be\")\n",
        "\n",
        "    final[hotel_id] = {\"neg\": neg_to_normal,\n",
        "                       \"pos\": pos_to_normal\n",
        "                       }\n",
        "\n",
        "    "
      ],
      "metadata": {
        "id": "iF8gMes-ye2r"
      },
      "execution_count": 231,
      "outputs": []
    },
    {
      "cell_type": "code",
      "source": [
        "len(final)"
      ],
      "metadata": {
        "colab": {
          "base_uri": "https://localhost:8080/"
        },
        "id": "WoePHkoyyZ44",
        "outputId": "f429e501-3497-4080-9496-31e5ef7261a9"
      },
      "execution_count": 232,
      "outputs": [
        {
          "output_type": "execute_result",
          "data": {
            "text/plain": [
              "245"
            ]
          },
          "metadata": {},
          "execution_count": 232
        }
      ]
    },
    {
      "cell_type": "code",
      "source": [
        "len(kws)"
      ],
      "metadata": {
        "colab": {
          "base_uri": "https://localhost:8080/"
        },
        "id": "mYN31NW6zW-G",
        "outputId": "0d3359e2-f8e7-4344-c237-96e13e4f67d4"
      },
      "execution_count": 234,
      "outputs": [
        {
          "output_type": "execute_result",
          "data": {
            "text/plain": [
              "2197"
            ]
          },
          "metadata": {},
          "execution_count": 234
        }
      ]
    },
    {
      "cell_type": "markdown",
      "source": [
        "заменяю на новые данные при совпадении hotel id"
      ],
      "metadata": {
        "id": "Ixt266vfzPm8"
      }
    },
    {
      "cell_type": "code",
      "source": [
        "kws.update(final)"
      ],
      "metadata": {
        "id": "R-L9T9S4yZyO"
      },
      "execution_count": 235,
      "outputs": []
    },
    {
      "cell_type": "code",
      "source": [
        "kws[\"AWE7dKHFIxWefVJwyLgA\"]"
      ],
      "metadata": {
        "colab": {
          "base_uri": "https://localhost:8080/"
        },
        "id": "VZtarKKezaRl",
        "outputId": "02d8911c-5b00-481b-f137-74e9e5ae3eac"
      },
      "execution_count": 237,
      "outputs": [
        {
          "output_type": "execute_result",
          "data": {
            "text/plain": [
              "{'neg': ['small room'],\n",
              " 'pos': ['great staff',\n",
              "  'a nice area',\n",
              "  'very good experience',\n",
              "  'excellent experience',\n",
              "  'nice views',\n",
              "  'fantastic location',\n",
              "  'nice breakfast',\n",
              "  'comfortable rooms',\n",
              "  'great value',\n",
              "  'a great stay',\n",
              "  'comfortable bed',\n",
              "  'clean room',\n",
              "  'friendly staff',\n",
              "  'lovely hotel',\n",
              "  'internet access',\n",
              "  'magazine st',\n",
              "  'its price',\n",
              "  'lovely staff',\n",
              "  'lovely rooms',\n",
              "  'key service']}"
            ]
          },
          "metadata": {},
          "execution_count": 237
        }
      ]
    },
    {
      "cell_type": "code",
      "source": [
        "with open(\"/gdrive/My Drive/nnproj/all_keywords_with_top20.json\", \"w\") as f:\n",
        "    json.dump(kws, f)\n",
        "    "
      ],
      "metadata": {
        "id": "B4OiHMxgzpOe"
      },
      "execution_count": 238,
      "outputs": []
    },
    {
      "cell_type": "code",
      "source": [
        "# with open(\"/gdrive/My Drive/nnproj/all_keywords_with_top20.json\") as f:\n",
        "#     kws = json.loads(f.read())"
      ],
      "metadata": {
        "id": "KYXd6CAbzpKY"
      },
      "execution_count": 239,
      "outputs": []
    },
    {
      "cell_type": "code",
      "source": [
        ""
      ],
      "metadata": {
        "id": "AbOk_6y5zaHM"
      },
      "execution_count": null,
      "outputs": []
    }
  ]
}