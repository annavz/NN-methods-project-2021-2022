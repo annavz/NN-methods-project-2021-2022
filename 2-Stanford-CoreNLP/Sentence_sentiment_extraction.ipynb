{
 "cells": [
  {
   "cell_type": "code",
   "execution_count": 1,
   "metadata": {},
   "outputs": [],
   "source": [
    "from pycorenlp import StanfordCoreNLP\n",
    "import spacy\n",
    "import json\n",
    "from spacy import displacy\n",
    "import pandas as pd\n",
    "from tqdm import tqdm\n",
    "from nltk import word_tokenize"
   ]
  },
  {
   "cell_type": "code",
   "execution_count": 2,
   "metadata": {},
   "outputs": [],
   "source": [
    "with open('hotel_sentences.json', 'r', encoding='utf-8') as f:\n",
    "    hotel_sentences = f.read()\n",
    "    hotel_sentences = json.loads(hotel_sentences)"
   ]
  },
  {
   "cell_type": "code",
   "execution_count": 5,
   "metadata": {},
   "outputs": [
    {
     "name": "stdout",
     "output_type": "stream",
     "text": [
      "^C\n"
     ]
    }
   ],
   "source": [
    "!java -mx6g -cp \"*\" edu.stanford.nlp.pipeline.StanfordCoreNLPServer -timeout 5000"
   ]
  },
  {
   "cell_type": "code",
   "execution_count": 14,
   "metadata": {},
   "outputs": [],
   "source": [
    "nlp = StanfordCoreNLP('http://localhost:9000')"
   ]
  },
  {
   "cell_type": "code",
   "execution_count": 19,
   "metadata": {},
   "outputs": [],
   "source": [
    "hotel_sentiment_sentences = {}"
   ]
  },
  {
   "cell_type": "code",
   "execution_count": 21,
   "metadata": {},
   "outputs": [
    {
     "name": "stderr",
     "output_type": "stream",
     "text": [
      "100%|████████████████████████████████████████████████████████████████████████████| 2197/2197 [1:37:55<00:00,  2.67s/it]\n"
     ]
    }
   ],
   "source": [
    "for id_ in tqdm(list(hotel_sentences.keys())):\n",
    "    texts = hotel_sentences[id_]\n",
    "    sentences = {'pos': [],\n",
    "                 'neg': []}\n",
    "    for text in texts:\n",
    "        result = nlp.annotate(text,\n",
    "                           properties={\n",
    "                               'annotators': 'sentiment',\n",
    "                               'outputFormat': 'json',\n",
    "                               'timeout': 10000,\n",
    "                           })\n",
    "        if result == 'CoreNLP request timed out. Your document may be too long.':\n",
    "            continue\n",
    "        else:\n",
    "            for sent in result['sentences']:\n",
    "                if int(sent['sentimentValue']) > 2:\n",
    "                    sentences['pos'].append(text)\n",
    "                elif int(sent['sentimentValue']) == 1:\n",
    "                    sentences['neg'].append(text)\n",
    "    hotel_sentiment_sentences[id_] = sentences"
   ]
  },
  {
   "cell_type": "code",
   "execution_count": 22,
   "metadata": {},
   "outputs": [],
   "source": [
    "#with open('hotel_sentiment_sentences.json', 'w', encoding='utf-8') as f:\n",
    "#    f.write(json.dumps(hotel_sentiment_sentences))"
   ]
  },
  {
   "cell_type": "code",
   "execution_count": null,
   "metadata": {},
   "outputs": [],
   "source": []
  }
 ],
 "metadata": {
  "kernelspec": {
   "display_name": "Python 3",
   "language": "python",
   "name": "python3"
  },
  "language_info": {
   "codemirror_mode": {
    "name": "ipython",
    "version": 3
   },
   "file_extension": ".py",
   "mimetype": "text/x-python",
   "name": "python",
   "nbconvert_exporter": "python",
   "pygments_lexer": "ipython3",
   "version": "3.8.3"
  }
 },
 "nbformat": 4,
 "nbformat_minor": 4
}
